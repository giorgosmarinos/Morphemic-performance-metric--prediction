{
 "cells": [
  {
   "cell_type": "code",
   "execution_count": 25,
   "metadata": {},
   "outputs": [],
   "source": [
    "import numpy as np\n",
    "import pandas as pd\n",
    "from sklearn.base import BaseEstimator, TransformerMixin\n",
    "from sklearn.impute import KNNImputer\n",
    "from sklearn.utils.validation import check_is_fitted"
   ]
  },
  {
   "cell_type": "code",
   "execution_count": 26,
   "metadata": {},
   "outputs": [],
   "source": [
    "# my data\n",
    "data = pd.read_csv('/home/giwrikas/Downloads/Morphemic_datasets/all-4 (1).csv')\n",
    "cols = [\"memory_alloc\",\"cpu_alloc\",\"cpu_usage\",\"memory\",\"number_instances\"]\n",
    "data[cols] = data[cols].replace({ 0:np.nan})\n",
    "data = data.dropna(subset=['number_instances', 'memory_alloc','cpu_alloc'])\n",
    "data = data.drop(columns=['Unnamed: 0'])\n"
   ]
  },
  {
   "cell_type": "code",
   "execution_count": 27,
   "metadata": {},
   "outputs": [
    {
     "data": {
      "text/html": [
       "<div>\n",
       "<style scoped>\n",
       "    .dataframe tbody tr th:only-of-type {\n",
       "        vertical-align: middle;\n",
       "    }\n",
       "\n",
       "    .dataframe tbody tr th {\n",
       "        vertical-align: top;\n",
       "    }\n",
       "\n",
       "    .dataframe thead th {\n",
       "        text-align: right;\n",
       "    }\n",
       "</style>\n",
       "<table border=\"1\" class=\"dataframe\">\n",
       "  <thead>\n",
       "    <tr style=\"text-align: right;\">\n",
       "      <th></th>\n",
       "      <th>served_request</th>\n",
       "      <th>request_rate</th>\n",
       "      <th>number_instances</th>\n",
       "      <th>response_time</th>\n",
       "      <th>performance</th>\n",
       "      <th>cpu_usage</th>\n",
       "      <th>cpu_alloc</th>\n",
       "      <th>memory</th>\n",
       "      <th>memory_alloc</th>\n",
       "    </tr>\n",
       "  </thead>\n",
       "  <tbody>\n",
       "    <tr>\n",
       "      <th>count</th>\n",
       "      <td>30507.000000</td>\n",
       "      <td>30507.000000</td>\n",
       "      <td>30507.000000</td>\n",
       "      <td>30507.000000</td>\n",
       "      <td>30507.000000</td>\n",
       "      <td>29608.000000</td>\n",
       "      <td>3.050700e+04</td>\n",
       "      <td>2.960900e+04</td>\n",
       "      <td>3.050700e+04</td>\n",
       "    </tr>\n",
       "    <tr>\n",
       "      <th>mean</th>\n",
       "      <td>22.391650</td>\n",
       "      <td>12.817522</td>\n",
       "      <td>1.366047</td>\n",
       "      <td>507.126627</td>\n",
       "      <td>61.012755</td>\n",
       "      <td>38.267329</td>\n",
       "      <td>5.318124e+07</td>\n",
       "      <td>3.148796e+07</td>\n",
       "      <td>6.031931e+07</td>\n",
       "    </tr>\n",
       "    <tr>\n",
       "      <th>std</th>\n",
       "      <td>63.763675</td>\n",
       "      <td>37.790600</td>\n",
       "      <td>0.790343</td>\n",
       "      <td>2753.332913</td>\n",
       "      <td>41.012945</td>\n",
       "      <td>9.283774</td>\n",
       "      <td>1.058040e+08</td>\n",
       "      <td>6.424793e+06</td>\n",
       "      <td>1.064008e+08</td>\n",
       "    </tr>\n",
       "    <tr>\n",
       "      <th>min</th>\n",
       "      <td>0.000000</td>\n",
       "      <td>0.000000</td>\n",
       "      <td>1.000000</td>\n",
       "      <td>0.000000</td>\n",
       "      <td>0.000000</td>\n",
       "      <td>14.866667</td>\n",
       "      <td>2.000000e+00</td>\n",
       "      <td>2.083499e+06</td>\n",
       "      <td>3.200000e+01</td>\n",
       "    </tr>\n",
       "    <tr>\n",
       "      <th>25%</th>\n",
       "      <td>0.000000</td>\n",
       "      <td>0.000000</td>\n",
       "      <td>1.000000</td>\n",
       "      <td>0.000000</td>\n",
       "      <td>7.965264</td>\n",
       "      <td>30.700000</td>\n",
       "      <td>2.000000e+00</td>\n",
       "      <td>2.705818e+07</td>\n",
       "      <td>5.600000e+01</td>\n",
       "    </tr>\n",
       "    <tr>\n",
       "      <th>50%</th>\n",
       "      <td>1.000000</td>\n",
       "      <td>0.333333</td>\n",
       "      <td>1.000000</td>\n",
       "      <td>1.519786</td>\n",
       "      <td>66.744838</td>\n",
       "      <td>39.233333</td>\n",
       "      <td>2.000000e+00</td>\n",
       "      <td>3.301786e+07</td>\n",
       "      <td>5.600000e+01</td>\n",
       "    </tr>\n",
       "    <tr>\n",
       "      <th>75%</th>\n",
       "      <td>22.111111</td>\n",
       "      <td>10.142857</td>\n",
       "      <td>1.000000</td>\n",
       "      <td>7.311278</td>\n",
       "      <td>100.000000</td>\n",
       "      <td>45.433333</td>\n",
       "      <td>7.000000e+00</td>\n",
       "      <td>3.570483e+07</td>\n",
       "      <td>5.600000e+01</td>\n",
       "    </tr>\n",
       "    <tr>\n",
       "      <th>max</th>\n",
       "      <td>636.000000</td>\n",
       "      <td>322.000000</td>\n",
       "      <td>5.000000</td>\n",
       "      <td>55029.395103</td>\n",
       "      <td>218.222552</td>\n",
       "      <td>73.400000</td>\n",
       "      <td>4.000000e+08</td>\n",
       "      <td>5.108668e+07</td>\n",
       "      <td>2.480000e+08</td>\n",
       "    </tr>\n",
       "  </tbody>\n",
       "</table>\n",
       "</div>"
      ],
      "text/plain": [
       "       served_request  request_rate  number_instances  response_time  \\\n",
       "count    30507.000000  30507.000000      30507.000000   30507.000000   \n",
       "mean        22.391650     12.817522          1.366047     507.126627   \n",
       "std         63.763675     37.790600          0.790343    2753.332913   \n",
       "min          0.000000      0.000000          1.000000       0.000000   \n",
       "25%          0.000000      0.000000          1.000000       0.000000   \n",
       "50%          1.000000      0.333333          1.000000       1.519786   \n",
       "75%         22.111111     10.142857          1.000000       7.311278   \n",
       "max        636.000000    322.000000          5.000000   55029.395103   \n",
       "\n",
       "        performance     cpu_usage     cpu_alloc        memory  memory_alloc  \n",
       "count  30507.000000  29608.000000  3.050700e+04  2.960900e+04  3.050700e+04  \n",
       "mean      61.012755     38.267329  5.318124e+07  3.148796e+07  6.031931e+07  \n",
       "std       41.012945      9.283774  1.058040e+08  6.424793e+06  1.064008e+08  \n",
       "min        0.000000     14.866667  2.000000e+00  2.083499e+06  3.200000e+01  \n",
       "25%        7.965264     30.700000  2.000000e+00  2.705818e+07  5.600000e+01  \n",
       "50%       66.744838     39.233333  2.000000e+00  3.301786e+07  5.600000e+01  \n",
       "75%      100.000000     45.433333  7.000000e+00  3.570483e+07  5.600000e+01  \n",
       "max      218.222552     73.400000  4.000000e+08  5.108668e+07  2.480000e+08  "
      ]
     },
     "execution_count": 27,
     "metadata": {},
     "output_type": "execute_result"
    }
   ],
   "source": [
    "# Data Description\n",
    "data.describe()"
   ]
  },
  {
   "cell_type": "code",
   "execution_count": 66,
   "metadata": {},
   "outputs": [
    {
     "data": {
      "text/plain": [
       "<matplotlib.axes._subplots.AxesSubplot at 0x7f5bedc60d10>"
      ]
     },
     "execution_count": 66,
     "metadata": {},
     "output_type": "execute_result"
    },
    {
     "data": {
      "image/png": "[encoded data removed]",
      "text/plain": [
       "<Figure size 432x288 with 1 Axes>"
      ]
     },
     "metadata": {
      "needs_background": "light"
     },
     "output_type": "display_data"
    }
   ],
   "source": [
    "data['performance'].plot()"
   ]
  },
  {
   "cell_type": "code",
   "execution_count": 78,
   "metadata": {},
   "outputs": [
    {
     "data": {
      "text/plain": [
       "<matplotlib.axes._subplots.AxesSubplot at 0x7f5bee91c350>"
      ]
     },
     "execution_count": 78,
     "metadata": {},
     "output_type": "execute_result"
    },
    {
     "data": {
      "image/png": "[encoded data removed]",
      "text/plain": [
       "<Figure size 432x288 with 1 Axes>"
      ]
     },
     "metadata": {
      "needs_background": "light"
     },
     "output_type": "display_data"
    }
   ],
   "source": [
    "data['served_request'].plot()"
   ]
  },
  {
   "cell_type": "code",
   "execution_count": 31,
   "metadata": {},
   "outputs": [
    {
     "data": {
      "text/plain": [
       "<matplotlib.axes._subplots.AxesSubplot at 0x7f5bedcf33d0>"
      ]
     },
     "execution_count": 31,
     "metadata": {},
     "output_type": "execute_result"
    },
    {
     "data": {
      "image/png": "[encoded data removed]",
      "text/plain": [
       "<Figure size 432x288 with 1 Axes>"
      ]
     },
     "metadata": {
      "needs_background": "light"
     },
     "output_type": "display_data"
    }
   ],
   "source": [
    "data['response_time'].plot()"
   ]
  },
  {
   "cell_type": "code",
   "execution_count": 19,
   "metadata": {},
   "outputs": [
    {
     "data": {
      "text/plain": [
       "<matplotlib.axes._subplots.AxesSubplot at 0x7f6e117aadd0>"
      ]
     },
     "execution_count": 19,
     "metadata": {},
     "output_type": "execute_result"
    },
    {
     "data": {
      "image/png": "[encoded data removed]",
      "text/plain": [
       "<Figure size 432x288 with 1 Axes>"
      ]
     },
     "metadata": {
      "needs_background": "light"
     },
     "output_type": "display_data"
    }
   ],
   "source": [
    "data['number_instances'].plot()"
   ]
  },
  {
   "cell_type": "code",
   "execution_count": 20,
   "metadata": {},
   "outputs": [
    {
     "data": {
      "text/plain": [
       "<matplotlib.axes._subplots.AxesSubplot at 0x7f6e12abb650>"
      ]
     },
     "execution_count": 20,
     "metadata": {},
     "output_type": "execute_result"
    },
    {
     "data": {
      "image/png": "[encoded data removed]",
      "text/plain": [
       "<Figure size 432x288 with 1 Axes>"
      ]
     },
     "metadata": {
      "needs_background": "light"
     },
     "output_type": "display_data"
    }
   ],
   "source": [
    "data['cpu_alloc'].plot()"
   ]
  },
  {
   "cell_type": "code",
   "execution_count": 21,
   "metadata": {},
   "outputs": [
    {
     "data": {
      "text/plain": [
       "<matplotlib.axes._subplots.AxesSubplot at 0x7f6e116a4350>"
      ]
     },
     "execution_count": 21,
     "metadata": {},
     "output_type": "execute_result"
    },
    {
     "data": {
      "image/png": "[encoded data removed]",
      "text/plain": [
       "<Figure size 432x288 with 1 Axes>"
      ]
     },
     "metadata": {
      "needs_background": "light"
     },
     "output_type": "display_data"
    }
   ],
   "source": [
    "data['memory_alloc'].plot()"
   ]
  },
  {
   "cell_type": "code",
   "execution_count": 23,
   "metadata": {},
   "outputs": [
    {
     "data": {
      "image/png": "[encoded data removed]",
      "text/plain": [
       "<Figure size 540x540 with 12 Axes>"
      ]
     },
     "metadata": {
      "needs_background": "light"
     },
     "output_type": "display_data"
    }
   ],
   "source": [
    "import seaborn as sns\n",
    "sns.pairplot(data = data, vars=['number_instances','memory_alloc','cpu_alloc'])\n",
    "plt.show()"
   ]
  },
  {
   "cell_type": "code",
   "execution_count": 24,
   "metadata": {},
   "outputs": [
    {
     "data": {
      "image/png": "[encoded data removed]",
      "text/plain": [
       "<Figure size 540x540 with 12 Axes>"
      ]
     },
     "metadata": {
      "needs_background": "light"
     },
     "output_type": "display_data"
    }
   ],
   "source": [
    "import seaborn as sns\n",
    "sns.pairplot(data = data, vars=['performance','served_request','response_time'])\n",
    "plt.show()"
   ]
  },
  {
   "cell_type": "markdown",
   "metadata": {},
   "source": [
    "### Here we are doing a minor modification at the data in order not to have values like 1000000000.0 (and not to observe very big deviation)"
   ]
  },
  {
   "cell_type": "code",
   "execution_count": 28,
   "metadata": {},
   "outputs": [],
   "source": [
    "data['cpu_alloc'] = data['cpu_alloc'].replace(100000000.0, 1)\n",
    "data['cpu_alloc'] = data['cpu_alloc'].replace(200000000.0, 2)\n",
    "data['cpu_alloc'] = data['cpu_alloc'].replace(300000000.0, 3)\n",
    "data['cpu_alloc'] = data['cpu_alloc'].replace(400000000.0, 4)"
   ]
  },
  {
   "cell_type": "code",
   "execution_count": 29,
   "metadata": {},
   "outputs": [],
   "source": [
    "data['memory_alloc'] = data['memory_alloc'].replace(248000000.0, 248)"
   ]
  },
  {
   "cell_type": "code",
   "execution_count": null,
   "metadata": {},
   "outputs": [],
   "source": []
  },
  {
   "cell_type": "markdown",
   "metadata": {},
   "source": [
    "# Missing Values Imputation \n",
    "#### We are using an inheritance from the sklearn.base classes (BaseEstimator, TransformerMixin). "
   ]
  },
  {
   "cell_type": "markdown",
   "metadata": {},
   "source": [
    "# Group Data according to configuration and then for each configuration take the mean or the meadian"
   ]
  },
  {
   "cell_type": "code",
   "execution_count": 47,
   "metadata": {},
   "outputs": [
    {
     "name": "stdout",
     "output_type": "stream",
     "text": [
      "    number_instances  cpu_alloc  memory_alloc  served_request\n",
      "0                1.0        1.0         248.0       22.333333\n",
      "1                1.0        2.0          32.0        0.000000\n",
      "2                1.0        2.0          48.0      636.000000\n",
      "3                1.0        2.0          56.0        0.000000\n",
      "4                1.0        2.0         248.0       44.666667\n",
      "5                1.0        3.0          32.0        5.000000\n",
      "6                1.0        3.0         248.0       72.333333\n",
      "7                1.0        4.0         248.0       90.666667\n",
      "8                1.0        6.0          32.0       58.333333\n",
      "9                2.0        1.0         248.0       25.200000\n",
      "10               2.0        2.0         248.0       46.800000\n",
      "11               2.0        3.0         248.0       72.400000\n",
      "12               2.0        6.0          32.0      141.000000\n",
      "13               2.0        7.0          32.0        0.600000\n",
      "14               3.0        1.0         248.0       24.285714\n",
      "15               3.0        2.0         248.0       40.571429\n",
      "16               3.0        3.0         248.0       64.571429\n",
      "17               4.0        1.0         248.0       25.888889\n",
      "18               4.0        2.0         248.0       30.000000\n",
      "19               5.0        1.0         248.0       22.111111\n",
      "    number_instances  cpu_alloc  memory_alloc  request_rate\n",
      "0                1.0        1.0         248.0     13.666667\n",
      "1                1.0        2.0          32.0      0.000000\n",
      "2                1.0        2.0          48.0    322.000000\n",
      "3                1.0        2.0          56.0      0.333333\n",
      "4                1.0        2.0         248.0     27.000000\n",
      "5                1.0        3.0          32.0      5.333333\n",
      "6                1.0        3.0         248.0     43.666667\n",
      "7                1.0        4.0         248.0     49.333333\n",
      "8                1.0        6.0          32.0     93.000000\n",
      "9                2.0        1.0         248.0     12.400000\n",
      "10               2.0        2.0         248.0     22.600000\n",
      "11               2.0        3.0         248.0     40.000000\n",
      "12               2.0        6.0          32.0     93.000000\n",
      "13               2.0        7.0          32.0      0.000000\n",
      "14               3.0        1.0         248.0     11.714286\n",
      "15               3.0        2.0         248.0     17.714286\n",
      "16               3.0        3.0         248.0     30.571429\n",
      "17               4.0        1.0         248.0     11.333333\n",
      "18               4.0        2.0         248.0     13.444444\n",
      "19               5.0        1.0         248.0      9.727273\n",
      "    number_instances  cpu_alloc  memory_alloc  response_time\n",
      "0                1.0        1.0         248.0    1534.365489\n",
      "1                1.0        2.0          32.0       0.000000\n",
      "2                1.0        2.0          48.0       1.713637\n",
      "3                1.0        2.0          56.0       0.932640\n",
      "4                1.0        2.0         248.0      60.260691\n",
      "5                1.0        3.0          32.0    5497.187016\n",
      "6                1.0        3.0         248.0      23.336587\n",
      "7                1.0        4.0         248.0      18.219075\n",
      "8                1.0        6.0          32.0    1112.422327\n",
      "9                2.0        1.0         248.0     891.719454\n",
      "10               2.0        2.0         248.0     402.751368\n",
      "11               2.0        3.0         248.0      18.147524\n",
      "12               2.0        6.0          32.0     558.213390\n",
      "13               2.0        7.0          32.0       1.157313\n",
      "14               3.0        1.0         248.0     500.569924\n",
      "15               3.0        2.0         248.0      31.047036\n",
      "16               3.0        3.0         248.0       8.856684\n",
      "17               4.0        1.0         248.0     339.483768\n",
      "18               4.0        2.0         248.0       2.964059\n",
      "19               5.0        1.0         248.0     285.701806\n",
      "    number_instances  cpu_alloc  memory_alloc  performance\n",
      "0                1.0        1.0         248.0     0.006061\n",
      "1                1.0        2.0          32.0     0.000000\n",
      "2                1.0        2.0          48.0   199.548753\n",
      "3                1.0        2.0          56.0   100.000000\n",
      "4                1.0        2.0         248.0     0.741853\n",
      "5                1.0        3.0          32.0     0.000915\n",
      "6                1.0        3.0         248.0     1.754803\n",
      "7                1.0        4.0         248.0     7.217879\n",
      "8                1.0        6.0          32.0     0.068473\n",
      "9                2.0        1.0         248.0     0.246247\n",
      "10               2.0        2.0         248.0     1.574004\n",
      "11               2.0        3.0         248.0     3.963572\n",
      "12               2.0        6.0          32.0     0.068473\n",
      "13               2.0        7.0          32.0   100.000000\n",
      "14               3.0        1.0         248.0     0.379258\n",
      "15               3.0        2.0         248.0     1.530771\n",
      "16               3.0        3.0         248.0    10.202169\n",
      "17               4.0        1.0         248.0     0.201961\n",
      "18               4.0        2.0         248.0     8.112370\n",
      "19               5.0        1.0         248.0     0.440517\n",
      "    number_instances  cpu_alloc  memory_alloc  cpu_usage\n",
      "0                1.0        1.0         248.0  24.400000\n",
      "1                1.0        2.0          32.0  32.383333\n",
      "2                1.0        2.0          48.0  29.200000\n",
      "3                1.0        2.0          56.0  41.900000\n",
      "4                1.0        2.0         248.0  28.433333\n",
      "5                1.0        3.0          32.0  35.600000\n",
      "6                1.0        3.0         248.0  30.866667\n",
      "7                1.0        4.0         248.0  30.566667\n",
      "8                1.0        6.0          32.0  45.066667\n",
      "9                2.0        1.0         248.0  24.240000\n",
      "10               2.0        2.0         248.0  43.240000\n",
      "11               2.0        3.0         248.0  41.560000\n",
      "12               2.0        6.0          32.0  45.066667\n",
      "13               2.0        7.0          32.0  39.160000\n",
      "14               3.0        1.0         248.0  31.085714\n",
      "15               3.0        2.0         248.0  61.842857\n",
      "16               3.0        3.0         248.0  41.142857\n",
      "17               4.0        1.0         248.0  37.933333\n",
      "18               4.0        2.0         248.0  48.688889\n",
      "19               5.0        1.0         248.0  58.672727\n",
      "    number_instances  cpu_alloc  memory_alloc        memory\n",
      "0                1.0        1.0         248.0  3.696367e+07\n",
      "1                1.0        2.0          32.0  7.603541e+06\n",
      "2                1.0        2.0          48.0  3.240892e+07\n",
      "3                1.0        2.0          56.0  3.215906e+07\n",
      "4                1.0        2.0         248.0  3.867443e+07\n",
      "5                1.0        3.0          32.0  7.021909e+06\n",
      "6                1.0        3.0         248.0  3.812966e+07\n",
      "7                1.0        4.0         248.0  3.780745e+07\n",
      "8                1.0        6.0          32.0  5.108668e+07\n",
      "9                2.0        1.0         248.0  4.007363e+07\n",
      "10               2.0        2.0         248.0  3.412582e+07\n",
      "11               2.0        3.0         248.0  3.225108e+07\n",
      "12               2.0        6.0          32.0  5.108668e+07\n",
      "13               2.0        7.0          32.0  3.309404e+07\n",
      "14               3.0        1.0         248.0  3.536486e+07\n",
      "15               3.0        2.0         248.0  3.443800e+07\n",
      "16               3.0        3.0         248.0  3.618933e+07\n",
      "17               4.0        1.0         248.0  3.385754e+07\n",
      "18               4.0        2.0         248.0  2.769533e+07\n",
      "19               5.0        1.0         248.0  3.304057e+07\n",
      "data contains 0 missing values.\n",
      "df_imp contains 0 missing values.\n",
      "data contains 0 missing values.\n",
      "df_imp contains 0 missing values.\n",
      "data contains 0 missing values.\n",
      "df_imp contains 0 missing values.\n",
      "data contains 0 missing values.\n",
      "df_imp contains 0 missing values.\n",
      "data contains 899 missing values.\n",
      "df_imp contains 0 missing values.\n",
      "data contains 898 missing values.\n",
      "df_imp contains 0 missing values.\n"
     ]
    }
   ],
   "source": [
    "#Missing Values Imputation \n",
    "\n",
    "class GroupImputer(BaseEstimator, TransformerMixin):\n",
    "    '''\n",
    "    Class used for imputing missing values in a pd.DataFrame using either mean or median of a group.\n",
    "\n",
    "    Parameters\n",
    "    ----------\n",
    "    group_cols : list\n",
    "        List of columns used for calculating the aggregated value\n",
    "    target : str\n",
    "        The name of the column to impute\n",
    "    metric : str\n",
    "        The metric to be used for remplacement, can be one of ['mean', 'median']\n",
    "    Returns\n",
    "    -------\n",
    "    X : array-like\n",
    "        The array with imputed values in the target column\n",
    "    '''\n",
    "\n",
    "    def __init__(self, group_cols, target, metric='mean'):\n",
    "        assert metric in ['mean', 'median'], 'Unrecognized value for metric, should be mean/median'\n",
    "        #assert type(group_cols) == list, 'group_cols should be a list of columns'\n",
    "        assert type(target) == str, 'target should be a string'\n",
    "\n",
    "        self.group_cols = group_cols\n",
    "        self.target = target\n",
    "        self.metric = metric\n",
    "\n",
    "    def fit(self, X, y=None):\n",
    "        assert pd.isnull(X[self.group_cols]).any(axis=None) == False, 'There are missing values in group_cols'\n",
    "\n",
    "        impute_map = X.groupby(self.group_cols)[self.target].agg(self.metric).reset_index(drop=False)#\n",
    "        \n",
    "        print(impute_map)\n",
    "        self.impute_map_ = impute_map\n",
    "\n",
    "        return self\n",
    "\n",
    "    def transform(self, X, y=None):\n",
    "        # make sure that the imputer was fitted\n",
    "        check_is_fitted(self, 'impute_map_')\n",
    "\n",
    "        X = X.copy()\n",
    "\n",
    "        for index, row in self.impute_map_.iterrows():\n",
    "            ind = (X[self.group_cols] == row[self.group_cols]).all(axis=1)\n",
    "            X.loc[ind] = X.loc[ind].fillna(row[self.target])\n",
    "\n",
    "        return X.values\n",
    "\n",
    "\n",
    "conf_columns = ['number_instances', 'cpu_alloc', 'memory_alloc' ]\n",
    "\n",
    "for col_name in data.columns:\n",
    "    if col_name != 'number_instances' and col_name != 'cpu_alloc' and col_name!= 'memory_alloc' :\n",
    "\n",
    "        imp = GroupImputer(group_cols=conf_columns,\n",
    "                           target=col_name,\n",
    "                           metric='median')\n",
    "\n",
    "        df_imp = pd.DataFrame(imp.fit_transform(data),\n",
    "                              columns=data.columns)\n",
    "\n",
    "\n",
    "\n",
    "for col_name in data.columns:\n",
    "    if col_name != 'number_instances' and col_name != 'cpu_alloc' and col_name!= 'memory_alloc' :\n",
    "\n",
    "        print(f'data contains {sum(pd.isnull(data[col_name]))} missing values.')\n",
    "        print(f'df_imp contains {sum(pd.isnull(df_imp[col_name]))} missing values.')\n",
    "\n"
   ]
  },
  {
   "cell_type": "code",
   "execution_count": 220,
   "metadata": {},
   "outputs": [
    {
     "data": {
      "text/plain": [
       "served_request      0\n",
       "request_rate        0\n",
       "number_instances    0\n",
       "response_time       0\n",
       "performance         0\n",
       "cpu_usage           0\n",
       "cpu_alloc           0\n",
       "memory              0\n",
       "memory_alloc        0\n",
       "dtype: int64"
      ]
     },
     "execution_count": 220,
     "metadata": {},
     "output_type": "execute_result"
    }
   ],
   "source": [
    "df_imp.isna().sum()"
   ]
  },
  {
   "cell_type": "markdown",
   "metadata": {},
   "source": [
    "# Create a dataframe for each configuration, apply KNN missing value imputation and  return a unified dataframe without missing values"
   ]
  },
  {
   "cell_type": "markdown",
   "metadata": {},
   "source": [
    "# Create a class that returns a list with dataframes. Each DataFrame corresponds to each configuration. *This dataset has 20 unique Configurations*"
   ]
  },
  {
   "cell_type": "code",
   "execution_count": 8,
   "metadata": {},
   "outputs": [],
   "source": [
    "data_cols = data.columns\n",
    "\n",
    "def split(df, group_cols):\n",
    "     gb = df.groupby(group_cols)\n",
    "     return [gb.get_group(x) for x in gb.groups]\n",
    "\n",
    "group_cols  = ['number_instances', 'cpu_alloc', 'memory_alloc' ]\n",
    "data = split(data,group_cols )\n"
   ]
  },
  {
   "cell_type": "markdown",
   "metadata": {},
   "source": [
    "## Check in which dataset appears nan values, and how many they are"
   ]
  },
  {
   "cell_type": "code",
   "execution_count": 9,
   "metadata": {
    "scrolled": true
   },
   "outputs": [
    {
     "name": "stdout",
     "output_type": "stream",
     "text": [
      "served_request      0\n",
      "request_rate        0\n",
      "number_instances    0\n",
      "response_time       0\n",
      "performance         0\n",
      "cpu_usage           0\n",
      "cpu_alloc           0\n",
      "memory              0\n",
      "memory_alloc        0\n",
      "dtype: int64 served_request        0\n",
      "request_rate          0\n",
      "number_instances      0\n",
      "response_time         0\n",
      "performance           0\n",
      "cpu_usage           491\n",
      "cpu_alloc             0\n",
      "memory              498\n",
      "memory_alloc          0\n",
      "dtype: int64 served_request      0\n",
      "request_rate        0\n",
      "number_instances    0\n",
      "response_time       0\n",
      "performance         0\n",
      "cpu_usage           0\n",
      "cpu_alloc           0\n",
      "memory              0\n",
      "memory_alloc        0\n",
      "dtype: int64 served_request       0\n",
      "request_rate         0\n",
      "number_instances     0\n",
      "response_time        0\n",
      "performance          0\n",
      "cpu_usage            6\n",
      "cpu_alloc            0\n",
      "memory              28\n",
      "memory_alloc         0\n",
      "dtype: int64 served_request      0\n",
      "request_rate        0\n",
      "number_instances    0\n",
      "response_time       0\n",
      "performance         0\n",
      "cpu_usage           0\n",
      "cpu_alloc           0\n",
      "memory              0\n",
      "memory_alloc        0\n",
      "dtype: int64 served_request        0\n",
      "request_rate          0\n",
      "number_instances      0\n",
      "response_time         0\n",
      "performance           0\n",
      "cpu_usage           359\n",
      "cpu_alloc             0\n",
      "memory              366\n",
      "memory_alloc          0\n",
      "dtype: int64 served_request       0\n",
      "request_rate         0\n",
      "number_instances     0\n",
      "response_time        0\n",
      "performance          0\n",
      "cpu_usage           12\n",
      "cpu_alloc            0\n",
      "memory               0\n",
      "memory_alloc         0\n",
      "dtype: int64 served_request      0\n",
      "request_rate        0\n",
      "number_instances    0\n",
      "response_time       0\n",
      "performance         0\n",
      "cpu_usage           0\n",
      "cpu_alloc           0\n",
      "memory              0\n",
      "memory_alloc        0\n",
      "dtype: int64 served_request      0\n",
      "request_rate        0\n",
      "number_instances    0\n",
      "response_time       0\n",
      "performance         0\n",
      "cpu_usage           0\n",
      "cpu_alloc           0\n",
      "memory              0\n",
      "memory_alloc        0\n",
      "dtype: int64 served_request      0\n",
      "request_rate        0\n",
      "number_instances    0\n",
      "response_time       0\n",
      "performance         0\n",
      "cpu_usage           0\n",
      "cpu_alloc           0\n",
      "memory              0\n",
      "memory_alloc        0\n",
      "dtype: int64 served_request      0\n",
      "request_rate        0\n",
      "number_instances    0\n",
      "response_time       0\n",
      "performance         0\n",
      "cpu_usage           6\n",
      "cpu_alloc           0\n",
      "memory              0\n",
      "memory_alloc        0\n",
      "dtype: int64 served_request      0\n",
      "request_rate        0\n",
      "number_instances    0\n",
      "response_time       0\n",
      "performance         0\n",
      "cpu_usage           5\n",
      "cpu_alloc           0\n",
      "memory              1\n",
      "memory_alloc        0\n",
      "dtype: int64 served_request      0\n",
      "request_rate        0\n",
      "number_instances    0\n",
      "response_time       0\n",
      "performance         0\n",
      "cpu_usage           0\n",
      "cpu_alloc           0\n",
      "memory              0\n",
      "memory_alloc        0\n",
      "dtype: int64 served_request      0\n",
      "request_rate        0\n",
      "number_instances    0\n",
      "response_time       0\n",
      "performance         0\n",
      "cpu_usage           2\n",
      "cpu_alloc           0\n",
      "memory              5\n",
      "memory_alloc        0\n",
      "dtype: int64 served_request      0\n",
      "request_rate        0\n",
      "number_instances    0\n",
      "response_time       0\n",
      "performance         0\n",
      "cpu_usage           0\n",
      "cpu_alloc           0\n",
      "memory              0\n",
      "memory_alloc        0\n",
      "dtype: int64 served_request      0\n",
      "request_rate        0\n",
      "number_instances    0\n",
      "response_time       0\n",
      "performance         0\n",
      "cpu_usage           0\n",
      "cpu_alloc           0\n",
      "memory              0\n",
      "memory_alloc        0\n",
      "dtype: int64 served_request      0\n",
      "request_rate        0\n",
      "number_instances    0\n",
      "response_time       0\n",
      "performance         0\n",
      "cpu_usage           0\n",
      "cpu_alloc           0\n",
      "memory              0\n",
      "memory_alloc        0\n",
      "dtype: int64 served_request      0\n",
      "request_rate        0\n",
      "number_instances    0\n",
      "response_time       0\n",
      "performance         0\n",
      "cpu_usage           0\n",
      "cpu_alloc           0\n",
      "memory              0\n",
      "memory_alloc        0\n",
      "dtype: int64 served_request       0\n",
      "request_rate         0\n",
      "number_instances     0\n",
      "response_time        0\n",
      "performance          0\n",
      "cpu_usage           11\n",
      "cpu_alloc            0\n",
      "memory               0\n",
      "memory_alloc         0\n",
      "dtype: int64 served_request      0\n",
      "request_rate        0\n",
      "number_instances    0\n",
      "response_time       0\n",
      "performance         0\n",
      "cpu_usage           7\n",
      "cpu_alloc           0\n",
      "memory              0\n",
      "memory_alloc        0\n",
      "dtype: int64\n"
     ]
    }
   ],
   "source": [
    "print(data[0].isna().sum(),\n",
    "data[1].isna().sum(),\n",
    "data[2].isna().sum(),\n",
    "data[3].isna().sum(),\n",
    "data[4].isna().sum(),\n",
    "data[5].isna().sum(),\n",
    "data[6].isna().sum(),\n",
    "data[7].isna().sum(),\n",
    "data[8].isna().sum(),\n",
    "data[9].isna().sum(),\n",
    "data[10].isna().sum(),\n",
    "data[11].isna().sum(),\n",
    "data[12].isna().sum(),\n",
    "data[13].isna().sum(),\n",
    "data[14].isna().sum(),\n",
    "data[15].isna().sum(),\n",
    "data[16].isna().sum(),\n",
    "data[17].isna().sum(),\n",
    "data[18].isna().sum(),\n",
    "data[19].isna().sum())\n"
   ]
  },
  {
   "cell_type": "markdown",
   "metadata": {},
   "source": [
    "# Use this loop to try different algorithms for missing values imputation "
   ]
  },
  {
   "cell_type": "code",
   "execution_count": 10,
   "metadata": {
    "scrolled": true
   },
   "outputs": [
    {
     "name": "stderr",
     "output_type": "stream",
     "text": [
      "Using TensorFlow backend.\n"
     ]
    }
   ],
   "source": [
    "import numpy as np\n",
    "from sklearn.impute import KNNImputer\n",
    "from sklearn.experimental import enable_iterative_imputer\n",
    "from sklearn.impute import IterativeImputer\n",
    "from fancyimpute import KNN, NuclearNormMinimization, SoftImpute, BiScaler, IterativeSVD\n",
    "\n",
    "imputer = KNNImputer(n_neighbors=3)\n",
    "#imputer = IterativeImputer(random_state=0)\n",
    "\n",
    "df = pd.DataFrame(columns = data_cols)\n",
    "list = []\n",
    "for i in data:\n",
    "    i = imputer.fit_transform(i)\n",
    "    #i = BiScaler().fit_transform(i)\n",
    "    #i = fast_knn(i.values, k=3)\n",
    "    j = pd.DataFrame(i, columns = data_cols)\n",
    "    list.append(j)\n",
    "    df_imp = pd.concat(list, axis=0,  ignore_index=True)\n",
    "    \n"
   ]
  },
  {
   "cell_type": "markdown",
   "metadata": {},
   "source": [
    "## The same below were found somewhere in stackoverflow, I leave them here just in case we need them (in future)"
   ]
  },
  {
   "cell_type": "code",
   "execution_count": 16,
   "metadata": {
    "scrolled": true
   },
   "outputs": [],
   "source": [
    "from sklearn.neighbors import KNeighborsRegressor\n",
    "\n",
    "# function for KNN model-based imputation of missing values using features without NaN as predictors\n",
    "def impute_model_basic(df):\n",
    "  cols_nan = df.columns[df.isna().any()].tolist()\n",
    "  cols_no_nan = df.columns.difference(cols_nan).values\n",
    "  for col in cols_nan:\n",
    "      test_data = df[df[col].isna()]\n",
    "      train_data = df.dropna()\n",
    "      knr = KNeighborsRegressor(n_neighbors=5).fit(train_data[cols_no_nan], train_data[col])\n",
    "      df.loc[df[col].isna(), col] = knr.predict(test_data[cols_no_nan])\n",
    "  return df\n",
    "\n",
    "df = pd.DataFrame(columns = data_cols)\n",
    "list = []\n",
    "for i in data:\n",
    "    i = impute_model_basic(i)\n",
    "    list.append(i)\n",
    "    df_imp = pd.concat(list, axis=0,  ignore_index=True)"
   ]
  },
  {
   "cell_type": "code",
   "execution_count": 22,
   "metadata": {},
   "outputs": [],
   "source": [
    "def impute_model_progressive(df):\n",
    "  cols_nan = df.columns[df.isna().any()].tolist()\n",
    "  cols_no_nan = df.columns.difference(cols_nan).values\n",
    "  while len(cols_nan)!=0:\n",
    "      col = cols_nan[0]\n",
    "      test_data = df[df[col].isna()]\n",
    "      train_data = df.dropna()\n",
    "      knr = KNeighborsRegressor(n_neighbors=5).fit(train_data[cols_no_nan], train_data[col])\n",
    "      df.loc[df[col].isna(), col] = knr.predict(test_data[cols_no_nan])\n",
    "      cols_nan = df.columns[df.isna().any()].tolist()\n",
    "      cols_no_nan = df.columns.difference(cols_nan).values\n",
    "  return df\n",
    "\n",
    "\n",
    "df = pd.DataFrame(columns = data_cols)\n",
    "list = []\n",
    "for i in data:\n",
    "    i = impute_model_basic(i)\n",
    "    list.append(i)\n",
    "    df_imp = pd.concat(list, axis=0,  ignore_index=True)\n"
   ]
  },
  {
   "cell_type": "code",
   "execution_count": 14,
   "metadata": {},
   "outputs": [
    {
     "name": "stdout",
     "output_type": "stream",
     "text": [
      "5 4 8\n"
     ]
    }
   ],
   "source": [
    "print(len(df['number_instances'].unique()), \n",
    "len(df['memory_alloc'].unique()),\n",
    "len(df['cpu_alloc'].unique()))"
   ]
  },
  {
   "cell_type": "code",
   "execution_count": null,
   "metadata": {},
   "outputs": [],
   "source": []
  },
  {
   "cell_type": "code",
   "execution_count": 12,
   "metadata": {},
   "outputs": [
    {
     "data": {
      "text/html": [
       "<div>\n",
       "<style scoped>\n",
       "    .dataframe tbody tr th:only-of-type {\n",
       "        vertical-align: middle;\n",
       "    }\n",
       "\n",
       "    .dataframe tbody tr th {\n",
       "        vertical-align: top;\n",
       "    }\n",
       "\n",
       "    .dataframe thead th {\n",
       "        text-align: right;\n",
       "    }\n",
       "</style>\n",
       "<table border=\"1\" class=\"dataframe\">\n",
       "  <thead>\n",
       "    <tr style=\"text-align: right;\">\n",
       "      <th></th>\n",
       "      <th>served_request</th>\n",
       "      <th>request_rate</th>\n",
       "      <th>number_instances</th>\n",
       "      <th>response_time</th>\n",
       "      <th>performance</th>\n",
       "      <th>cpu_usage</th>\n",
       "      <th>cpu_alloc</th>\n",
       "      <th>memory</th>\n",
       "      <th>memory_alloc</th>\n",
       "    </tr>\n",
       "  </thead>\n",
       "  <tbody>\n",
       "    <tr>\n",
       "      <th>count</th>\n",
       "      <td>30507.000000</td>\n",
       "      <td>30507.000000</td>\n",
       "      <td>30507.000000</td>\n",
       "      <td>30507.000000</td>\n",
       "      <td>30507.000000</td>\n",
       "      <td>3.050700e+04</td>\n",
       "      <td>3.050700e+04</td>\n",
       "      <td>3.050700e+04</td>\n",
       "      <td>3.050700e+04</td>\n",
       "    </tr>\n",
       "    <tr>\n",
       "      <th>mean</th>\n",
       "      <td>22.391650</td>\n",
       "      <td>12.817522</td>\n",
       "      <td>1.366047</td>\n",
       "      <td>507.126627</td>\n",
       "      <td>61.012755</td>\n",
       "      <td>3.026769e+05</td>\n",
       "      <td>5.318124e+07</td>\n",
       "      <td>3.084896e+07</td>\n",
       "      <td>6.031931e+07</td>\n",
       "    </tr>\n",
       "    <tr>\n",
       "      <th>std</th>\n",
       "      <td>63.763675</td>\n",
       "      <td>37.790600</td>\n",
       "      <td>0.790343</td>\n",
       "      <td>2753.332913</td>\n",
       "      <td>41.012945</td>\n",
       "      <td>1.997972e+06</td>\n",
       "      <td>1.058040e+08</td>\n",
       "      <td>7.355335e+06</td>\n",
       "      <td>1.064008e+08</td>\n",
       "    </tr>\n",
       "    <tr>\n",
       "      <th>min</th>\n",
       "      <td>0.000000</td>\n",
       "      <td>0.000000</td>\n",
       "      <td>1.000000</td>\n",
       "      <td>0.000000</td>\n",
       "      <td>0.000000</td>\n",
       "      <td>1.486667e+01</td>\n",
       "      <td>2.000000e+00</td>\n",
       "      <td>2.083499e+06</td>\n",
       "      <td>3.200000e+01</td>\n",
       "    </tr>\n",
       "    <tr>\n",
       "      <th>25%</th>\n",
       "      <td>0.000000</td>\n",
       "      <td>0.000000</td>\n",
       "      <td>1.000000</td>\n",
       "      <td>0.000000</td>\n",
       "      <td>7.965264</td>\n",
       "      <td>3.090000e+01</td>\n",
       "      <td>2.000000e+00</td>\n",
       "      <td>2.610790e+07</td>\n",
       "      <td>5.600000e+01</td>\n",
       "    </tr>\n",
       "    <tr>\n",
       "      <th>50%</th>\n",
       "      <td>1.000000</td>\n",
       "      <td>0.333333</td>\n",
       "      <td>1.000000</td>\n",
       "      <td>1.519786</td>\n",
       "      <td>66.744838</td>\n",
       "      <td>3.963333e+01</td>\n",
       "      <td>2.000000e+00</td>\n",
       "      <td>3.294140e+07</td>\n",
       "      <td>5.600000e+01</td>\n",
       "    </tr>\n",
       "    <tr>\n",
       "      <th>75%</th>\n",
       "      <td>22.111111</td>\n",
       "      <td>10.142857</td>\n",
       "      <td>1.000000</td>\n",
       "      <td>7.311278</td>\n",
       "      <td>100.000000</td>\n",
       "      <td>4.580000e+01</td>\n",
       "      <td>7.000000e+00</td>\n",
       "      <td>3.570483e+07</td>\n",
       "      <td>5.600000e+01</td>\n",
       "    </tr>\n",
       "    <tr>\n",
       "      <th>max</th>\n",
       "      <td>636.000000</td>\n",
       "      <td>322.000000</td>\n",
       "      <td>5.000000</td>\n",
       "      <td>55029.395103</td>\n",
       "      <td>218.222552</td>\n",
       "      <td>3.953736e+07</td>\n",
       "      <td>4.000000e+08</td>\n",
       "      <td>5.108668e+07</td>\n",
       "      <td>2.480000e+08</td>\n",
       "    </tr>\n",
       "  </tbody>\n",
       "</table>\n",
       "</div>"
      ],
      "text/plain": [
       "       served_request  request_rate  number_instances  response_time  \\\n",
       "count    30507.000000  30507.000000      30507.000000   30507.000000   \n",
       "mean        22.391650     12.817522          1.366047     507.126627   \n",
       "std         63.763675     37.790600          0.790343    2753.332913   \n",
       "min          0.000000      0.000000          1.000000       0.000000   \n",
       "25%          0.000000      0.000000          1.000000       0.000000   \n",
       "50%          1.000000      0.333333          1.000000       1.519786   \n",
       "75%         22.111111     10.142857          1.000000       7.311278   \n",
       "max        636.000000    322.000000          5.000000   55029.395103   \n",
       "\n",
       "        performance     cpu_usage     cpu_alloc        memory  memory_alloc  \n",
       "count  30507.000000  3.050700e+04  3.050700e+04  3.050700e+04  3.050700e+04  \n",
       "mean      61.012755  3.026769e+05  5.318124e+07  3.084896e+07  6.031931e+07  \n",
       "std       41.012945  1.997972e+06  1.058040e+08  7.355335e+06  1.064008e+08  \n",
       "min        0.000000  1.486667e+01  2.000000e+00  2.083499e+06  3.200000e+01  \n",
       "25%        7.965264  3.090000e+01  2.000000e+00  2.610790e+07  5.600000e+01  \n",
       "50%       66.744838  3.963333e+01  2.000000e+00  3.294140e+07  5.600000e+01  \n",
       "75%      100.000000  4.580000e+01  7.000000e+00  3.570483e+07  5.600000e+01  \n",
       "max      218.222552  3.953736e+07  4.000000e+08  5.108668e+07  2.480000e+08  "
      ]
     },
     "execution_count": 12,
     "metadata": {},
     "output_type": "execute_result"
    }
   ],
   "source": [
    "df_imp.describe()"
   ]
  },
  {
   "cell_type": "markdown",
   "metadata": {},
   "source": [
    "## Data Normalization"
   ]
  },
  {
   "cell_type": "code",
   "execution_count": 49,
   "metadata": {},
   "outputs": [],
   "source": [
    "from sklearn.preprocessing import StandardScaler\n",
    "std = StandardScaler()\n",
    "#afp = np.append(X_train.values, X_test.values, axis=0)\n",
    "std.fit(df_imp)\n",
    "\n",
    "#X_train = std.transform(X_train)\n",
    "#X_test = std.transform(X_test)\n",
    "df_imp_norm = std.transform(df_imp)\n",
    "df_imp_norm = pd.DataFrame(df_imp_norm, columns = df_imp.columns)\n"
   ]
  },
  {
   "cell_type": "markdown",
   "metadata": {},
   "source": [
    "## Correlation Heatmap"
   ]
  },
  {
   "cell_type": "code",
   "execution_count": 152,
   "metadata": {},
   "outputs": [
    {
     "data": {
      "text/plain": [
       "<matplotlib.axes._subplots.AxesSubplot at 0x7f2de2143d10>"
      ]
     },
     "execution_count": 152,
     "metadata": {},
     "output_type": "execute_result"
    },
    {
     "data": {
      "image/png": "[encoded data removed]",
      "text/plain": [
       "<Figure size 432x288 with 2 Axes>"
      ]
     },
     "metadata": {
      "needs_background": "light"
     },
     "output_type": "display_data"
    }
   ],
   "source": [
    "import seaborn as sns\n",
    "corr = X_train.corr()\n",
    "sns.heatmap(corr, mask=np.zeros_like(corr, dtype=np.bool), cmap=sns.diverging_palette(220, 10, as_cmap=True), square=True)"
   ]
  },
  {
   "cell_type": "markdown",
   "metadata": {},
   "source": [
    "## Polynomial Features Creation"
   ]
  },
  {
   "cell_type": "code",
   "execution_count": 52,
   "metadata": {},
   "outputs": [],
   "source": [
    "from sklearn.preprocessing import PolynomialFeatures\n",
    "poly = PolynomialFeatures(2, interaction_only=True)\n",
    "output_nparray = poly.fit_transform(df_imp_norm.drop(columns=['performance', \n",
    "                                                     'served_request',\n",
    "                                'request_rate', 'response_time', 'memory' , \n",
    "                                                'number_instances','cpu_usage'\n",
    "                                                                  ]))\n",
    "target_feature_names = ['x'.join(['{}^{}'.format(pair[0],pair[1]) for pair in tuple if pair[1]!=0]) for tuple in [zip(df_imp_norm.columns, p) for p in poly.powers_]]\n",
    "output_df = pd.DataFrame(output_nparray, columns=target_feature_names)"
   ]
  },
  {
   "cell_type": "code",
   "execution_count": 33,
   "metadata": {},
   "outputs": [],
   "source": [
    "output_df = output_df.drop(columns=[''])\n"
   ]
  },
  {
   "cell_type": "code",
   "execution_count": 46,
   "metadata": {},
   "outputs": [
    {
     "data": {
      "image/png": "[encoded data removed]",
      "text/plain": [
       "<Figure size 540x540 with 12 Axes>"
      ]
     },
     "metadata": {
      "needs_background": "light"
     },
     "output_type": "display_data"
    }
   ],
   "source": [
    "import seaborn as sns\n",
    "sns.pairplot(data = output_df, vars=output_df.columns)\n",
    "plt.show()"
   ]
  },
  {
   "cell_type": "code",
   "execution_count": 35,
   "metadata": {},
   "outputs": [
    {
     "name": "stdout",
     "output_type": "stream",
     "text": [
      "0.7656269059816233\n"
     ]
    }
   ],
   "source": [
    "# Decision Tree Regressor for the 1rst Model which uses the configuration variables in order to predict the performance (variable)\n",
    "import matplotlib as mpl\n",
    "import matplotlib.pyplot as plt\n",
    "import numpy as np\n",
    "import pandas as pd\n",
    "from sklearn.model_selection import cross_val_score, train_test_split\n",
    "from sklearn import tree\n",
    "from sklearn.tree import DecisionTreeRegressor, plot_tree\n",
    "from sklearn.ensemble import RandomForestClassifier\n",
    "from sklearn.metrics import r2_score\n",
    "X_train, X_test, y_train, y_test = train_test_split(output_df,\n",
    "                                                    df_imp['performance'],random_state=0)\n",
    "regressor = DecisionTreeRegressor(random_state=0)\n",
    "regressor.fit(X_train, y_train)\n",
    "cross_val_score(regressor, X_train, y_train, cv=10)\n",
    "pred = regressor.predict(X_test)\n",
    "print(r2_score(y_test, pred))"
   ]
  },
  {
   "cell_type": "markdown",
   "metadata": {},
   "source": [
    "# Algorithms Experimentation"
   ]
  },
  {
   "cell_type": "markdown",
   "metadata": {},
   "source": [
    "## Decision Tree Regressor (Model 1)"
   ]
  },
  {
   "cell_type": "markdown",
   "metadata": {},
   "source": [
    "#### 1) Tι συμβαινει αν απλα πεταξω ολες τις γραμμες που εχουν nan values"
   ]
  },
  {
   "cell_type": "code",
   "execution_count": 15,
   "metadata": {},
   "outputs": [
    {
     "name": "stdout",
     "output_type": "stream",
     "text": [
      "0.7517355870686013\n",
      "405.9587839513277\n",
      "20.14841889457651\n"
     ]
    }
   ],
   "source": [
    "## Decision Tree Regressor for the  Model which uses the configuration variables in order to predict the performance (variable)\n",
    "import matplotlib as mpl\n",
    "import matplotlib.pyplot as plt\n",
    "import numpy as np\n",
    "import pandas as pd\n",
    "from sklearn.model_selection import cross_val_score, train_test_split\n",
    "from sklearn import tree\n",
    "from sklearn.tree import DecisionTreeRegressor, plot_tree\n",
    "from sklearn.ensemble import RandomForestRegressor\n",
    "from sklearn.metrics import r2_score, mean_squared_error\n",
    "\n",
    "data_2 = data.dropna()\n",
    "\n",
    "X_train, X_test, y_train, y_test = train_test_split(data_2.drop(columns=['performance', 'served_request',\n",
    "                                                                        'request_rate', 'response_time', 'memory' , 'cpu_usage'\n",
    "                                                                  ]),\n",
    "                                                    data_2['performance'],random_state=0)\n",
    "regressor = DecisionTreeRegressor(random_state=0)\n",
    "regressor.fit(X_train, y_train)\n",
    "cross_val_score(regressor, X_train, y_train, cv=10)\n",
    "pred = regressor.predict(X_test)\n",
    "print(r2_score(y_test, pred))\n",
    "print(mean_squared_error(y_test, pred, squared=True))\n",
    "print(mean_squared_error(y_test, pred, squared=False))\n"
   ]
  },
  {
   "cell_type": "markdown",
   "metadata": {},
   "source": [
    "#### 2) Έχοντας κάνει missing values imputation με mean η median"
   ]
  },
  {
   "cell_type": "code",
   "execution_count": 48,
   "metadata": {},
   "outputs": [
    {
     "name": "stdout",
     "output_type": "stream",
     "text": [
      "0.7692254929747864\n",
      "385.943180458257\n",
      "19.64543663190658\n"
     ]
    }
   ],
   "source": [
    "X_train, X_test, y_train, y_test = train_test_split(df_imp.drop(columns=['performance', 'served_request',\n",
    "                                                                        'request_rate', 'response_time', 'memory' , 'cpu_usage'\n",
    "                                                                  ]),\n",
    "                                                    df_imp['performance'],random_state=0)\n",
    "regressor = DecisionTreeRegressor(random_state=0)\n",
    "regressor.fit(X_train, y_train)\n",
    "cross_val_score(regressor, X_train, y_train, cv=10)\n",
    "pred = regressor.predict(X_test)\n",
    "print(r2_score(y_test, pred))\n",
    "print(mean_squared_error(y_test, pred, squared=True))\n",
    "print(mean_squared_error(y_test, pred, squared=False))"
   ]
  },
  {
   "cell_type": "markdown",
   "metadata": {},
   "source": [
    "#### 3) Έχοντας κάνει missing values imputation με mean η median και μετα normalization"
   ]
  },
  {
   "cell_type": "code",
   "execution_count": 50,
   "metadata": {},
   "outputs": [
    {
     "name": "stdout",
     "output_type": "stream",
     "text": [
      "0.7692254929747863\n",
      "0.2294540335305468\n",
      "0.47901360474473664\n"
     ]
    }
   ],
   "source": [
    "X_train, X_test, y_train, y_test = train_test_split(df_imp_norm.drop(columns=['performance', 'served_request',\n",
    "                                                                        'request_rate', 'response_time', 'memory' , 'cpu_usage'\n",
    "                                                                  ]),\n",
    "                                                    df_imp_norm['performance'],random_state=0)\n",
    "regressor = DecisionTreeRegressor(random_state=0)\n",
    "regressor.fit(X_train, y_train)\n",
    "cross_val_score(regressor, X_train, y_train, cv=10)\n",
    "pred = regressor.predict(X_test)\n",
    "print(r2_score(y_test, pred))\n",
    "print(mean_squared_error(y_test, pred, squared=True))\n",
    "print(mean_squared_error(y_test, pred, squared=False))"
   ]
  },
  {
   "cell_type": "markdown",
   "metadata": {},
   "source": [
    "#### 4) Με δημιουργία polynomial features έχωντας κάνει πριν και  normalization"
   ]
  },
  {
   "cell_type": "code",
   "execution_count": 53,
   "metadata": {},
   "outputs": [
    {
     "name": "stdout",
     "output_type": "stream",
     "text": [
      "0.7656269059816233\n",
      "391.96139333280706\n",
      "19.798014883639397\n"
     ]
    }
   ],
   "source": [
    "\n",
    "X_train, X_test, y_train, y_test = train_test_split(output_df,\n",
    "                                                    df_imp['performance'],random_state=0)\n",
    "regressor = DecisionTreeRegressor(random_state=0)\n",
    "regressor.fit(X_train, y_train)\n",
    "cross_val_score(regressor, X_train, y_train, cv=10)\n",
    "pred = regressor.predict(X_test)\n",
    "print(r2_score(y_test, pred))\n",
    "print(mean_squared_error(y_test, pred, squared=True))\n",
    "print(mean_squared_error(y_test, pred, squared=False))\n"
   ]
  },
  {
   "cell_type": "code",
   "execution_count": null,
   "metadata": {},
   "outputs": [],
   "source": []
  },
  {
   "cell_type": "code",
   "execution_count": 54,
   "metadata": {},
   "outputs": [
    {
     "data": {
      "image/png": "[encoded data removed]",
      "text/plain": [
       "<Figure size 432x288 with 1 Axes>"
      ]
     },
     "metadata": {
      "needs_background": "light"
     },
     "output_type": "display_data"
    }
   ],
   "source": [
    "\n",
    "fig, ax = plt.subplots()\n",
    "ax.scatter(y_test, pred)\n",
    "ax.plot([y_test.min(), y_test.max()], [pred.min(), pred.max()], 'k--', lw=4)\n",
    "ax.set_xlabel('Measured')\n",
    "ax.set_ylabel('Predicted')\n",
    "plt.show()"
   ]
  },
  {
   "cell_type": "code",
   "execution_count": 55,
   "metadata": {},
   "outputs": [
    {
     "data": {
      "image/png": "[encoded data removed]",
      "text/plain": [
       "<Figure size 432x288 with 1 Axes>"
      ]
     },
     "metadata": {
      "needs_background": "light"
     },
     "output_type": "display_data"
    }
   ],
   "source": [
    "from sklearn.model_selection import cross_val_predict\n",
    "predicted = cross_val_predict(regressor, X_train, y_train, cv=10)\n",
    "fig, ax = plt.subplots()\n",
    "ax.scatter(y_test, pred)\n",
    "ax.plot([y_test.min(), y_test.max()], [y_test.min(), y_test.max()], 'k--', lw=4)\n",
    "ax.set_xlabel('Measured')\n",
    "ax.set_ylabel('Predicted')\n",
    "plt.show()"
   ]
  },
  {
   "cell_type": "markdown",
   "metadata": {},
   "source": [
    "#### Hyperparameter Tuning"
   ]
  },
  {
   "cell_type": "code",
   "execution_count": 43,
   "metadata": {},
   "outputs": [
    {
     "data": {
      "text/plain": [
       "0.7597725014505193"
      ]
     },
     "execution_count": 43,
     "metadata": {},
     "output_type": "execute_result"
    }
   ],
   "source": [
    "from  sklearn.model_selection import GridSearchCV\n",
    "from sklearn.metrics import make_scorer \n",
    "\n",
    "scoring = make_scorer(r2_score)\n",
    "g_cv = GridSearchCV(DecisionTreeRegressor(random_state=0),scoring=scoring,\n",
    "              param_grid={'min_samples_split': range(2, 10), \n",
    "                          'criterion' :('mse', 'friedman_mse', 'mae'),\n",
    "                         'max_depth':range(1,5)},\n",
    "               cv=5, refit=True)\n",
    "\n",
    "g_cv.fit(X_train, y_train)\n",
    "g_cv.best_params_\n",
    "\n",
    "result = g_cv.cv_results_\n",
    "# print(result)\n",
    "r2_score(y_test, g_cv.best_estimator_.predict(X_test))"
   ]
  },
  {
   "cell_type": "markdown",
   "metadata": {},
   "source": [
    "#### Regressor, AdaBoostRegressor"
   ]
  },
  {
   "cell_type": "code",
   "execution_count": 212,
   "metadata": {},
   "outputs": [
    {
     "name": "stdout",
     "output_type": "stream",
     "text": [
      "0.7517355870686013\n",
      "405.9587839513277\n",
      "0.7517355870686013\n",
      "405.9587839513277\n"
     ]
    }
   ],
   "source": [
    "# importing necessary libraries\n",
    "import numpy as np\n",
    "import matplotlib.pyplot as plt\n",
    "from sklearn.tree import DecisionTreeRegressor\n",
    "from sklearn.ensemble import AdaBoostRegressor\n",
    "\n",
    "\n",
    "# Fit regression model\n",
    "regr_1 = DecisionTreeRegressor(max_depth=4)\n",
    "\n",
    "regr_2 = AdaBoostRegressor(DecisionTreeRegressor(max_depth=4),\n",
    "                          n_estimators=300)\n",
    "\n",
    "regr_1.fit(X_train, y_train)\n",
    "regr_2.fit(X_train, y_train)\n",
    "\n",
    "# Predict\n",
    "y_1 = regr_1.predict(X_test)\n",
    "y_2 = regr_2.predict(X_test)\n",
    "\n",
    "cross_val_score(regr_1, X_train, y_train, cv=10)\n",
    "pred = regressor.predict(X_test)\n",
    "print(r2_score(y_test, pred))\n",
    "print(mean_squared_error(y_test, pred, squared=True))\n",
    "\n",
    "cross_val_score(regr_2, X_train, y_train, cv=10)\n",
    "pred = regressor.predict(X_test)\n",
    "print(r2_score(y_test, pred))\n",
    "print(mean_squared_error(y_test, pred, squared=True))\n",
    "\n",
    "\n",
    "\n"
   ]
  },
  {
   "cell_type": "markdown",
   "metadata": {},
   "source": [
    "# Use a stacking regressor. I have chosen 3 different algorithms but it can be any algorithm (that it can be used for regression). Unfortunatelly this technique does not improve the results. "
   ]
  },
  {
   "cell_type": "code",
   "execution_count": 20,
   "metadata": {},
   "outputs": [
    {
     "name": "stdout",
     "output_type": "stream",
     "text": [
      "0.7549909968858104\n"
     ]
    }
   ],
   "source": [
    "from sklearn.experimental import enable_hist_gradient_boosting  # noqa\n",
    "from sklearn.ensemble import HistGradientBoostingRegressor\n",
    "from sklearn.ensemble import RandomForestRegressor\n",
    "from sklearn.ensemble import StackingRegressor\n",
    "from sklearn.linear_model import LassoCV\n",
    "from sklearn.linear_model import RidgeCV\n",
    "from sklearn.pipeline import make_pipeline\n",
    "\n",
    "\"\"\"lasso_pipeline = make_pipeline(processor_lin,\n",
    "                               LassoCV())\n",
    "\n",
    "rf_pipeline = make_pipeline(processor_nlin,\n",
    "                            RandomForestRegressor(random_state=42))\n",
    "\n",
    "gradient_pipeline = make_pipeline(\n",
    "    processor_nlin,\n",
    "    HistGradientBoostingRegressor(random_state=0))\"\"\"\n",
    "\n",
    "estimators = [('Random Forest', RandomForestRegressor(random_state=42)),\n",
    "              ('Lasso', LassoCV()),\n",
    "              ('Gradient Boosting', HistGradientBoostingRegressor(random_state=0))]\n",
    "\n",
    "stacking_regressor = StackingRegressor(estimators=estimators,\n",
    "                                       final_estimator=RidgeCV())\n",
    "\n",
    "stacking_regressor.fit(X_train, y_train)\n",
    "cross_val_score(stacking_regressor, X_train, y_train, cv=10)\n",
    "pred = stacking_regressor.predict(X_test)\n",
    "print(r2_score(y_test, pred))"
   ]
  },
  {
   "cell_type": "code",
   "execution_count": 25,
   "metadata": {},
   "outputs": [
    {
     "data": {
      "image/png": "[encoded data removed]",
      "text/plain": [
       "<Figure size 648x504 with 4 Axes>"
      ]
     },
     "metadata": {
      "needs_background": "light"
     },
     "output_type": "display_data"
    }
   ],
   "source": [
    "X = df.drop(columns=['performance', 'served_request','request_rate', 'response_time', 'memory' , 'cpu_usage'])\n",
    "y = df['performance']\n",
    "            \n",
    "            \n",
    "import time\n",
    "import matplotlib.pyplot as plt\n",
    "from sklearn.model_selection import cross_validate, cross_val_predict\n",
    "\n",
    "\n",
    "def plot_regression_results(ax, y_true, y_pred, title, scores, elapsed_time):\n",
    "    \"\"\"Scatter plot of the predicted vs true targets.\"\"\"\n",
    "    ax.plot([y_true.min(), y_true.max()],\n",
    "            [y_true.min(), y_true.max()],\n",
    "            '--r', linewidth=2)\n",
    "    ax.scatter(y_true, y_pred, alpha=0.2)\n",
    "\n",
    "    ax.spines['top'].set_visible(False)\n",
    "    ax.spines['right'].set_visible(False)\n",
    "    ax.get_xaxis().tick_bottom()\n",
    "    ax.get_yaxis().tick_left()\n",
    "    ax.spines['left'].set_position(('outward', 10))\n",
    "    ax.spines['bottom'].set_position(('outward', 10))\n",
    "    ax.set_xlim([y_true.min(), y_true.max()])\n",
    "    ax.set_ylim([y_true.min(), y_true.max()])\n",
    "    ax.set_xlabel('Measured')\n",
    "    ax.set_ylabel('Predicted')\n",
    "    extra = plt.Rectangle((0, 0), 0, 0, fc=\"w\", fill=False,\n",
    "                          edgecolor='none', linewidth=0)\n",
    "    ax.legend([extra], [scores], loc='upper left')\n",
    "    title = title + '\\n Evaluation in {:.2f} seconds'.format(elapsed_time)\n",
    "    ax.set_title(title)\n",
    "\n",
    "\n",
    "fig, axs = plt.subplots(2, 2, figsize=(9, 7))\n",
    "axs = np.ravel(axs)\n",
    "\n",
    "for ax, (name, est) in zip(axs, estimators + [('Stacking Regressor',\n",
    "                                               stacking_regressor)]):\n",
    "    start_time = time.time()\n",
    "    score = cross_validate(est, X, y,\n",
    "                           scoring=['r2', 'neg_mean_absolute_error'],\n",
    "                           n_jobs=-1, verbose=0)\n",
    "    elapsed_time = time.time() - start_time\n",
    "\n",
    "    y_pred = cross_val_predict(est, X, y, n_jobs=-1, verbose=0)\n",
    "\n",
    "    plot_regression_results(\n",
    "        ax, y, y_pred,\n",
    "        name,\n",
    "        (r'$R^2={:.2f} \\pm {:.2f}$' + '\\n' + r'$MAE={:.2f} \\pm {:.2f}$')\n",
    "        .format(np.mean(score['test_r2']),\n",
    "                np.std(score['test_r2']),\n",
    "                -np.mean(score['test_neg_mean_absolute_error']),\n",
    "                np.std(score['test_neg_mean_absolute_error'])),\n",
    "        elapsed_time)\n",
    "\n",
    "plt.suptitle('Single predictors versus stacked predictors')\n",
    "plt.tight_layout()\n",
    "plt.subplots_adjust(top=0.9)\n",
    "plt.show()"
   ]
  },
  {
   "cell_type": "markdown",
   "metadata": {},
   "source": [
    "# Plot the target variable which is \"Performance\" in our case. Each plot has \"performance\" at y axis and the other variables of the dataset in x axis."
   ]
  },
  {
   "cell_type": "code",
   "execution_count": 41,
   "metadata": {
    "scrolled": true
   },
   "outputs": [
    {
     "data": {
      "text/plain": [
       "<seaborn.axisgrid.PairGrid at 0x7f7e89589750>"
      ]
     },
     "execution_count": 41,
     "metadata": {},
     "output_type": "execute_result"
    },
    {
     "data": {
      "image/png": "[encoded data removed]",
      "text/plain": [
       "<Figure size 1036.8x576 with 9 Axes>"
      ]
     },
     "metadata": {
      "needs_background": "light"
     },
     "output_type": "display_data"
    }
   ],
   "source": [
    "import seaborn as sns\n",
    "sns.pairplot(df, y_vars=\"performance\", x_vars=df.columns.values,height=8, aspect=0.2)\n"
   ]
  },
  {
   "cell_type": "markdown",
   "metadata": {},
   "source": [
    " ## Decision Tree Visualization "
   ]
  },
  {
   "cell_type": "markdown",
   "metadata": {},
   "source": [
    "  #### *Be Carefull* with this because it will make your laptop extremly slow "
   ]
  },
  {
   "cell_type": "code",
   "execution_count": null,
   "metadata": {},
   "outputs": [],
   "source": [
    "tree.plot_tree(regressor)\n",
    "plt.figure()\n",
    "plot_tree(regressor, filled=True)\n",
    "plt.show()"
   ]
  },
  {
   "cell_type": "markdown",
   "metadata": {},
   "source": [
    "### Decission Tree Regressor (for served_request and response_time prediction)"
   ]
  },
  {
   "cell_type": "code",
   "execution_count": 246,
   "metadata": {
    "scrolled": true
   },
   "outputs": [
    {
     "name": "stdout",
     "output_type": "stream",
     "text": [
      "0.20745132412777062\n"
     ]
    },
    {
     "name": "stderr",
     "output_type": "stream",
     "text": [
      "/home/giwrikas/anaconda3/lib/python3.7/site-packages/sklearn/base.py:434: FutureWarning: The default value of multioutput (not exposed in score method) will change from 'variance_weighted' to 'uniform_average' in 0.23 to keep consistent with 'metrics.r2_score'. To specify the default value manually and avoid the warning, please either call 'metrics.r2_score' directly or make a custom scorer with 'metrics.make_scorer' (the built-in scorer 'r2' uses multioutput='uniform_average').\n",
      "  \"multioutput='uniform_average').\", FutureWarning)\n",
      "/home/giwrikas/anaconda3/lib/python3.7/site-packages/sklearn/base.py:434: FutureWarning: The default value of multioutput (not exposed in score method) will change from 'variance_weighted' to 'uniform_average' in 0.23 to keep consistent with 'metrics.r2_score'. To specify the default value manually and avoid the warning, please either call 'metrics.r2_score' directly or make a custom scorer with 'metrics.make_scorer' (the built-in scorer 'r2' uses multioutput='uniform_average').\n",
      "  \"multioutput='uniform_average').\", FutureWarning)\n",
      "/home/giwrikas/anaconda3/lib/python3.7/site-packages/sklearn/base.py:434: FutureWarning: The default value of multioutput (not exposed in score method) will change from 'variance_weighted' to 'uniform_average' in 0.23 to keep consistent with 'metrics.r2_score'. To specify the default value manually and avoid the warning, please either call 'metrics.r2_score' directly or make a custom scorer with 'metrics.make_scorer' (the built-in scorer 'r2' uses multioutput='uniform_average').\n",
      "  \"multioutput='uniform_average').\", FutureWarning)\n",
      "/home/giwrikas/anaconda3/lib/python3.7/site-packages/sklearn/base.py:434: FutureWarning: The default value of multioutput (not exposed in score method) will change from 'variance_weighted' to 'uniform_average' in 0.23 to keep consistent with 'metrics.r2_score'. To specify the default value manually and avoid the warning, please either call 'metrics.r2_score' directly or make a custom scorer with 'metrics.make_scorer' (the built-in scorer 'r2' uses multioutput='uniform_average').\n",
      "  \"multioutput='uniform_average').\", FutureWarning)\n",
      "/home/giwrikas/anaconda3/lib/python3.7/site-packages/sklearn/base.py:434: FutureWarning: The default value of multioutput (not exposed in score method) will change from 'variance_weighted' to 'uniform_average' in 0.23 to keep consistent with 'metrics.r2_score'. To specify the default value manually and avoid the warning, please either call 'metrics.r2_score' directly or make a custom scorer with 'metrics.make_scorer' (the built-in scorer 'r2' uses multioutput='uniform_average').\n",
      "  \"multioutput='uniform_average').\", FutureWarning)\n",
      "/home/giwrikas/anaconda3/lib/python3.7/site-packages/sklearn/base.py:434: FutureWarning: The default value of multioutput (not exposed in score method) will change from 'variance_weighted' to 'uniform_average' in 0.23 to keep consistent with 'metrics.r2_score'. To specify the default value manually and avoid the warning, please either call 'metrics.r2_score' directly or make a custom scorer with 'metrics.make_scorer' (the built-in scorer 'r2' uses multioutput='uniform_average').\n",
      "  \"multioutput='uniform_average').\", FutureWarning)\n",
      "/home/giwrikas/anaconda3/lib/python3.7/site-packages/sklearn/base.py:434: FutureWarning: The default value of multioutput (not exposed in score method) will change from 'variance_weighted' to 'uniform_average' in 0.23 to keep consistent with 'metrics.r2_score'. To specify the default value manually and avoid the warning, please either call 'metrics.r2_score' directly or make a custom scorer with 'metrics.make_scorer' (the built-in scorer 'r2' uses multioutput='uniform_average').\n",
      "  \"multioutput='uniform_average').\", FutureWarning)\n",
      "/home/giwrikas/anaconda3/lib/python3.7/site-packages/sklearn/base.py:434: FutureWarning: The default value of multioutput (not exposed in score method) will change from 'variance_weighted' to 'uniform_average' in 0.23 to keep consistent with 'metrics.r2_score'. To specify the default value manually and avoid the warning, please either call 'metrics.r2_score' directly or make a custom scorer with 'metrics.make_scorer' (the built-in scorer 'r2' uses multioutput='uniform_average').\n",
      "  \"multioutput='uniform_average').\", FutureWarning)\n",
      "/home/giwrikas/anaconda3/lib/python3.7/site-packages/sklearn/base.py:434: FutureWarning: The default value of multioutput (not exposed in score method) will change from 'variance_weighted' to 'uniform_average' in 0.23 to keep consistent with 'metrics.r2_score'. To specify the default value manually and avoid the warning, please either call 'metrics.r2_score' directly or make a custom scorer with 'metrics.make_scorer' (the built-in scorer 'r2' uses multioutput='uniform_average').\n",
      "  \"multioutput='uniform_average').\", FutureWarning)\n",
      "/home/giwrikas/anaconda3/lib/python3.7/site-packages/sklearn/base.py:434: FutureWarning: The default value of multioutput (not exposed in score method) will change from 'variance_weighted' to 'uniform_average' in 0.23 to keep consistent with 'metrics.r2_score'. To specify the default value manually and avoid the warning, please either call 'metrics.r2_score' directly or make a custom scorer with 'metrics.make_scorer' (the built-in scorer 'r2' uses multioutput='uniform_average').\n",
      "  \"multioutput='uniform_average').\", FutureWarning)\n"
     ]
    }
   ],
   "source": [
    "### Decision Tree for the 2nd Model which uses metric variables as covariates and make predictions for performance variable\n",
    "\n",
    "X_train, X_test, y_train, y_test = train_test_split(df_imp.drop(columns=['served_request','performance', 'request_rate','response_time',\n",
    "                                                                         'cpu_usage','memory' ]),\n",
    "                                                    df_imp[['served_request', 'response_time']],random_state=1)\n",
    "regressor = DecisionTreeRegressor(random_state=0)\n",
    "regressor.fit(X_train, y_train)\n",
    "cross_val_score(regressor, X_train, y_train, cv=10)\n",
    "pred = regressor.predict(X_test)\n",
    "print(r2_score(y_test, pred))"
   ]
  },
  {
   "cell_type": "code",
   "execution_count": 253,
   "metadata": {},
   "outputs": [
    {
     "name": "stderr",
     "output_type": "stream",
     "text": [
      "/home/giwrikas/anaconda3/lib/python3.7/site-packages/sklearn/base.py:434: FutureWarning: The default value of multioutput (not exposed in score method) will change from 'variance_weighted' to 'uniform_average' in 0.23 to keep consistent with 'metrics.r2_score'. To specify the default value manually and avoid the warning, please either call 'metrics.r2_score' directly or make a custom scorer with 'metrics.make_scorer' (the built-in scorer 'r2' uses multioutput='uniform_average').\n",
      "  \"multioutput='uniform_average').\", FutureWarning)\n"
     ]
    },
    {
     "data": {
      "image/png": "[encoded data removed]",
      "text/plain": [
       "<Figure size 432x288 with 1 Axes>"
      ]
     },
     "metadata": {
      "needs_background": "light"
     },
     "output_type": "display_data"
    },
    {
     "name": "stdout",
     "output_type": "stream",
     "text": [
      "0.20597172204875902\n",
      "2694447.877936155\n",
      "0.20487255806047\n",
      "2692944.922235904\n"
     ]
    }
   ],
   "source": [
    "import numpy as np\n",
    "import matplotlib.pyplot as plt\n",
    "from sklearn.ensemble import RandomForestRegressor\n",
    "from sklearn.model_selection import train_test_split\n",
    "from sklearn.multioutput import MultiOutputRegressor\n",
    "\n",
    "\n",
    "max_depth = 30\n",
    "regr_multirf = MultiOutputRegressor(RandomForestRegressor(n_estimators=100,\n",
    "                                                          max_depth=max_depth,\n",
    "                                                          random_state=0))\n",
    "regr_multirf.fit(X_train, y_train)\n",
    "\n",
    "regr_rf = RandomForestRegressor(n_estimators=100, max_depth=max_depth,\n",
    "                                random_state=2)\n",
    "regr_rf.fit(X_train, y_train)\n",
    "\n",
    "# Predict on new data\n",
    "y_multirf = regr_multirf.predict(X_test)\n",
    "y_rf = regr_rf.predict(X_test)\n",
    "\n",
    "# Plot the results\n",
    "plt.figure()\n",
    "s = 50\n",
    "a = 0.4\n",
    "plt.scatter(y_test.values[:, 0], y_test.values[:, 1], edgecolor='k',\n",
    "            c=\"navy\", s=s, marker=\"s\", alpha=a, label=\"Data\")\n",
    "plt.scatter(y_multirf[:, 0], y_multirf[:, 1], edgecolor='k',\n",
    "            c=\"cornflowerblue\", s=s, alpha=a,\n",
    "            label=\"Multi RF score=%.2f\" % regr_multirf.score(X_test, y_test))\n",
    "plt.scatter(y_rf[:, 0], y_rf[:, 1], edgecolor='k',\n",
    "            c=\"c\", s=s, marker=\"^\", alpha=a,\n",
    "            label=\"RF score=%.2f\" % regr_rf.score(X_test, y_test))\n",
    "plt.xlim([-6, 6])\n",
    "plt.ylim([-6, 6])\n",
    "plt.xlabel(\"target 1\")\n",
    "plt.ylabel(\"target 2\")\n",
    "plt.title(\"Comparing random forests and the multi-output meta estimator\")\n",
    "plt.legend()\n",
    "plt.show()\n",
    "\n",
    "#cross_val_score(regr_multirf, X_train, y_train, cv=10)\n",
    "pred = regr_multirf.predict(X_test)\n",
    "print(r2_score(y_test, pred))\n",
    "print(mean_squared_error(y_test, pred, squared=True))\n",
    "\n",
    "#cross_val_score(regr_rf, X_train, y_train, cv=10)\n",
    "pred = regr_rf.predict(X_test)\n",
    "print(r2_score(y_test, pred))\n",
    "print(mean_squared_error(y_test, pred, squared=True))"
   ]
  },
  {
   "cell_type": "code",
   "execution_count": null,
   "metadata": {},
   "outputs": [],
   "source": []
  },
  {
   "cell_type": "code",
   "execution_count": null,
   "metadata": {},
   "outputs": [],
   "source": []
  },
  {
   "cell_type": "markdown",
   "metadata": {},
   "source": [
    "#### Again you can visualize your results (ehen using DecisionTreeRegressor)"
   ]
  },
  {
   "cell_type": "code",
   "execution_count": null,
   "metadata": {},
   "outputs": [],
   "source": [
    "tree.plot_tree(regressor)\n",
    "plt.figure()\n",
    "plot_tree(regressor, filled=True)\n",
    "plt.show()"
   ]
  },
  {
   "cell_type": "code",
   "execution_count": null,
   "metadata": {},
   "outputs": [],
   "source": []
  },
  {
   "cell_type": "markdown",
   "metadata": {},
   "source": [
    "## Random Forest (Model 1)"
   ]
  },
  {
   "cell_type": "code",
   "execution_count": 165,
   "metadata": {},
   "outputs": [
    {
     "name": "stdout",
     "output_type": "stream",
     "text": [
      "0.7597450071460121\n"
     ]
    }
   ],
   "source": [
    "## Random Forest for 1st Model\n",
    "from sklearn.ensemble import RandomForestRegressor\n",
    "from sklearn.datasets import make_regression\n",
    "regr = RandomForestRegressor(random_state=0)\n",
    "regr.fit(X_train, y_train)\n",
    "pred = regr.predict(X_test)\n",
    "print(r2_score(y_test, pred))"
   ]
  },
  {
   "cell_type": "code",
   "execution_count": null,
   "metadata": {},
   "outputs": [],
   "source": []
  },
  {
   "cell_type": "markdown",
   "metadata": {},
   "source": [
    "## Gradient Boosting Regressor (Model 1)"
   ]
  },
  {
   "cell_type": "code",
   "execution_count": 167,
   "metadata": {},
   "outputs": [
    {
     "name": "stdout",
     "output_type": "stream",
     "text": [
      "0.7665096356507906\n",
      "The mean squared error (MSE) on test set: 389.5436\n"
     ]
    }
   ],
   "source": [
    "## Gradient Boosting Regressor (Metrics as covariates and try to predict performance)\n",
    "from sklearn.ensemble import GradientBoostingRegressor\n",
    "from sklearn.metrics import mean_squared_error\n",
    "from sklearn.ensemble import RandomForestRegressor\n",
    "params = {'n_estimators': 500,\n",
    "          'max_depth': 4,\n",
    "          'min_samples_split': 5,\n",
    "          'learning_rate': 0.01,\n",
    "          'loss': 'ls'}\n",
    "regr = GradientBoostingRegressor(**params)\n",
    "X_train, X_test, y_train, y_test = train_test_split(df.drop(columns=['performance', 'served_request',\n",
    "                                                                        'request_rate', 'response_time', 'memory' , 'cpu_usage']),\n",
    "                                                    df['performance'],random_state=0)\n",
    "regr.fit(X_train, y_train)\n",
    "pred = regr.predict(X_test)\n",
    "print(r2_score(y_test, pred))\n",
    "mse = mean_squared_error(y_test, regr.predict(X_test))\n",
    "print(\"The mean squared error (MSE) on test set: {:.4f}\".format(mse))"
   ]
  },
  {
   "cell_type": "markdown",
   "metadata": {},
   "source": [
    "### Plot Deviance"
   ]
  },
  {
   "cell_type": "code",
   "execution_count": 21,
   "metadata": {},
   "outputs": [
    {
     "data": {
      "image/png": "[encoded data removed]",
      "text/plain": [
       "<Figure size 432x432 with 1 Axes>"
      ]
     },
     "metadata": {
      "needs_background": "light"
     },
     "output_type": "display_data"
    }
   ],
   "source": [
    "#Plot training Deviance\n",
    "test_score = np.zeros((params['n_estimators'],), dtype=np.float64)\n",
    "for i, pred in enumerate(regr.staged_predict(X_test)):\n",
    "    test_score[i] = regr.loss_(y_test, pred)\n",
    "\n",
    "fig = plt.figure(figsize=(6, 6))\n",
    "plt.subplot(1, 1, 1)\n",
    "plt.title('Deviance')\n",
    "plt.plot(np.arange(params['n_estimators']) + 1, regr.train_score_, 'b-',\n",
    "         label='Training Set Deviance')\n",
    "plt.plot(np.arange(params['n_estimators']) + 1, test_score, 'r-',\n",
    "         label='Test Set Deviance')\n",
    "plt.legend(loc='upper right')\n",
    "plt.xlabel('Boosting Iterations')\n",
    "plt.ylabel('Deviance')\n",
    "fig.tight_layout()\n",
    "plt.show()"
   ]
  },
  {
   "cell_type": "markdown",
   "metadata": {},
   "source": [
    "## Plot Feature Importances"
   ]
  },
  {
   "cell_type": "code",
   "execution_count": 22,
   "metadata": {},
   "outputs": [
    {
     "data": {
      "image/png": "[encoded data removed]",
      "text/plain": [
       "<Figure size 864x432 with 2 Axes>"
      ]
     },
     "metadata": {
      "needs_background": "light"
     },
     "output_type": "display_data"
    }
   ],
   "source": [
    "#Plot feature importances\n",
    "from sklearn.inspection import permutation_importance\n",
    "feature_importance = regr.feature_importances_\n",
    "sorted_idx = np.argsort(feature_importance)\n",
    "pos = np.arange(sorted_idx.shape[0]) + .5\n",
    "fig = plt.figure(figsize=(12, 6))\n",
    "plt.subplot(1, 2, 1)\n",
    "plt.barh(pos, feature_importance[sorted_idx], align='center')\n",
    "plt.yticks(pos, np.array(X_train.columns)[sorted_idx])\n",
    "plt.title('Feature Importance (MDI)')\n",
    "\n",
    "result = permutation_importance(regr, X_test, y_test, n_repeats=10,\n",
    "                                random_state=42, n_jobs=2)\n",
    "sorted_idx = result.importances_mean.argsort()\n",
    "plt.subplot(1, 2, 2)\n",
    "plt.boxplot(result.importances[sorted_idx].T,\n",
    "            vert=False, labels=np.array(X_train.columns)[sorted_idx])\n",
    "plt.title(\"Permutation Importance (test set)\")\n",
    "fig.tight_layout()\n",
    "plt.show()"
   ]
  },
  {
   "cell_type": "code",
   "execution_count": null,
   "metadata": {},
   "outputs": [],
   "source": []
  },
  {
   "cell_type": "markdown",
   "metadata": {},
   "source": [
    "## Voting Regressor (Model 1)"
   ]
  },
  {
   "cell_type": "code",
   "execution_count": 37,
   "metadata": {},
   "outputs": [
    {
     "name": "stdout",
     "output_type": "stream",
     "text": [
      "0.7446030377477983\n"
     ]
    }
   ],
   "source": [
    "##Voting Regressor\n",
    "from sklearn.ensemble import GradientBoostingRegressor\n",
    "from sklearn.ensemble import RandomForestRegressor\n",
    "from sklearn.linear_model import LinearRegression\n",
    "from sklearn.ensemble import VotingRegressor\n",
    "# Training Regressors\n",
    "reg1 = GradientBoostingRegressor(random_state=0, n_estimators=10)\n",
    "reg2 = RandomForestRegressor(random_state=0, n_estimators=10)\n",
    "reg3 = DecisionTreeRegressor()\n",
    "ereg = VotingRegressor(estimators=[('gb', reg1), ('rf', reg2), ('lr', reg3)])\n",
    "X_train, X_test, y_train, y_test = train_test_split(df_imp.drop(columns=['performance', 'served_request',\n",
    "                                                                        'request_rate', 'response_time', 'memory' , 'cpu_usage']),\n",
    "                                                    df_imp['performance'],random_state=1)\n",
    "ereg = ereg.fit(X_train, y_train)\n",
    "pred = ereg.predict(X_test)\n",
    "print(r2_score(y_test, pred))"
   ]
  },
  {
   "cell_type": "code",
   "execution_count": null,
   "metadata": {},
   "outputs": [],
   "source": []
  },
  {
   "cell_type": "markdown",
   "metadata": {},
   "source": [
    "# Try to predict performance *without using missing value imputation* technique (only drop all rows with at least one nan value)"
   ]
  },
  {
   "cell_type": "code",
   "execution_count": 57,
   "metadata": {},
   "outputs": [
    {
     "data": {
      "text/plain": [
       "Unnamed: 0             0\n",
       "served_request         0\n",
       "request_rate           0\n",
       "number_instances    2813\n",
       "response_time          0\n",
       "performance            0\n",
       "cpu_usage           3737\n",
       "cpu_alloc           2759\n",
       "memory              3692\n",
       "memory_alloc        3031\n",
       "dtype: int64"
      ]
     },
     "execution_count": 57,
     "metadata": {},
     "output_type": "execute_result"
    }
   ],
   "source": [
    "data = pd.read_csv('/home/giwrikas/Downloads/Morphemic_datasets/all-4 (1).csv')\n",
    "cols = [\"memory_alloc\",\"cpu_alloc\",\"cpu_usage\",\"memory\",\"number_instances\"]\n",
    "data[cols] = data[cols].replace({ 0:np.nan})\n",
    "data.isna().sum()"
   ]
  },
  {
   "cell_type": "code",
   "execution_count": 58,
   "metadata": {},
   "outputs": [
    {
     "data": {
      "text/plain": [
       "Unnamed: 0          0\n",
       "served_request      0\n",
       "request_rate        0\n",
       "number_instances    0\n",
       "response_time       0\n",
       "performance         0\n",
       "cpu_usage           0\n",
       "cpu_alloc           0\n",
       "memory              0\n",
       "memory_alloc        0\n",
       "dtype: int64"
      ]
     },
     "execution_count": 58,
     "metadata": {},
     "output_type": "execute_result"
    }
   ],
   "source": [
    "data = data.dropna()\n",
    "data.isna().sum()"
   ]
  },
  {
   "cell_type": "code",
   "execution_count": null,
   "metadata": {},
   "outputs": [],
   "source": []
  },
  {
   "cell_type": "markdown",
   "metadata": {},
   "source": [
    "## Model 1"
   ]
  },
  {
   "cell_type": "code",
   "execution_count": 60,
   "metadata": {},
   "outputs": [
    {
     "name": "stdout",
     "output_type": "stream",
     "text": [
      "0.950551041216221\n",
      "79.5004816722087\n"
     ]
    }
   ],
   "source": [
    "## Decision Tree Regressor for the 1rst Model which uses the configuration variables in order to predict the performance (variable)\n",
    "import matplotlib as mpl\n",
    "import matplotlib.pyplot as plt\n",
    "import numpy as np\n",
    "import pandas as pd\n",
    "from sklearn.model_selection import cross_val_score, train_test_split\n",
    "from sklearn import tree\n",
    "from sklearn.tree import DecisionTreeRegressor, plot_tree\n",
    "from sklearn.ensemble import RandomForestClassifier\n",
    "from sklearn.metrics import r2_score, mean_squared_error\n",
    "X_train, X_test, y_train, y_test = train_test_split(data.drop(columns=['performance', 'served_request',\n",
    "                                                                        'request_rate', 'response_time', 'memory' , 'cpu_usage']),\n",
    "                                                    data['performance'],random_state=1)\n",
    "regressor = DecisionTreeRegressor(random_state=0)\n",
    "regressor.fit(X_train, y_train)\n",
    "cross_val_score(regressor, X_train, y_train, cv=10)\n",
    "pred = regressor.predict(X_test)\n",
    "print(r2_score(y_test, pred))\n",
    "print(mean_squared_error(y_test, pred))"
   ]
  },
  {
   "cell_type": "code",
   "execution_count": null,
   "metadata": {},
   "outputs": [],
   "source": []
  },
  {
   "cell_type": "code",
   "execution_count": null,
   "metadata": {},
   "outputs": [],
   "source": []
  },
  {
   "cell_type": "code",
   "execution_count": null,
   "metadata": {},
   "outputs": [],
   "source": []
  },
  {
   "cell_type": "code",
   "execution_count": null,
   "metadata": {},
   "outputs": [],
   "source": []
  }
 ],
 "metadata": {
  "kernelspec": {
   "display_name": "Python 3",
   "language": "python",
   "name": "python3"
  },
  "language_info": {
   "codemirror_mode": {
    "name": "ipython",
    "version": 3
   },
   "file_extension": ".py",
   "mimetype": "text/x-python",
   "name": "python",
   "nbconvert_exporter": "python",
   "pygments_lexer": "ipython3",
   "version": "3.7.6"
  }
 },
 "nbformat": 4,
 "nbformat_minor": 4
}
