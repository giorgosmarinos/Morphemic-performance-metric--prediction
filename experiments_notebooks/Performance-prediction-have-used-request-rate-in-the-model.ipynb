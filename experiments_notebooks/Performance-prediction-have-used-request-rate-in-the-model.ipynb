{
 "cells": [
  {
   "cell_type": "code",
   "execution_count": 89,
   "metadata": {},
   "outputs": [],
   "source": [
    "import numpy as np\n",
    "import pandas as pd\n",
    "from sklearn.base import BaseEstimator, TransformerMixin\n",
    "from sklearn.impute import KNNImputer\n",
    "from sklearn.utils.validation import check_is_fitted"
   ]
  },
  {
   "cell_type": "code",
   "execution_count": 90,
   "metadata": {},
   "outputs": [],
   "source": [
    "# my data\n",
    "data = pd.read_csv('../data/all-4 (1).csv')\n",
    "cols = [\"memory_alloc\",\"cpu_alloc\",\"cpu_usage\",\"memory\",\"number_instances\"]\n",
    "data[cols] = data[cols].replace({ 0:np.nan})\n",
    "data = data.dropna(subset=['number_instances', 'memory_alloc','cpu_alloc'])\n",
    "data = data.drop(columns=['Unnamed: 0'])"
   ]
  },
  {
   "cell_type": "markdown",
   "metadata": {},
   "source": [
    "#### Here we are doing a minor modification at the data in order not to have values like 1000000000.0 (and not to observe very big deviation)"
   ]
  },
  {
   "cell_type": "code",
   "execution_count": 91,
   "metadata": {},
   "outputs": [],
   "source": [
    "data['cpu_alloc'] = data['cpu_alloc'].replace(100000000.0, 1)\n",
    "data['cpu_alloc'] = data['cpu_alloc'].replace(200000000.0, 2)\n",
    "data['cpu_alloc'] = data['cpu_alloc'].replace(300000000.0, 3)\n",
    "data['cpu_alloc'] = data['cpu_alloc'].replace(400000000.0, 4)"
   ]
  },
  {
   "cell_type": "code",
   "execution_count": 92,
   "metadata": {},
   "outputs": [],
   "source": [
    "data['memory_alloc'] = data['memory_alloc'].replace(248000000.0, 248)"
   ]
  },
  {
   "cell_type": "code",
   "execution_count": 93,
   "metadata": {},
   "outputs": [
    {
     "data": {
      "text/html": [
       "<div>\n",
       "<style scoped>\n",
       "    .dataframe tbody tr th:only-of-type {\n",
       "        vertical-align: middle;\n",
       "    }\n",
       "\n",
       "    .dataframe tbody tr th {\n",
       "        vertical-align: top;\n",
       "    }\n",
       "\n",
       "    .dataframe thead th {\n",
       "        text-align: right;\n",
       "    }\n",
       "</style>\n",
       "<table border=\"1\" class=\"dataframe\">\n",
       "  <thead>\n",
       "    <tr style=\"text-align: right;\">\n",
       "      <th></th>\n",
       "      <th>served_request</th>\n",
       "      <th>request_rate</th>\n",
       "      <th>number_instances</th>\n",
       "      <th>response_time</th>\n",
       "      <th>performance</th>\n",
       "      <th>cpu_usage</th>\n",
       "      <th>cpu_alloc</th>\n",
       "      <th>memory</th>\n",
       "      <th>memory_alloc</th>\n",
       "    </tr>\n",
       "  </thead>\n",
       "  <tbody>\n",
       "    <tr>\n",
       "      <th>13</th>\n",
       "      <td>0.000000</td>\n",
       "      <td>0.000000</td>\n",
       "      <td>1.0</td>\n",
       "      <td>6960.363826</td>\n",
       "      <td>0.000000</td>\n",
       "      <td>39.366667</td>\n",
       "      <td>2.0</td>\n",
       "      <td>9.718443e+06</td>\n",
       "      <td>32.0</td>\n",
       "    </tr>\n",
       "    <tr>\n",
       "      <th>14</th>\n",
       "      <td>0.000000</td>\n",
       "      <td>8.333333</td>\n",
       "      <td>1.0</td>\n",
       "      <td>6960.363826</td>\n",
       "      <td>33.334054</td>\n",
       "      <td>39.366667</td>\n",
       "      <td>2.0</td>\n",
       "      <td>9.718443e+06</td>\n",
       "      <td>32.0</td>\n",
       "    </tr>\n",
       "    <tr>\n",
       "      <th>15</th>\n",
       "      <td>0.000000</td>\n",
       "      <td>8.333333</td>\n",
       "      <td>1.0</td>\n",
       "      <td>6960.363826</td>\n",
       "      <td>33.334054</td>\n",
       "      <td>39.366667</td>\n",
       "      <td>2.0</td>\n",
       "      <td>9.718443e+06</td>\n",
       "      <td>32.0</td>\n",
       "    </tr>\n",
       "    <tr>\n",
       "      <th>16</th>\n",
       "      <td>20.333333</td>\n",
       "      <td>8.333333</td>\n",
       "      <td>1.0</td>\n",
       "      <td>6960.363826</td>\n",
       "      <td>33.334054</td>\n",
       "      <td>39.366667</td>\n",
       "      <td>2.0</td>\n",
       "      <td>9.718443e+06</td>\n",
       "      <td>32.0</td>\n",
       "    </tr>\n",
       "    <tr>\n",
       "      <th>17</th>\n",
       "      <td>20.333333</td>\n",
       "      <td>8.333333</td>\n",
       "      <td>1.0</td>\n",
       "      <td>6960.363826</td>\n",
       "      <td>33.334054</td>\n",
       "      <td>39.366667</td>\n",
       "      <td>2.0</td>\n",
       "      <td>9.718443e+06</td>\n",
       "      <td>32.0</td>\n",
       "    </tr>\n",
       "    <tr>\n",
       "      <th>...</th>\n",
       "      <td>...</td>\n",
       "      <td>...</td>\n",
       "      <td>...</td>\n",
       "      <td>...</td>\n",
       "      <td>...</td>\n",
       "      <td>...</td>\n",
       "      <td>...</td>\n",
       "      <td>...</td>\n",
       "      <td>...</td>\n",
       "    </tr>\n",
       "    <tr>\n",
       "      <th>35263</th>\n",
       "      <td>39.428571</td>\n",
       "      <td>16.571429</td>\n",
       "      <td>3.0</td>\n",
       "      <td>6.409822</td>\n",
       "      <td>10.665537</td>\n",
       "      <td>37.100000</td>\n",
       "      <td>3.0</td>\n",
       "      <td>3.025130e+07</td>\n",
       "      <td>248.0</td>\n",
       "    </tr>\n",
       "    <tr>\n",
       "      <th>35264</th>\n",
       "      <td>39.428571</td>\n",
       "      <td>16.571429</td>\n",
       "      <td>3.0</td>\n",
       "      <td>6.409822</td>\n",
       "      <td>10.665537</td>\n",
       "      <td>37.100000</td>\n",
       "      <td>3.0</td>\n",
       "      <td>3.025130e+07</td>\n",
       "      <td>248.0</td>\n",
       "    </tr>\n",
       "    <tr>\n",
       "      <th>35265</th>\n",
       "      <td>39.428571</td>\n",
       "      <td>16.571429</td>\n",
       "      <td>3.0</td>\n",
       "      <td>13.592183</td>\n",
       "      <td>10.665537</td>\n",
       "      <td>37.100000</td>\n",
       "      <td>3.0</td>\n",
       "      <td>3.025130e+07</td>\n",
       "      <td>248.0</td>\n",
       "    </tr>\n",
       "    <tr>\n",
       "      <th>35266</th>\n",
       "      <td>39.428571</td>\n",
       "      <td>16.571429</td>\n",
       "      <td>3.0</td>\n",
       "      <td>13.592183</td>\n",
       "      <td>10.665537</td>\n",
       "      <td>37.100000</td>\n",
       "      <td>3.0</td>\n",
       "      <td>3.025130e+07</td>\n",
       "      <td>248.0</td>\n",
       "    </tr>\n",
       "    <tr>\n",
       "      <th>35267</th>\n",
       "      <td>39.428571</td>\n",
       "      <td>16.571429</td>\n",
       "      <td>3.0</td>\n",
       "      <td>13.592183</td>\n",
       "      <td>10.665537</td>\n",
       "      <td>47.842857</td>\n",
       "      <td>3.0</td>\n",
       "      <td>3.025130e+07</td>\n",
       "      <td>248.0</td>\n",
       "    </tr>\n",
       "  </tbody>\n",
       "</table>\n",
       "<p>30507 rows × 9 columns</p>\n",
       "</div>"
      ],
      "text/plain": [
       "       served_request  request_rate  number_instances  response_time  \\\n",
       "13           0.000000      0.000000               1.0    6960.363826   \n",
       "14           0.000000      8.333333               1.0    6960.363826   \n",
       "15           0.000000      8.333333               1.0    6960.363826   \n",
       "16          20.333333      8.333333               1.0    6960.363826   \n",
       "17          20.333333      8.333333               1.0    6960.363826   \n",
       "...               ...           ...               ...            ...   \n",
       "35263       39.428571     16.571429               3.0       6.409822   \n",
       "35264       39.428571     16.571429               3.0       6.409822   \n",
       "35265       39.428571     16.571429               3.0      13.592183   \n",
       "35266       39.428571     16.571429               3.0      13.592183   \n",
       "35267       39.428571     16.571429               3.0      13.592183   \n",
       "\n",
       "       performance  cpu_usage  cpu_alloc        memory  memory_alloc  \n",
       "13        0.000000  39.366667        2.0  9.718443e+06          32.0  \n",
       "14       33.334054  39.366667        2.0  9.718443e+06          32.0  \n",
       "15       33.334054  39.366667        2.0  9.718443e+06          32.0  \n",
       "16       33.334054  39.366667        2.0  9.718443e+06          32.0  \n",
       "17       33.334054  39.366667        2.0  9.718443e+06          32.0  \n",
       "...            ...        ...        ...           ...           ...  \n",
       "35263    10.665537  37.100000        3.0  3.025130e+07         248.0  \n",
       "35264    10.665537  37.100000        3.0  3.025130e+07         248.0  \n",
       "35265    10.665537  37.100000        3.0  3.025130e+07         248.0  \n",
       "35266    10.665537  37.100000        3.0  3.025130e+07         248.0  \n",
       "35267    10.665537  47.842857        3.0  3.025130e+07         248.0  \n",
       "\n",
       "[30507 rows x 9 columns]"
      ]
     },
     "execution_count": 93,
     "metadata": {},
     "output_type": "execute_result"
    }
   ],
   "source": [
    "data"
   ]
  },
  {
   "cell_type": "code",
   "execution_count": 94,
   "metadata": {},
   "outputs": [],
   "source": [
    "data = data.round(decimals=2)"
   ]
  },
  {
   "cell_type": "code",
   "execution_count": 95,
   "metadata": {},
   "outputs": [
    {
     "data": {
      "text/plain": [
       "(30507, 9)"
      ]
     },
     "execution_count": 95,
     "metadata": {},
     "output_type": "execute_result"
    }
   ],
   "source": [
    "data.shape"
   ]
  },
  {
   "cell_type": "code",
   "execution_count": 96,
   "metadata": {},
   "outputs": [
    {
     "data": {
      "text/html": [
       "<div>\n",
       "<style scoped>\n",
       "    .dataframe tbody tr th:only-of-type {\n",
       "        vertical-align: middle;\n",
       "    }\n",
       "\n",
       "    .dataframe tbody tr th {\n",
       "        vertical-align: top;\n",
       "    }\n",
       "\n",
       "    .dataframe thead th {\n",
       "        text-align: right;\n",
       "    }\n",
       "</style>\n",
       "<table border=\"1\" class=\"dataframe\">\n",
       "  <thead>\n",
       "    <tr style=\"text-align: right;\">\n",
       "      <th></th>\n",
       "      <th>served_request</th>\n",
       "      <th>request_rate</th>\n",
       "      <th>number_instances</th>\n",
       "      <th>response_time</th>\n",
       "      <th>performance</th>\n",
       "      <th>cpu_usage</th>\n",
       "      <th>cpu_alloc</th>\n",
       "      <th>memory</th>\n",
       "      <th>memory_alloc</th>\n",
       "    </tr>\n",
       "  </thead>\n",
       "  <tbody>\n",
       "    <tr>\n",
       "      <th>count</th>\n",
       "      <td>30507.000000</td>\n",
       "      <td>30507.000000</td>\n",
       "      <td>30507.000000</td>\n",
       "      <td>30507.000000</td>\n",
       "      <td>30507.000000</td>\n",
       "      <td>29608.000000</td>\n",
       "      <td>30507.000000</td>\n",
       "      <td>2.960900e+04</td>\n",
       "      <td>30507.000000</td>\n",
       "    </tr>\n",
       "    <tr>\n",
       "      <th>mean</th>\n",
       "      <td>22.391686</td>\n",
       "      <td>12.816734</td>\n",
       "      <td>1.366047</td>\n",
       "      <td>507.126632</td>\n",
       "      <td>61.012693</td>\n",
       "      <td>38.267292</td>\n",
       "      <td>2.518865</td>\n",
       "      <td>3.148796e+07</td>\n",
       "      <td>98.991051</td>\n",
       "    </tr>\n",
       "    <tr>\n",
       "      <th>std</th>\n",
       "      <td>63.763678</td>\n",
       "      <td>37.790858</td>\n",
       "      <td>0.790343</td>\n",
       "      <td>2753.333043</td>\n",
       "      <td>41.012961</td>\n",
       "      <td>9.283692</td>\n",
       "      <td>1.483380</td>\n",
       "      <td>6.424793e+06</td>\n",
       "      <td>84.894916</td>\n",
       "    </tr>\n",
       "    <tr>\n",
       "      <th>min</th>\n",
       "      <td>0.000000</td>\n",
       "      <td>0.000000</td>\n",
       "      <td>1.000000</td>\n",
       "      <td>0.000000</td>\n",
       "      <td>0.000000</td>\n",
       "      <td>14.870000</td>\n",
       "      <td>1.000000</td>\n",
       "      <td>2.083499e+06</td>\n",
       "      <td>32.000000</td>\n",
       "    </tr>\n",
       "    <tr>\n",
       "      <th>25%</th>\n",
       "      <td>0.000000</td>\n",
       "      <td>0.000000</td>\n",
       "      <td>1.000000</td>\n",
       "      <td>0.000000</td>\n",
       "      <td>7.970000</td>\n",
       "      <td>30.700000</td>\n",
       "      <td>2.000000</td>\n",
       "      <td>2.705818e+07</td>\n",
       "      <td>56.000000</td>\n",
       "    </tr>\n",
       "    <tr>\n",
       "      <th>50%</th>\n",
       "      <td>1.000000</td>\n",
       "      <td>0.330000</td>\n",
       "      <td>1.000000</td>\n",
       "      <td>1.520000</td>\n",
       "      <td>66.740000</td>\n",
       "      <td>39.235000</td>\n",
       "      <td>2.000000</td>\n",
       "      <td>3.301786e+07</td>\n",
       "      <td>56.000000</td>\n",
       "    </tr>\n",
       "    <tr>\n",
       "      <th>75%</th>\n",
       "      <td>22.110000</td>\n",
       "      <td>10.140000</td>\n",
       "      <td>1.000000</td>\n",
       "      <td>7.310000</td>\n",
       "      <td>100.000000</td>\n",
       "      <td>45.430000</td>\n",
       "      <td>2.000000</td>\n",
       "      <td>3.570483e+07</td>\n",
       "      <td>56.000000</td>\n",
       "    </tr>\n",
       "    <tr>\n",
       "      <th>max</th>\n",
       "      <td>636.000000</td>\n",
       "      <td>322.000000</td>\n",
       "      <td>5.000000</td>\n",
       "      <td>55029.400000</td>\n",
       "      <td>218.220000</td>\n",
       "      <td>73.400000</td>\n",
       "      <td>7.000000</td>\n",
       "      <td>5.108668e+07</td>\n",
       "      <td>248.000000</td>\n",
       "    </tr>\n",
       "  </tbody>\n",
       "</table>\n",
       "</div>"
      ],
      "text/plain": [
       "       served_request  request_rate  number_instances  response_time  \\\n",
       "count    30507.000000  30507.000000      30507.000000   30507.000000   \n",
       "mean        22.391686     12.816734          1.366047     507.126632   \n",
       "std         63.763678     37.790858          0.790343    2753.333043   \n",
       "min          0.000000      0.000000          1.000000       0.000000   \n",
       "25%          0.000000      0.000000          1.000000       0.000000   \n",
       "50%          1.000000      0.330000          1.000000       1.520000   \n",
       "75%         22.110000     10.140000          1.000000       7.310000   \n",
       "max        636.000000    322.000000          5.000000   55029.400000   \n",
       "\n",
       "        performance     cpu_usage     cpu_alloc        memory  memory_alloc  \n",
       "count  30507.000000  29608.000000  30507.000000  2.960900e+04  30507.000000  \n",
       "mean      61.012693     38.267292      2.518865  3.148796e+07     98.991051  \n",
       "std       41.012961      9.283692      1.483380  6.424793e+06     84.894916  \n",
       "min        0.000000     14.870000      1.000000  2.083499e+06     32.000000  \n",
       "25%        7.970000     30.700000      2.000000  2.705818e+07     56.000000  \n",
       "50%       66.740000     39.235000      2.000000  3.301786e+07     56.000000  \n",
       "75%      100.000000     45.430000      2.000000  3.570483e+07     56.000000  \n",
       "max      218.220000     73.400000      7.000000  5.108668e+07    248.000000  "
      ]
     },
     "execution_count": 96,
     "metadata": {},
     "output_type": "execute_result"
    }
   ],
   "source": [
    "# Data Description\n",
    "data.describe()"
   ]
  },
  {
   "cell_type": "markdown",
   "metadata": {},
   "source": [
    "#### Remove rows with response time = 0"
   ]
  },
  {
   "cell_type": "code",
   "execution_count": 97,
   "metadata": {},
   "outputs": [],
   "source": [
    "data_2 = data.drop(data[data['response_time'] == 0.000000 ].index) "
   ]
  },
  {
   "cell_type": "code",
   "execution_count": 98,
   "metadata": {},
   "outputs": [],
   "source": [
    "data_2 = data_2.round(decimals=2)"
   ]
  },
  {
   "cell_type": "markdown",
   "metadata": {},
   "source": [
    "#### Reset index in dataframe "
   ]
  },
  {
   "cell_type": "code",
   "execution_count": 99,
   "metadata": {},
   "outputs": [
    {
     "data": {
      "text/html": [
       "<div>\n",
       "<style scoped>\n",
       "    .dataframe tbody tr th:only-of-type {\n",
       "        vertical-align: middle;\n",
       "    }\n",
       "\n",
       "    .dataframe tbody tr th {\n",
       "        vertical-align: top;\n",
       "    }\n",
       "\n",
       "    .dataframe thead th {\n",
       "        text-align: right;\n",
       "    }\n",
       "</style>\n",
       "<table border=\"1\" class=\"dataframe\">\n",
       "  <thead>\n",
       "    <tr style=\"text-align: right;\">\n",
       "      <th></th>\n",
       "      <th>served_request</th>\n",
       "      <th>request_rate</th>\n",
       "      <th>number_instances</th>\n",
       "      <th>response_time</th>\n",
       "      <th>performance</th>\n",
       "      <th>cpu_usage</th>\n",
       "      <th>cpu_alloc</th>\n",
       "      <th>memory</th>\n",
       "      <th>memory_alloc</th>\n",
       "    </tr>\n",
       "  </thead>\n",
       "  <tbody>\n",
       "    <tr>\n",
       "      <th>0</th>\n",
       "      <td>0.00</td>\n",
       "      <td>0.00</td>\n",
       "      <td>1.0</td>\n",
       "      <td>6960.36</td>\n",
       "      <td>0.00</td>\n",
       "      <td>39.37</td>\n",
       "      <td>2.0</td>\n",
       "      <td>9718442.67</td>\n",
       "      <td>32.0</td>\n",
       "    </tr>\n",
       "    <tr>\n",
       "      <th>1</th>\n",
       "      <td>0.00</td>\n",
       "      <td>8.33</td>\n",
       "      <td>1.0</td>\n",
       "      <td>6960.36</td>\n",
       "      <td>33.33</td>\n",
       "      <td>39.37</td>\n",
       "      <td>2.0</td>\n",
       "      <td>9718442.67</td>\n",
       "      <td>32.0</td>\n",
       "    </tr>\n",
       "    <tr>\n",
       "      <th>2</th>\n",
       "      <td>0.00</td>\n",
       "      <td>8.33</td>\n",
       "      <td>1.0</td>\n",
       "      <td>6960.36</td>\n",
       "      <td>33.33</td>\n",
       "      <td>39.37</td>\n",
       "      <td>2.0</td>\n",
       "      <td>9718442.67</td>\n",
       "      <td>32.0</td>\n",
       "    </tr>\n",
       "    <tr>\n",
       "      <th>3</th>\n",
       "      <td>20.33</td>\n",
       "      <td>8.33</td>\n",
       "      <td>1.0</td>\n",
       "      <td>6960.36</td>\n",
       "      <td>33.33</td>\n",
       "      <td>39.37</td>\n",
       "      <td>2.0</td>\n",
       "      <td>9718442.67</td>\n",
       "      <td>32.0</td>\n",
       "    </tr>\n",
       "    <tr>\n",
       "      <th>4</th>\n",
       "      <td>20.33</td>\n",
       "      <td>8.33</td>\n",
       "      <td>1.0</td>\n",
       "      <td>6960.36</td>\n",
       "      <td>33.33</td>\n",
       "      <td>39.37</td>\n",
       "      <td>2.0</td>\n",
       "      <td>9718442.67</td>\n",
       "      <td>32.0</td>\n",
       "    </tr>\n",
       "  </tbody>\n",
       "</table>\n",
       "</div>"
      ],
      "text/plain": [
       "   served_request  request_rate  number_instances  response_time  performance  \\\n",
       "0            0.00          0.00               1.0        6960.36         0.00   \n",
       "1            0.00          8.33               1.0        6960.36        33.33   \n",
       "2            0.00          8.33               1.0        6960.36        33.33   \n",
       "3           20.33          8.33               1.0        6960.36        33.33   \n",
       "4           20.33          8.33               1.0        6960.36        33.33   \n",
       "\n",
       "   cpu_usage  cpu_alloc      memory  memory_alloc  \n",
       "0      39.37        2.0  9718442.67          32.0  \n",
       "1      39.37        2.0  9718442.67          32.0  \n",
       "2      39.37        2.0  9718442.67          32.0  \n",
       "3      39.37        2.0  9718442.67          32.0  \n",
       "4      39.37        2.0  9718442.67          32.0  "
      ]
     },
     "execution_count": 99,
     "metadata": {},
     "output_type": "execute_result"
    }
   ],
   "source": [
    "data_3 = data_2.reset_index()\n",
    "data_3 = data_3.drop(columns=['index'])\n",
    "data_3.head()"
   ]
  },
  {
   "cell_type": "code",
   "execution_count": null,
   "metadata": {},
   "outputs": [],
   "source": []
  },
  {
   "cell_type": "markdown",
   "metadata": {},
   "source": [
    "# Data Imputation technique 1"
   ]
  },
  {
   "cell_type": "markdown",
   "metadata": {},
   "source": [
    "# Missing Values Imputation \n",
    "#### We are using an inheritance from the sklearn.base classes (BaseEstimator, TransformerMixin). "
   ]
  },
  {
   "cell_type": "markdown",
   "metadata": {},
   "source": [
    "# Group Data according to configuration and then for each configuration take the mean or the meadian"
   ]
  },
  {
   "cell_type": "code",
   "execution_count": 100,
   "metadata": {},
   "outputs": [
    {
     "name": "stdout",
     "output_type": "stream",
     "text": [
      "    number_instances  cpu_alloc  memory_alloc  served_request\n",
      "0                1.0        1.0         248.0           22.33\n",
      "1                1.0        2.0          32.0           10.67\n",
      "2                1.0        2.0          48.0          636.00\n",
      "3                1.0        2.0          56.0            1.00\n",
      "4                1.0        2.0         248.0           44.67\n",
      "5                1.0        3.0          32.0           14.33\n",
      "6                1.0        3.0         248.0           72.50\n",
      "7                1.0        4.0         248.0           90.67\n",
      "8                1.0        6.0          32.0           58.33\n",
      "9                2.0        1.0         248.0           25.20\n",
      "10               2.0        2.0         248.0           46.80\n",
      "11               2.0        3.0         248.0           78.80\n",
      "12               2.0        6.0          32.0          141.00\n",
      "13               2.0        7.0          32.0            0.60\n",
      "14               3.0        1.0         248.0           24.29\n",
      "15               3.0        2.0         248.0           40.57\n",
      "16               3.0        3.0         248.0           64.57\n",
      "17               4.0        1.0         248.0           25.78\n",
      "18               4.0        2.0         248.0           30.00\n",
      "19               5.0        1.0         248.0           22.11\n",
      "    number_instances  cpu_alloc  memory_alloc  request_rate\n",
      "0                1.0        1.0         248.0        13.670\n",
      "1                1.0        2.0          32.0         8.000\n",
      "2                1.0        2.0          48.0       322.000\n",
      "3                1.0        2.0          56.0         0.000\n",
      "4                1.0        2.0         248.0        27.000\n",
      "5                1.0        3.0          32.0         7.670\n",
      "6                1.0        3.0         248.0        43.835\n",
      "7                1.0        4.0         248.0        49.330\n",
      "8                1.0        6.0          32.0        93.000\n",
      "9                2.0        1.0         248.0        12.400\n",
      "10               2.0        2.0         248.0        22.600\n",
      "11               2.0        3.0         248.0        49.000\n",
      "12               2.0        6.0          32.0        93.000\n",
      "13               2.0        7.0          32.0         0.000\n",
      "14               3.0        1.0         248.0        11.710\n",
      "15               3.0        2.0         248.0        17.710\n",
      "16               3.0        3.0         248.0        30.570\n",
      "17               4.0        1.0         248.0        11.330\n",
      "18               4.0        2.0         248.0        13.440\n",
      "19               5.0        1.0         248.0         9.730\n",
      "    number_instances  cpu_alloc  memory_alloc  response_time\n",
      "0                1.0        1.0         248.0        1534.37\n",
      "1                1.0        2.0          32.0       15334.91\n",
      "2                1.0        2.0          48.0           1.71\n",
      "3                1.0        2.0          56.0           1.88\n",
      "4                1.0        2.0         248.0          60.26\n",
      "5                1.0        3.0          32.0        7080.89\n",
      "6                1.0        3.0         248.0          23.46\n",
      "7                1.0        4.0         248.0          18.22\n",
      "8                1.0        6.0          32.0        1112.42\n",
      "9                2.0        1.0         248.0         891.72\n",
      "10               2.0        2.0         248.0         402.75\n",
      "11               2.0        3.0         248.0          35.05\n",
      "12               2.0        6.0          32.0         558.21\n",
      "13               2.0        7.0          32.0           1.42\n",
      "14               3.0        1.0         248.0         500.57\n",
      "15               3.0        2.0         248.0          31.05\n",
      "16               3.0        3.0         248.0           8.86\n",
      "17               4.0        1.0         248.0         339.48\n",
      "18               4.0        2.0         248.0           3.09\n",
      "19               5.0        1.0         248.0         285.70\n",
      "    number_instances  cpu_alloc  memory_alloc  performance\n",
      "0                1.0        1.0         248.0         0.01\n",
      "1                1.0        2.0          32.0         0.00\n",
      "2                1.0        2.0          48.0       199.55\n",
      "3                1.0        2.0          56.0        66.97\n",
      "4                1.0        2.0         248.0         0.74\n",
      "5                1.0        3.0          32.0         0.02\n",
      "6                1.0        3.0         248.0         1.75\n",
      "7                1.0        4.0         248.0         7.22\n",
      "8                1.0        6.0          32.0         0.07\n",
      "9                2.0        1.0         248.0         0.24\n",
      "10               2.0        2.0         248.0         1.57\n",
      "11               2.0        3.0         248.0         3.58\n",
      "12               2.0        6.0          32.0         0.07\n",
      "13               2.0        7.0          32.0       100.00\n",
      "14               3.0        1.0         248.0         0.38\n",
      "15               3.0        2.0         248.0         1.53\n",
      "16               3.0        3.0         248.0        10.20\n",
      "17               4.0        1.0         248.0         0.20\n",
      "18               4.0        2.0         248.0         8.11\n",
      "19               5.0        1.0         248.0         0.44\n",
      "    number_instances  cpu_alloc  memory_alloc  cpu_usage\n",
      "0                1.0        1.0         248.0      24.40\n",
      "1                1.0        2.0          32.0      20.57\n",
      "2                1.0        2.0          48.0      29.20\n",
      "3                1.0        2.0          56.0      42.17\n",
      "4                1.0        2.0         248.0      28.43\n",
      "5                1.0        3.0          32.0      36.07\n",
      "6                1.0        3.0         248.0      30.87\n",
      "7                1.0        4.0         248.0      30.57\n",
      "8                1.0        6.0          32.0      45.07\n",
      "9                2.0        1.0         248.0      24.24\n",
      "10               2.0        2.0         248.0      43.24\n",
      "11               2.0        3.0         248.0      42.50\n",
      "12               2.0        6.0          32.0      45.07\n",
      "13               2.0        7.0          32.0      39.32\n",
      "14               3.0        1.0         248.0      31.09\n",
      "15               3.0        2.0         248.0      61.84\n",
      "16               3.0        3.0         248.0      41.14\n",
      "17               4.0        1.0         248.0      37.93\n",
      "18               4.0        2.0         248.0      48.69\n",
      "19               5.0        1.0         248.0      58.67\n",
      "    number_instances  cpu_alloc  memory_alloc       memory\n",
      "0                1.0        1.0         248.0  36963669.33\n",
      "1                1.0        2.0          32.0   6285994.67\n",
      "2                1.0        2.0          48.0  32408917.33\n",
      "3                1.0        2.0          56.0  31985664.00\n",
      "4                1.0        2.0         248.0  37875712.00\n",
      "5                1.0        3.0          32.0   6627328.00\n",
      "6                1.0        3.0         248.0  38129664.00\n",
      "7                1.0        4.0         248.0  37807445.33\n",
      "8                1.0        6.0          32.0  51086677.33\n",
      "9                2.0        1.0         248.0  40073625.60\n",
      "10               2.0        2.0         248.0  34136883.20\n",
      "11               2.0        3.0         248.0  33202176.00\n",
      "12               2.0        6.0          32.0  51086677.33\n",
      "13               2.0        7.0          32.0  33234944.00\n",
      "14               3.0        1.0         248.0  35364864.00\n",
      "15               3.0        2.0         248.0  34437997.71\n",
      "16               3.0        3.0         248.0  36189330.29\n",
      "17               4.0        1.0         248.0  33857536.00\n",
      "18               4.0        2.0         248.0  27695331.56\n",
      "19               5.0        1.0         248.0  33021952.00\n",
      "data contains 0 missing values.\n",
      "df_imp contains 0 missing values.\n",
      "data contains 0 missing values.\n",
      "df_imp contains 0 missing values.\n",
      "data contains 0 missing values.\n",
      "df_imp contains 0 missing values.\n",
      "data contains 0 missing values.\n",
      "df_imp contains 0 missing values.\n",
      "data contains 59 missing values.\n",
      "df_imp contains 0 missing values.\n",
      "data contains 63 missing values.\n",
      "df_imp contains 0 missing values.\n"
     ]
    }
   ],
   "source": [
    "#Missing Values Imputation \n",
    "\n",
    "class GroupImputer(BaseEstimator, TransformerMixin):\n",
    "    '''\n",
    "    Class used for imputing missing values in a pd.DataFrame using either mean or median of a group.\n",
    "\n",
    "    Parameters\n",
    "    ----------\n",
    "    group_cols : list\n",
    "        List of columns used for calculating the aggregated value\n",
    "    target : str\n",
    "        The name of the column to impute\n",
    "    metric : str\n",
    "        The metric to be used for remplacement, can be one of ['mean', 'median']\n",
    "    Returns\n",
    "    -------\n",
    "    X : array-like\n",
    "        The array with imputed values in the target column\n",
    "    '''\n",
    "\n",
    "    def __init__(self, group_cols, target, metric='mean'):\n",
    "        assert metric in ['mean', 'median'], 'Unrecognized value for metric, should be mean/median'\n",
    "        #assert type(group_cols) == list, 'group_cols should be a list of columns'\n",
    "        assert type(target) == str, 'target should be a string'\n",
    "\n",
    "        self.group_cols = group_cols\n",
    "        self.target = target\n",
    "        self.metric = metric\n",
    "\n",
    "    def fit(self, X, y=None):\n",
    "        assert pd.isnull(X[self.group_cols]).any(axis=None) == False, 'There are missing values in group_cols'\n",
    "\n",
    "        impute_map = X.groupby(self.group_cols)[self.target].agg(self.metric).reset_index(drop=False)#\n",
    "        \n",
    "        print(impute_map)\n",
    "        self.impute_map_ = impute_map\n",
    "\n",
    "        return self\n",
    "\n",
    "    def transform(self, X, y=None):\n",
    "        # make sure that the imputer was fitted\n",
    "        check_is_fitted(self, 'impute_map_')\n",
    "\n",
    "        X = X.copy()\n",
    "\n",
    "        for index, row in self.impute_map_.iterrows():\n",
    "            ind = (X[self.group_cols] == row[self.group_cols]).all(axis=1)\n",
    "            X.loc[ind] = X.loc[ind].fillna(row[self.target])\n",
    "\n",
    "        return X.values\n",
    "\n",
    "\n",
    "conf_columns = ['number_instances', 'cpu_alloc', 'memory_alloc' ]\n",
    "\n",
    "for col_name in data.columns:\n",
    "    if col_name != 'number_instances' and col_name != 'cpu_alloc' and col_name!= 'memory_alloc' :\n",
    "\n",
    "        imp = GroupImputer(group_cols=conf_columns,\n",
    "                           target=col_name,\n",
    "                           metric='median')\n",
    "\n",
    "        df_imp = pd.DataFrame(imp.fit_transform(data_2),\n",
    "                              columns=data_2.columns)\n",
    "\n",
    "\n",
    "\n",
    "for col_name in data_2.columns:\n",
    "    if col_name != 'number_instances' and col_name != 'cpu_alloc' and col_name!= 'memory_alloc' :\n",
    "\n",
    "        print(f'data contains {sum(pd.isnull(data_2[col_name]))} missing values.')\n",
    "        print(f'df_imp contains {sum(pd.isnull(df_imp[col_name]))} missing values.')\n"
   ]
  },
  {
   "cell_type": "code",
   "execution_count": 101,
   "metadata": {},
   "outputs": [
    {
     "data": {
      "text/plain": [
       "served_request      0\n",
       "request_rate        0\n",
       "number_instances    0\n",
       "response_time       0\n",
       "performance         0\n",
       "cpu_usage           0\n",
       "cpu_alloc           0\n",
       "memory              0\n",
       "memory_alloc        0\n",
       "dtype: int64"
      ]
     },
     "execution_count": 101,
     "metadata": {},
     "output_type": "execute_result"
    }
   ],
   "source": [
    "df_imp.isna().sum()"
   ]
  },
  {
   "cell_type": "code",
   "execution_count": 102,
   "metadata": {},
   "outputs": [],
   "source": [
    "df_imp_1 = df_imp.groupby(['number_instances', 'cpu_alloc', 'memory_alloc']).size().reset_index()\n",
    "\n",
    "lista = []\n",
    "for row in df_imp_1.iterrows():\n",
    "    lista.append(df_imp_1[['number_instances', 'cpu_alloc', 'memory_alloc']])\n"
   ]
  },
  {
   "cell_type": "code",
   "execution_count": 103,
   "metadata": {},
   "outputs": [],
   "source": [
    "df_imp_1 = df_imp_1.drop(columns=[0])\n",
    "dictionairy = df_imp_1.to_dict('index')"
   ]
  },
  {
   "cell_type": "code",
   "execution_count": 104,
   "metadata": {},
   "outputs": [],
   "source": [
    "def label_race(row):\n",
    "    \n",
    "    if row['number_instances'] == 1.0 and row['cpu_alloc'] == 1.0 and row['memory_alloc'] == 248.0 :\n",
    "        return 0\n",
    "    elif row['number_instances'] == 1.0 and row['cpu_alloc'] == 2.0 and row['memory_alloc'] == 32.0:\n",
    "        return 1\n",
    "    elif row['number_instances'] == 1.0 and row['cpu_alloc'] == 2.0 and row['memory_alloc'] == 48.0:\n",
    "        return 2\n",
    "    elif row['number_instances'] == 1.0 and row['cpu_alloc'] == 2.0 and row['memory_alloc'] == 56.0:\n",
    "        return 3\n",
    "    elif row['number_instances'] == 1.0 and row['cpu_alloc'] == 2.0 and row['memory_alloc'] == 248.0:\n",
    "        return 4\n",
    "    elif row['number_instances'] == 1.0 and row['cpu_alloc'] == 3.0 and row['memory_alloc'] == 32.0:\n",
    "        return 5\n",
    "    elif row['number_instances'] == 1.0 and row['cpu_alloc'] == 3.0 and row['memory_alloc'] == 248.0:\n",
    "        return 6\n",
    "    elif row['number_instances'] == 1.0 and row['cpu_alloc'] == 4.0 and row['memory_alloc'] == 248.0:\n",
    "        return 7\n",
    "    elif row['number_instances'] == 1.0 and row['cpu_alloc'] == 6.0 and row['memory_alloc'] == 32.0:\n",
    "        return 8\n",
    "    elif row['number_instances'] == 2.0 and row['cpu_alloc'] == 1.0 and row['memory_alloc'] == 248.0:\n",
    "        return 9\n",
    "    elif row['number_instances'] == 2.0 and row['cpu_alloc'] == 2.0 and row['memory_alloc'] == 248.0:\n",
    "        return 10\n",
    "    elif row['number_instances'] == 2.0 and row['cpu_alloc'] == 3.0 and row['memory_alloc'] == 248.0:\n",
    "        return 11\n",
    "    elif row['number_instances'] == 2.0 and row['cpu_alloc'] == 6.0 and row['memory_alloc'] == 32.0:\n",
    "        return 12\n",
    "    elif row['number_instances'] == 2.0 and row['cpu_alloc'] == 7.0 and row['memory_alloc'] == 32.0:\n",
    "        return 13\n",
    "    elif row['number_instances'] == 3.0 and row['cpu_alloc'] == 1.0 and row['memory_alloc'] == 248.0:\n",
    "        return 14\n",
    "    elif row['number_instances'] == 3.0 and row['cpu_alloc'] == 2.0 and row['memory_alloc'] == 248.0:\n",
    "        return 15\n",
    "    elif row['number_instances'] == 3.0 and row['cpu_alloc'] == 3.0 and row['memory_alloc'] == 248.0:\n",
    "        return 16\n",
    "    elif row['number_instances'] == 4.0 and row['cpu_alloc'] == 1.0 and row['memory_alloc'] == 248.0:\n",
    "        return 17\n",
    "    elif row['number_instances'] == 4.0 and row['cpu_alloc'] == 2.0 and row['memory_alloc'] == 248.0:\n",
    "        return 18\n",
    "    elif row['number_instances'] == 5.0 and row['cpu_alloc'] == 1.0 and row['memory_alloc'] == 248.0:\n",
    "        return 19\n",
    "  \n",
    "df_imp_2 = df_imp.copy()\n",
    "df_imp_2['configuration'] = df_imp_2.apply (lambda row: label_race(row), axis=1)\n",
    "\n"
   ]
  },
  {
   "cell_type": "code",
   "execution_count": 105,
   "metadata": {},
   "outputs": [
    {
     "data": {
      "text/plain": [
       "array([ 1,  2,  3,  0,  9, 14, 17, 19,  4, 10, 15, 18,  5,  8, 12, 13,  6,\n",
       "        7, 11, 16])"
      ]
     },
     "execution_count": 105,
     "metadata": {},
     "output_type": "execute_result"
    }
   ],
   "source": [
    "df_imp_2['configuration'].unique()"
   ]
  },
  {
   "cell_type": "code",
   "execution_count": 106,
   "metadata": {},
   "outputs": [
    {
     "data": {
      "text/plain": [
       "0"
      ]
     },
     "execution_count": 106,
     "metadata": {},
     "output_type": "execute_result"
    }
   ],
   "source": [
    "df_imp_2['configuration'].isna().sum()"
   ]
  },
  {
   "cell_type": "code",
   "execution_count": 107,
   "metadata": {},
   "outputs": [
    {
     "data": {
      "text/plain": [
       "(19925, 10)"
      ]
     },
     "execution_count": 107,
     "metadata": {},
     "output_type": "execute_result"
    }
   ],
   "source": [
    "df_imp_2.shape"
   ]
  },
  {
   "cell_type": "code",
   "execution_count": null,
   "metadata": {},
   "outputs": [],
   "source": []
  },
  {
   "cell_type": "markdown",
   "metadata": {},
   "source": [
    "# Algorithms Experimentation"
   ]
  },
  {
   "cell_type": "markdown",
   "metadata": {},
   "source": [
    "## Decision Tree Regressor "
   ]
  },
  {
   "cell_type": "markdown",
   "metadata": {},
   "source": [
    "#### 1) Tι συμβαινει αν απλα πεταξω ολες τις γραμμες που εχουν nan values"
   ]
  },
  {
   "cell_type": "markdown",
   "metadata": {},
   "source": [
    "##### Σε ολα αυτα τα κελια μπορει αντι του Decision Tree Regressor να μπει οποιος αλγοριθμος θελει καποιος να τεσταρει"
   ]
  },
  {
   "cell_type": "code",
   "execution_count": 75,
   "metadata": {},
   "outputs": [
    {
     "name": "stdout",
     "output_type": "stream",
     "text": [
      "[0.83952746 0.88424507 0.88983686 0.88043853 0.86930334 0.89845793\n",
      " 0.91525811 0.87277668 0.89103855 0.83410071]\n",
      "R2_test:  0.9345271582042805\n",
      "R2_train:  0.9320632844398\n",
      "127.46091049842408\n",
      "11.289858745725036\n",
      "6.478708520435303\n"
     ]
    }
   ],
   "source": [
    "## Decision Tree Regressor for the  Model which uses the configuration variables in order to predict the performance (variable)\n",
    "import matplotlib as mpl\n",
    "import matplotlib.pyplot as plt\n",
    "import numpy as np\n",
    "import pandas as pd\n",
    "from sklearn.model_selection import cross_val_score, train_test_split\n",
    "from sklearn import tree\n",
    "from sklearn.tree import DecisionTreeRegressor, plot_tree\n",
    "from sklearn.ensemble import RandomForestRegressor\n",
    "from sklearn.metrics import r2_score, mean_squared_error, mean_absolute_error\n",
    "\n",
    "data_4 = data_3.dropna()\n",
    "\n",
    "X_train, X_test, y_train, y_test = train_test_split(df_imp_2.drop(columns=['performance', 'served_request',\n",
    "                                                                         'response_time', 'memory' , 'cpu_usage'\n",
    "                             ]),\n",
    "                                                    df_imp_2['performance'],random_state=0)\n",
    "regressor = DecisionTreeRegressor(random_state=0)\n",
    "regressor.fit(X_train, y_train)\n",
    "cross_val_score(regressor, X_train, y_train, cv=10)\n",
    "print(cross_val)\n",
    "pred = regressor.predict(X_test)\n",
    "pred_train = regressor.predict(X_train)\n",
    "# R2_test\n",
    "print('R2_test: ', r2_score(y_test, pred))\n",
    "# R2_train\n",
    "print('R2_train: ', r2_score(y_train, pred_train))\n",
    "# MSE\n",
    "print(mean_squared_error(y_test, pred, squared=True))\n",
    "# RMSE\n",
    "print(mean_squared_error(y_test, pred, squared=False))\n",
    "# MAE\n",
    "print(mean_absolute_error(y_test, pred))\n"
   ]
  },
  {
   "cell_type": "markdown",
   "metadata": {},
   "source": [
    "## Something wrong with dataset and train/test split\n",
    "I suspect that most of the test data (maybe all) are not already unseen. In essence you were testing on seen data. For this reason train with test metrics above give the same number.\n",
    "Following some random sample which validate my concerns.\n"
   ]
  },
  {
   "cell_type": "code",
   "execution_count": 80,
   "metadata": {},
   "outputs": [
    {
     "data": {
      "text/html": [
       "<div>\n",
       "<style scoped>\n",
       "    .dataframe tbody tr th:only-of-type {\n",
       "        vertical-align: middle;\n",
       "    }\n",
       "\n",
       "    .dataframe tbody tr th {\n",
       "        vertical-align: top;\n",
       "    }\n",
       "\n",
       "    .dataframe thead th {\n",
       "        text-align: right;\n",
       "    }\n",
       "</style>\n",
       "<table border=\"1\" class=\"dataframe\">\n",
       "  <thead>\n",
       "    <tr style=\"text-align: right;\">\n",
       "      <th></th>\n",
       "      <th>request_rate</th>\n",
       "      <th>number_instances</th>\n",
       "      <th>cpu_alloc</th>\n",
       "      <th>memory_alloc</th>\n",
       "      <th>configuration</th>\n",
       "    </tr>\n",
       "  </thead>\n",
       "  <tbody>\n",
       "    <tr>\n",
       "      <th>18415</th>\n",
       "      <td>17.0</td>\n",
       "      <td>1.0</td>\n",
       "      <td>1.0</td>\n",
       "      <td>248.0</td>\n",
       "      <td>0</td>\n",
       "    </tr>\n",
       "    <tr>\n",
       "      <th>10778</th>\n",
       "      <td>17.0</td>\n",
       "      <td>2.0</td>\n",
       "      <td>1.0</td>\n",
       "      <td>248.0</td>\n",
       "      <td>9</td>\n",
       "    </tr>\n",
       "    <tr>\n",
       "      <th>18427</th>\n",
       "      <td>17.0</td>\n",
       "      <td>1.0</td>\n",
       "      <td>1.0</td>\n",
       "      <td>248.0</td>\n",
       "      <td>0</td>\n",
       "    </tr>\n",
       "    <tr>\n",
       "      <th>10783</th>\n",
       "      <td>17.0</td>\n",
       "      <td>2.0</td>\n",
       "      <td>1.0</td>\n",
       "      <td>248.0</td>\n",
       "      <td>9</td>\n",
       "    </tr>\n",
       "    <tr>\n",
       "      <th>18424</th>\n",
       "      <td>17.0</td>\n",
       "      <td>1.0</td>\n",
       "      <td>1.0</td>\n",
       "      <td>248.0</td>\n",
       "      <td>0</td>\n",
       "    </tr>\n",
       "    <tr>\n",
       "      <th>10781</th>\n",
       "      <td>17.0</td>\n",
       "      <td>2.0</td>\n",
       "      <td>1.0</td>\n",
       "      <td>248.0</td>\n",
       "      <td>9</td>\n",
       "    </tr>\n",
       "    <tr>\n",
       "      <th>10770</th>\n",
       "      <td>17.0</td>\n",
       "      <td>2.0</td>\n",
       "      <td>1.0</td>\n",
       "      <td>248.0</td>\n",
       "      <td>9</td>\n",
       "    </tr>\n",
       "    <tr>\n",
       "      <th>10769</th>\n",
       "      <td>17.0</td>\n",
       "      <td>2.0</td>\n",
       "      <td>1.0</td>\n",
       "      <td>248.0</td>\n",
       "      <td>9</td>\n",
       "    </tr>\n",
       "  </tbody>\n",
       "</table>\n",
       "</div>"
      ],
      "text/plain": [
       "       request_rate  number_instances  cpu_alloc  memory_alloc  configuration\n",
       "18415          17.0               1.0        1.0         248.0              0\n",
       "10778          17.0               2.0        1.0         248.0              9\n",
       "18427          17.0               1.0        1.0         248.0              0\n",
       "10783          17.0               2.0        1.0         248.0              9\n",
       "18424          17.0               1.0        1.0         248.0              0\n",
       "10781          17.0               2.0        1.0         248.0              9\n",
       "10770          17.0               2.0        1.0         248.0              9\n",
       "10769          17.0               2.0        1.0         248.0              9"
      ]
     },
     "execution_count": 80,
     "metadata": {},
     "output_type": "execute_result"
    }
   ],
   "source": [
    "X_train[X_train['request_rate']==17.00]"
   ]
  },
  {
   "cell_type": "code",
   "execution_count": 82,
   "metadata": {},
   "outputs": [
    {
     "data": {
      "text/plain": [
       "0.44"
      ]
     },
     "execution_count": 82,
     "metadata": {},
     "output_type": "execute_result"
    }
   ],
   "source": [
    "y_train[18415]"
   ]
  },
  {
   "cell_type": "code",
   "execution_count": 83,
   "metadata": {},
   "outputs": [
    {
     "data": {
      "text/html": [
       "<div>\n",
       "<style scoped>\n",
       "    .dataframe tbody tr th:only-of-type {\n",
       "        vertical-align: middle;\n",
       "    }\n",
       "\n",
       "    .dataframe tbody tr th {\n",
       "        vertical-align: top;\n",
       "    }\n",
       "\n",
       "    .dataframe thead th {\n",
       "        text-align: right;\n",
       "    }\n",
       "</style>\n",
       "<table border=\"1\" class=\"dataframe\">\n",
       "  <thead>\n",
       "    <tr style=\"text-align: right;\">\n",
       "      <th></th>\n",
       "      <th>request_rate</th>\n",
       "      <th>number_instances</th>\n",
       "      <th>cpu_alloc</th>\n",
       "      <th>memory_alloc</th>\n",
       "      <th>configuration</th>\n",
       "    </tr>\n",
       "  </thead>\n",
       "  <tbody>\n",
       "    <tr>\n",
       "      <th>18417</th>\n",
       "      <td>17.0</td>\n",
       "      <td>1.0</td>\n",
       "      <td>1.0</td>\n",
       "      <td>248.0</td>\n",
       "      <td>0</td>\n",
       "    </tr>\n",
       "    <tr>\n",
       "      <th>10772</th>\n",
       "      <td>17.0</td>\n",
       "      <td>2.0</td>\n",
       "      <td>1.0</td>\n",
       "      <td>248.0</td>\n",
       "      <td>9</td>\n",
       "    </tr>\n",
       "    <tr>\n",
       "      <th>18426</th>\n",
       "      <td>17.0</td>\n",
       "      <td>1.0</td>\n",
       "      <td>1.0</td>\n",
       "      <td>248.0</td>\n",
       "      <td>0</td>\n",
       "    </tr>\n",
       "  </tbody>\n",
       "</table>\n",
       "</div>"
      ],
      "text/plain": [
       "       request_rate  number_instances  cpu_alloc  memory_alloc  configuration\n",
       "18417          17.0               1.0        1.0         248.0              0\n",
       "10772          17.0               2.0        1.0         248.0              9\n",
       "18426          17.0               1.0        1.0         248.0              0"
      ]
     },
     "execution_count": 83,
     "metadata": {},
     "output_type": "execute_result"
    }
   ],
   "source": [
    "X_test[X_test['request_rate']==17.00]"
   ]
  },
  {
   "cell_type": "code",
   "execution_count": 84,
   "metadata": {},
   "outputs": [
    {
     "data": {
      "text/plain": [
       "0.44"
      ]
     },
     "execution_count": 84,
     "metadata": {},
     "output_type": "execute_result"
    }
   ],
   "source": [
    "y_test[18417]"
   ]
  },
  {
   "cell_type": "code",
   "execution_count": 85,
   "metadata": {},
   "outputs": [
    {
     "data": {
      "text/html": [
       "<div>\n",
       "<style scoped>\n",
       "    .dataframe tbody tr th:only-of-type {\n",
       "        vertical-align: middle;\n",
       "    }\n",
       "\n",
       "    .dataframe tbody tr th {\n",
       "        vertical-align: top;\n",
       "    }\n",
       "\n",
       "    .dataframe thead th {\n",
       "        text-align: right;\n",
       "    }\n",
       "</style>\n",
       "<table border=\"1\" class=\"dataframe\">\n",
       "  <thead>\n",
       "    <tr style=\"text-align: right;\">\n",
       "      <th></th>\n",
       "      <th>request_rate</th>\n",
       "      <th>number_instances</th>\n",
       "      <th>cpu_alloc</th>\n",
       "      <th>memory_alloc</th>\n",
       "      <th>configuration</th>\n",
       "    </tr>\n",
       "  </thead>\n",
       "  <tbody>\n",
       "    <tr>\n",
       "      <th>17956</th>\n",
       "      <td>49.67</td>\n",
       "      <td>1.0</td>\n",
       "      <td>4.0</td>\n",
       "      <td>248.0</td>\n",
       "      <td>7</td>\n",
       "    </tr>\n",
       "    <tr>\n",
       "      <th>17943</th>\n",
       "      <td>49.67</td>\n",
       "      <td>1.0</td>\n",
       "      <td>4.0</td>\n",
       "      <td>248.0</td>\n",
       "      <td>7</td>\n",
       "    </tr>\n",
       "    <tr>\n",
       "      <th>17953</th>\n",
       "      <td>49.67</td>\n",
       "      <td>1.0</td>\n",
       "      <td>4.0</td>\n",
       "      <td>248.0</td>\n",
       "      <td>7</td>\n",
       "    </tr>\n",
       "    <tr>\n",
       "      <th>17957</th>\n",
       "      <td>49.67</td>\n",
       "      <td>1.0</td>\n",
       "      <td>4.0</td>\n",
       "      <td>248.0</td>\n",
       "      <td>7</td>\n",
       "    </tr>\n",
       "  </tbody>\n",
       "</table>\n",
       "</div>"
      ],
      "text/plain": [
       "       request_rate  number_instances  cpu_alloc  memory_alloc  configuration\n",
       "17956         49.67               1.0        4.0         248.0              7\n",
       "17943         49.67               1.0        4.0         248.0              7\n",
       "17953         49.67               1.0        4.0         248.0              7\n",
       "17957         49.67               1.0        4.0         248.0              7"
      ]
     },
     "execution_count": 85,
     "metadata": {},
     "output_type": "execute_result"
    }
   ],
   "source": [
    "X_train[X_train['request_rate']==49.67]"
   ]
  },
  {
   "cell_type": "code",
   "execution_count": 87,
   "metadata": {},
   "outputs": [
    {
     "data": {
      "text/plain": [
       "35.56"
      ]
     },
     "execution_count": 87,
     "metadata": {},
     "output_type": "execute_result"
    }
   ],
   "source": [
    "y_train[17956]"
   ]
  },
  {
   "cell_type": "code",
   "execution_count": 38,
   "metadata": {},
   "outputs": [
    {
     "data": {
      "text/html": [
       "<div>\n",
       "<style scoped>\n",
       "    .dataframe tbody tr th:only-of-type {\n",
       "        vertical-align: middle;\n",
       "    }\n",
       "\n",
       "    .dataframe tbody tr th {\n",
       "        vertical-align: top;\n",
       "    }\n",
       "\n",
       "    .dataframe thead th {\n",
       "        text-align: right;\n",
       "    }\n",
       "</style>\n",
       "<table border=\"1\" class=\"dataframe\">\n",
       "  <thead>\n",
       "    <tr style=\"text-align: right;\">\n",
       "      <th></th>\n",
       "      <th>request_rate</th>\n",
       "      <th>number_instances</th>\n",
       "      <th>cpu_alloc</th>\n",
       "      <th>memory_alloc</th>\n",
       "      <th>configuration</th>\n",
       "    </tr>\n",
       "  </thead>\n",
       "  <tbody>\n",
       "    <tr>\n",
       "      <th>17944</th>\n",
       "      <td>49.67</td>\n",
       "      <td>1.0</td>\n",
       "      <td>4.0</td>\n",
       "      <td>248.0</td>\n",
       "      <td>7</td>\n",
       "    </tr>\n",
       "    <tr>\n",
       "      <th>18872</th>\n",
       "      <td>49.67</td>\n",
       "      <td>1.0</td>\n",
       "      <td>4.0</td>\n",
       "      <td>248.0</td>\n",
       "      <td>7</td>\n",
       "    </tr>\n",
       "    <tr>\n",
       "      <th>17943</th>\n",
       "      <td>49.67</td>\n",
       "      <td>1.0</td>\n",
       "      <td>4.0</td>\n",
       "      <td>248.0</td>\n",
       "      <td>7</td>\n",
       "    </tr>\n",
       "    <tr>\n",
       "      <th>17946</th>\n",
       "      <td>49.67</td>\n",
       "      <td>1.0</td>\n",
       "      <td>4.0</td>\n",
       "      <td>248.0</td>\n",
       "      <td>7</td>\n",
       "    </tr>\n",
       "    <tr>\n",
       "      <th>18866</th>\n",
       "      <td>49.67</td>\n",
       "      <td>1.0</td>\n",
       "      <td>4.0</td>\n",
       "      <td>248.0</td>\n",
       "      <td>7</td>\n",
       "    </tr>\n",
       "    <tr>\n",
       "      <th>17954</th>\n",
       "      <td>49.67</td>\n",
       "      <td>1.0</td>\n",
       "      <td>4.0</td>\n",
       "      <td>248.0</td>\n",
       "      <td>7</td>\n",
       "    </tr>\n",
       "  </tbody>\n",
       "</table>\n",
       "</div>"
      ],
      "text/plain": [
       "       request_rate  number_instances  cpu_alloc  memory_alloc  configuration\n",
       "17944         49.67               1.0        4.0         248.0              7\n",
       "18872         49.67               1.0        4.0         248.0              7\n",
       "17943         49.67               1.0        4.0         248.0              7\n",
       "17946         49.67               1.0        4.0         248.0              7\n",
       "18866         49.67               1.0        4.0         248.0              7\n",
       "17954         49.67               1.0        4.0         248.0              7"
      ]
     },
     "execution_count": 38,
     "metadata": {},
     "output_type": "execute_result"
    }
   ],
   "source": [
    "X_test[X_test['request_rate']==49.67]"
   ]
  },
  {
   "cell_type": "code",
   "execution_count": 40,
   "metadata": {},
   "outputs": [
    {
     "data": {
      "text/plain": [
       "35.56"
      ]
     },
     "execution_count": 40,
     "metadata": {},
     "output_type": "execute_result"
    }
   ],
   "source": [
    "y_test[17944]"
   ]
  },
  {
   "cell_type": "markdown",
   "metadata": {},
   "source": [
    "## Drop duplicates on dataset"
   ]
  },
  {
   "cell_type": "code",
   "execution_count": 78,
   "metadata": {},
   "outputs": [],
   "source": [
    "df_imp_2 = df_imp_2.drop_duplicates()"
   ]
  },
  {
   "cell_type": "code",
   "execution_count": 79,
   "metadata": {},
   "outputs": [
    {
     "name": "stdout",
     "output_type": "stream",
     "text": [
      "[0.83952746 0.88424507 0.88983686 0.88043853 0.86930334 0.89845793\n",
      " 0.91525811 0.87277668 0.89103855 0.83410071]\n",
      "R2_test:  0.8824155102966318\n",
      "R2_train:  0.8985780285844468\n",
      "234.96353102787646\n",
      "15.328520183888477\n",
      "8.405763357270105\n"
     ]
    }
   ],
   "source": [
    "## Decision Tree Regressor for the  Model which uses the configuration variables in order to predict the performance (variable)\n",
    "import matplotlib as mpl\n",
    "import matplotlib.pyplot as plt\n",
    "import numpy as np\n",
    "import pandas as pd\n",
    "from sklearn.model_selection import cross_val_score, train_test_split\n",
    "from sklearn import tree\n",
    "from sklearn.tree import DecisionTreeRegressor, plot_tree\n",
    "from sklearn.ensemble import RandomForestRegressor\n",
    "from sklearn.metrics import r2_score, mean_squared_error, mean_absolute_error\n",
    "\n",
    "data_4 = data_3.dropna()\n",
    "\n",
    "X_train, X_test, y_train, y_test = train_test_split(df_imp_2.drop(columns=['performance', 'served_request',\n",
    "                                                                         'response_time', 'memory' , 'cpu_usage'\n",
    "                             ]),\n",
    "                                                    df_imp_2['performance'],random_state=0)\n",
    "regressor = DecisionTreeRegressor(random_state=0)\n",
    "regressor.fit(X_train, y_train)\n",
    "cross_val = cross_val_score(regressor, X_train, y_train, cv=10)\n",
    "print(cross_val)\n",
    "pred = regressor.predict(X_test)\n",
    "pred_train = regressor.predict(X_train)\n",
    "# R2_test\n",
    "print('R2_test: ', r2_score(y_test, pred))\n",
    "# R2_train\n",
    "print('R2_train: ', r2_score(y_train, pred_train))\n",
    "# MSE\n",
    "print(mean_squared_error(y_test, pred, squared=True))\n",
    "# RMSE\n",
    "print(mean_squared_error(y_test, pred, squared=False))\n",
    "# MAE\n",
    "print(mean_absolute_error(y_test, pred))\n"
   ]
  },
  {
   "cell_type": "markdown",
   "metadata": {},
   "source": [
    "## Drop without 'performance', 'served_request', 'response_time', 'memory' , 'cpu_usage'\n"
   ]
  },
  {
   "cell_type": "code",
   "execution_count": 108,
   "metadata": {},
   "outputs": [
    {
     "data": {
      "text/html": [
       "<div>\n",
       "<style scoped>\n",
       "    .dataframe tbody tr th:only-of-type {\n",
       "        vertical-align: middle;\n",
       "    }\n",
       "\n",
       "    .dataframe tbody tr th {\n",
       "        vertical-align: top;\n",
       "    }\n",
       "\n",
       "    .dataframe thead th {\n",
       "        text-align: right;\n",
       "    }\n",
       "</style>\n",
       "<table border=\"1\" class=\"dataframe\">\n",
       "  <thead>\n",
       "    <tr style=\"text-align: right;\">\n",
       "      <th></th>\n",
       "      <th>request_rate</th>\n",
       "      <th>number_instances</th>\n",
       "      <th>performance</th>\n",
       "      <th>cpu_alloc</th>\n",
       "      <th>memory_alloc</th>\n",
       "      <th>configuration</th>\n",
       "    </tr>\n",
       "  </thead>\n",
       "  <tbody>\n",
       "    <tr>\n",
       "      <th>0</th>\n",
       "      <td>0.00</td>\n",
       "      <td>1.0</td>\n",
       "      <td>0.00</td>\n",
       "      <td>2.0</td>\n",
       "      <td>32.0</td>\n",
       "      <td>1</td>\n",
       "    </tr>\n",
       "    <tr>\n",
       "      <th>1</th>\n",
       "      <td>8.33</td>\n",
       "      <td>1.0</td>\n",
       "      <td>33.33</td>\n",
       "      <td>2.0</td>\n",
       "      <td>32.0</td>\n",
       "      <td>1</td>\n",
       "    </tr>\n",
       "    <tr>\n",
       "      <th>2</th>\n",
       "      <td>8.33</td>\n",
       "      <td>1.0</td>\n",
       "      <td>33.33</td>\n",
       "      <td>2.0</td>\n",
       "      <td>32.0</td>\n",
       "      <td>1</td>\n",
       "    </tr>\n",
       "    <tr>\n",
       "      <th>3</th>\n",
       "      <td>8.33</td>\n",
       "      <td>1.0</td>\n",
       "      <td>33.33</td>\n",
       "      <td>2.0</td>\n",
       "      <td>32.0</td>\n",
       "      <td>1</td>\n",
       "    </tr>\n",
       "    <tr>\n",
       "      <th>4</th>\n",
       "      <td>8.33</td>\n",
       "      <td>1.0</td>\n",
       "      <td>33.33</td>\n",
       "      <td>2.0</td>\n",
       "      <td>32.0</td>\n",
       "      <td>1</td>\n",
       "    </tr>\n",
       "    <tr>\n",
       "      <th>...</th>\n",
       "      <td>...</td>\n",
       "      <td>...</td>\n",
       "      <td>...</td>\n",
       "      <td>...</td>\n",
       "      <td>...</td>\n",
       "      <td>...</td>\n",
       "    </tr>\n",
       "    <tr>\n",
       "      <th>19920</th>\n",
       "      <td>16.57</td>\n",
       "      <td>3.0</td>\n",
       "      <td>10.67</td>\n",
       "      <td>3.0</td>\n",
       "      <td>248.0</td>\n",
       "      <td>16</td>\n",
       "    </tr>\n",
       "    <tr>\n",
       "      <th>19921</th>\n",
       "      <td>16.57</td>\n",
       "      <td>3.0</td>\n",
       "      <td>10.67</td>\n",
       "      <td>3.0</td>\n",
       "      <td>248.0</td>\n",
       "      <td>16</td>\n",
       "    </tr>\n",
       "    <tr>\n",
       "      <th>19922</th>\n",
       "      <td>16.57</td>\n",
       "      <td>3.0</td>\n",
       "      <td>10.67</td>\n",
       "      <td>3.0</td>\n",
       "      <td>248.0</td>\n",
       "      <td>16</td>\n",
       "    </tr>\n",
       "    <tr>\n",
       "      <th>19923</th>\n",
       "      <td>16.57</td>\n",
       "      <td>3.0</td>\n",
       "      <td>10.67</td>\n",
       "      <td>3.0</td>\n",
       "      <td>248.0</td>\n",
       "      <td>16</td>\n",
       "    </tr>\n",
       "    <tr>\n",
       "      <th>19924</th>\n",
       "      <td>16.57</td>\n",
       "      <td>3.0</td>\n",
       "      <td>10.67</td>\n",
       "      <td>3.0</td>\n",
       "      <td>248.0</td>\n",
       "      <td>16</td>\n",
       "    </tr>\n",
       "  </tbody>\n",
       "</table>\n",
       "<p>19925 rows × 6 columns</p>\n",
       "</div>"
      ],
      "text/plain": [
       "       request_rate  number_instances  performance  cpu_alloc  memory_alloc  \\\n",
       "0              0.00               1.0         0.00        2.0          32.0   \n",
       "1              8.33               1.0        33.33        2.0          32.0   \n",
       "2              8.33               1.0        33.33        2.0          32.0   \n",
       "3              8.33               1.0        33.33        2.0          32.0   \n",
       "4              8.33               1.0        33.33        2.0          32.0   \n",
       "...             ...               ...          ...        ...           ...   \n",
       "19920         16.57               3.0        10.67        3.0         248.0   \n",
       "19921         16.57               3.0        10.67        3.0         248.0   \n",
       "19922         16.57               3.0        10.67        3.0         248.0   \n",
       "19923         16.57               3.0        10.67        3.0         248.0   \n",
       "19924         16.57               3.0        10.67        3.0         248.0   \n",
       "\n",
       "       configuration  \n",
       "0                  1  \n",
       "1                  1  \n",
       "2                  1  \n",
       "3                  1  \n",
       "4                  1  \n",
       "...              ...  \n",
       "19920             16  \n",
       "19921             16  \n",
       "19922             16  \n",
       "19923             16  \n",
       "19924             16  \n",
       "\n",
       "[19925 rows x 6 columns]"
      ]
     },
     "execution_count": 108,
     "metadata": {},
     "output_type": "execute_result"
    }
   ],
   "source": [
    "df_imp_3 = df_imp_2.drop(columns=['served_request', 'response_time', 'memory' , 'cpu_usage'])\n",
    "df_imp_3"
   ]
  },
  {
   "cell_type": "code",
   "execution_count": 109,
   "metadata": {},
   "outputs": [
    {
     "data": {
      "text/html": [
       "<div>\n",
       "<style scoped>\n",
       "    .dataframe tbody tr th:only-of-type {\n",
       "        vertical-align: middle;\n",
       "    }\n",
       "\n",
       "    .dataframe tbody tr th {\n",
       "        vertical-align: top;\n",
       "    }\n",
       "\n",
       "    .dataframe thead th {\n",
       "        text-align: right;\n",
       "    }\n",
       "</style>\n",
       "<table border=\"1\" class=\"dataframe\">\n",
       "  <thead>\n",
       "    <tr style=\"text-align: right;\">\n",
       "      <th></th>\n",
       "      <th>request_rate</th>\n",
       "      <th>number_instances</th>\n",
       "      <th>performance</th>\n",
       "      <th>cpu_alloc</th>\n",
       "      <th>memory_alloc</th>\n",
       "      <th>configuration</th>\n",
       "    </tr>\n",
       "  </thead>\n",
       "  <tbody>\n",
       "    <tr>\n",
       "      <th>0</th>\n",
       "      <td>0.00</td>\n",
       "      <td>1.0</td>\n",
       "      <td>0.00</td>\n",
       "      <td>2.0</td>\n",
       "      <td>32.0</td>\n",
       "      <td>1</td>\n",
       "    </tr>\n",
       "    <tr>\n",
       "      <th>1</th>\n",
       "      <td>8.33</td>\n",
       "      <td>1.0</td>\n",
       "      <td>33.33</td>\n",
       "      <td>2.0</td>\n",
       "      <td>32.0</td>\n",
       "      <td>1</td>\n",
       "    </tr>\n",
       "    <tr>\n",
       "      <th>19</th>\n",
       "      <td>8.67</td>\n",
       "      <td>1.0</td>\n",
       "      <td>33.33</td>\n",
       "      <td>2.0</td>\n",
       "      <td>32.0</td>\n",
       "      <td>1</td>\n",
       "    </tr>\n",
       "    <tr>\n",
       "      <th>20</th>\n",
       "      <td>8.67</td>\n",
       "      <td>1.0</td>\n",
       "      <td>0.00</td>\n",
       "      <td>2.0</td>\n",
       "      <td>32.0</td>\n",
       "      <td>1</td>\n",
       "    </tr>\n",
       "    <tr>\n",
       "      <th>39</th>\n",
       "      <td>17.67</td>\n",
       "      <td>1.0</td>\n",
       "      <td>0.00</td>\n",
       "      <td>2.0</td>\n",
       "      <td>32.0</td>\n",
       "      <td>1</td>\n",
       "    </tr>\n",
       "    <tr>\n",
       "      <th>...</th>\n",
       "      <td>...</td>\n",
       "      <td>...</td>\n",
       "      <td>...</td>\n",
       "      <td>...</td>\n",
       "      <td>...</td>\n",
       "      <td>...</td>\n",
       "    </tr>\n",
       "    <tr>\n",
       "      <th>19882</th>\n",
       "      <td>62.43</td>\n",
       "      <td>3.0</td>\n",
       "      <td>16.59</td>\n",
       "      <td>3.0</td>\n",
       "      <td>248.0</td>\n",
       "      <td>16</td>\n",
       "    </tr>\n",
       "    <tr>\n",
       "      <th>19894</th>\n",
       "      <td>62.43</td>\n",
       "      <td>3.0</td>\n",
       "      <td>18.46</td>\n",
       "      <td>3.0</td>\n",
       "      <td>248.0</td>\n",
       "      <td>16</td>\n",
       "    </tr>\n",
       "    <tr>\n",
       "      <th>19896</th>\n",
       "      <td>27.43</td>\n",
       "      <td>3.0</td>\n",
       "      <td>18.46</td>\n",
       "      <td>3.0</td>\n",
       "      <td>248.0</td>\n",
       "      <td>16</td>\n",
       "    </tr>\n",
       "    <tr>\n",
       "      <th>19910</th>\n",
       "      <td>27.43</td>\n",
       "      <td>3.0</td>\n",
       "      <td>10.67</td>\n",
       "      <td>3.0</td>\n",
       "      <td>248.0</td>\n",
       "      <td>16</td>\n",
       "    </tr>\n",
       "    <tr>\n",
       "      <th>19913</th>\n",
       "      <td>16.57</td>\n",
       "      <td>3.0</td>\n",
       "      <td>10.67</td>\n",
       "      <td>3.0</td>\n",
       "      <td>248.0</td>\n",
       "      <td>16</td>\n",
       "    </tr>\n",
       "  </tbody>\n",
       "</table>\n",
       "<p>1071 rows × 6 columns</p>\n",
       "</div>"
      ],
      "text/plain": [
       "       request_rate  number_instances  performance  cpu_alloc  memory_alloc  \\\n",
       "0              0.00               1.0         0.00        2.0          32.0   \n",
       "1              8.33               1.0        33.33        2.0          32.0   \n",
       "19             8.67               1.0        33.33        2.0          32.0   \n",
       "20             8.67               1.0         0.00        2.0          32.0   \n",
       "39            17.67               1.0         0.00        2.0          32.0   \n",
       "...             ...               ...          ...        ...           ...   \n",
       "19882         62.43               3.0        16.59        3.0         248.0   \n",
       "19894         62.43               3.0        18.46        3.0         248.0   \n",
       "19896         27.43               3.0        18.46        3.0         248.0   \n",
       "19910         27.43               3.0        10.67        3.0         248.0   \n",
       "19913         16.57               3.0        10.67        3.0         248.0   \n",
       "\n",
       "       configuration  \n",
       "0                  1  \n",
       "1                  1  \n",
       "19                 1  \n",
       "20                 1  \n",
       "39                 1  \n",
       "...              ...  \n",
       "19882             16  \n",
       "19894             16  \n",
       "19896             16  \n",
       "19910             16  \n",
       "19913             16  \n",
       "\n",
       "[1071 rows x 6 columns]"
      ]
     },
     "execution_count": 109,
     "metadata": {},
     "output_type": "execute_result"
    }
   ],
   "source": [
    "df_imp_3 = df_imp_3.drop_duplicates()\n",
    "df_imp_3"
   ]
  },
  {
   "cell_type": "code",
   "execution_count": 111,
   "metadata": {},
   "outputs": [
    {
     "name": "stdout",
     "output_type": "stream",
     "text": [
      "[0.45655246 0.70537614 0.87557127 0.87112809 0.49078862 0.71633137\n",
      " 0.58158743 0.82700403 0.90267184 0.74093349]\n",
      "R2_test:  0.6925003494716668\n",
      "R2_train:  0.9385552884117815\n",
      "538.064229177798\n",
      "23.19621152640659\n",
      "10.901719342476804\n"
     ]
    }
   ],
   "source": [
    "## Decision Tree Regressor for the  Model which uses the configuration variables in order to predict the performance (variable)\n",
    "import matplotlib as mpl\n",
    "import matplotlib.pyplot as plt\n",
    "import numpy as np\n",
    "import pandas as pd\n",
    "from sklearn.model_selection import cross_val_score, train_test_split\n",
    "from sklearn import tree\n",
    "from sklearn.tree import DecisionTreeRegressor, plot_tree\n",
    "from sklearn.ensemble import RandomForestRegressor\n",
    "from sklearn.metrics import r2_score, mean_squared_error, mean_absolute_error\n",
    "\n",
    "data_4 = data_3.dropna()\n",
    "\n",
    "X_train, X_test, y_train, y_test = train_test_split(df_imp_3.drop(columns=['performance']),\n",
    "                                                    df_imp_3['performance'],random_state=0)\n",
    "regressor = DecisionTreeRegressor(random_state=0)\n",
    "regressor.fit(X_train, y_train)\n",
    "cross_val = cross_val_score(regressor, X_train, y_train, cv=10)\n",
    "print(cross_val)\n",
    "pred = regressor.predict(X_test)\n",
    "pred_train = regressor.predict(X_train)\n",
    "# R2_test\n",
    "print('R2_test: ', r2_score(y_test, pred))\n",
    "# R2_train\n",
    "print('R2_train: ', r2_score(y_train, pred_train))\n",
    "# MSE\n",
    "print(mean_squared_error(y_test, pred, squared=True))\n",
    "# RMSE\n",
    "print(mean_squared_error(y_test, pred, squared=False))\n",
    "# MAE\n",
    "print(mean_absolute_error(y_test, pred))\n"
   ]
  },
  {
   "cell_type": "code",
   "execution_count": 52,
   "metadata": {},
   "outputs": [
    {
     "data": {
      "image/png": "[encoded data removed]",
      "text/plain": [
       "<Figure size 432x288 with 1 Axes>"
      ]
     },
     "metadata": {
      "needs_background": "light"
     },
     "output_type": "display_data"
    }
   ],
   "source": [
    "fig, ax = plt.subplots()\n",
    "ax.scatter(y_test, pred)\n",
    "ax.plot([y_test.min(), y_test.max()], [y_test.min(), y_test.max()], 'k--', lw=4)\n",
    "ax.set_xlabel('Measured')\n",
    "ax.set_ylabel('Predicted')\n",
    "plt.show()"
   ]
  },
  {
   "cell_type": "code",
   "execution_count": 53,
   "metadata": {},
   "outputs": [
    {
     "data": {
      "image/png": "[encoded data removed]",
      "text/plain": [
       "<Figure size 432x288 with 1 Axes>"
      ]
     },
     "metadata": {
      "needs_background": "light"
     },
     "output_type": "display_data"
    }
   ],
   "source": [
    "from sklearn.model_selection import cross_val_predict\n",
    "predicted = cross_val_predict(regressor, X_train, y_train, cv=10)\n",
    "fig, ax = plt.subplots()\n",
    "ax.scatter(y_test, pred)\n",
    "ax.plot([y_test.min(), y_test.max()], [y_test.min(), y_test.max()], 'k--', lw=4)\n",
    "ax.set_xlabel('Measured')\n",
    "ax.set_ylabel('Predicted')\n",
    "plt.show()"
   ]
  },
  {
   "cell_type": "markdown",
   "metadata": {},
   "source": [
    "## Use a stacking regressor. I have chosen 3 different algorithms but it can be any algorithm (that it can be used for regression). Unfortunatelly this technique does not improve the results. "
   ]
  },
  {
   "cell_type": "code",
   "execution_count": 114,
   "metadata": {},
   "outputs": [
    {
     "name": "stdout",
     "output_type": "stream",
     "text": [
      "[0.58575674 0.91989167 0.92439371 0.8875235  0.90642964 0.82539075\n",
      " 0.70012647 0.8827962  0.93867175 0.83781761]\n",
      "R2_test:  0.823704072385572\n",
      "R2_train:  0.8671216548296713\n",
      "308.4833827812815\n",
      "17.56369502073187\n",
      "9.418514693701692\n"
     ]
    }
   ],
   "source": [
    "from sklearn.experimental import enable_hist_gradient_boosting  # noqa\n",
    "from sklearn.ensemble import HistGradientBoostingRegressor\n",
    "from sklearn.ensemble import RandomForestRegressor\n",
    "from sklearn.ensemble import StackingRegressor\n",
    "from sklearn.linear_model import LassoCV\n",
    "from sklearn.linear_model import RidgeCV\n",
    "from sklearn.pipeline import make_pipeline\n",
    "\n",
    "\"\"\"lasso_pipeline = make_pipeline(processor_lin,\n",
    "                               LassoCV())\n",
    "\n",
    "rf_pipeline = make_pipeline(processor_nlin,\n",
    "                            RandomForestRegressor(random_state=42))\n",
    "\n",
    "gradient_pipeline = make_pipeline(\n",
    "    processor_nlin,\n",
    "    HistGradientBoostingRegressor(random_state=0))\"\"\"\n",
    "\n",
    "estimators = [('Random Forest', RandomForestRegressor(random_state=42)),\n",
    "              ('Lasso', LassoCV()),\n",
    "              ('Gradient Boosting', HistGradientBoostingRegressor(random_state=0))]\n",
    "\n",
    "stacking_regressor = StackingRegressor(estimators=estimators,\n",
    "                                       final_estimator=RidgeCV())\n",
    "\n",
    "stacking_regressor.fit(X_train, y_train)\n",
    "cross_val = cross_val_score(stacking_regressor, X_train, y_train, cv=10)\n",
    "print(cross_val)\n",
    "pred = stacking_regressor.predict(X_test)\n",
    "pred_train = stacking_regressor.predict(X_train)\n",
    "# R2_test\n",
    "print('R2_test: ', r2_score(y_test, pred))\n",
    "# R2_train\n",
    "print('R2_train: ', r2_score(y_train, pred_train))\n",
    "# MSE\n",
    "print(mean_squared_error(y_test, pred, squared=True))\n",
    "# RMSE\n",
    "print(mean_squared_error(y_test, pred, squared=False))\n",
    "# MAE\n",
    "print(mean_absolute_error(y_test, pred))"
   ]
  },
  {
   "cell_type": "code",
   "execution_count": 112,
   "metadata": {},
   "outputs": [
    {
     "data": {
      "image/png": "[encoded data removed]",
      "text/plain": [
       "<Figure size 648x504 with 4 Axes>"
      ]
     },
     "metadata": {
      "needs_background": "light"
     },
     "output_type": "display_data"
    }
   ],
   "source": [
    "X = X_test\n",
    "y = y_test\n",
    "import time\n",
    "import matplotlib.pyplot as plt\n",
    "from sklearn.model_selection import cross_validate, cross_val_predict\n",
    "\n",
    "\n",
    "def plot_regression_results(ax, y_true, y_pred, title, scores, elapsed_time):\n",
    "    \"\"\"Scatter plot of the predicted vs true targets.\"\"\"\n",
    "    ax.plot([y_true.min(), y_true.max()],\n",
    "            [y_true.min(), y_true.max()],\n",
    "            '--r', linewidth=2)\n",
    "    ax.scatter(y_true, y_pred, alpha=0.2)\n",
    "\n",
    "    ax.spines['top'].set_visible(False)\n",
    "    ax.spines['right'].set_visible(False)\n",
    "    ax.get_xaxis().tick_bottom()\n",
    "    ax.get_yaxis().tick_left()\n",
    "    ax.spines['left'].set_position(('outward', 10))\n",
    "    ax.spines['bottom'].set_position(('outward', 10))\n",
    "    ax.set_xlim([y_true.min(), y_true.max()])\n",
    "    ax.set_ylim([y_true.min(), y_true.max()])\n",
    "    ax.set_xlabel('Measured')\n",
    "    ax.set_ylabel('Predicted')\n",
    "    extra = plt.Rectangle((0, 0), 0, 0, fc=\"w\", fill=False,\n",
    "                          edgecolor='none', linewidth=0)\n",
    "    ax.legend([extra], [scores], loc='upper left')\n",
    "    title = title + '\\n Evaluation in {:.2f} seconds'.format(elapsed_time)\n",
    "    ax.set_title(title)\n",
    "\n",
    "\n",
    "fig, axs = plt.subplots(2, 2, figsize=(9, 7))\n",
    "axs = np.ravel(axs)\n",
    "\n",
    "for ax, (name, est) in zip(axs, estimators + [('Stacking Regressor',\n",
    "                                               stacking_regressor)]):\n",
    "    start_time = time.time()\n",
    "    score = cross_validate(est, X, y,\n",
    "                           scoring=['r2', 'neg_mean_absolute_error'],\n",
    "                           n_jobs=-1, verbose=0)\n",
    "    elapsed_time = time.time() - start_time\n",
    "\n",
    "    y_pred = cross_val_predict(est, X, y, n_jobs=-1, verbose=0)\n",
    "\n",
    "    plot_regression_results(\n",
    "        ax, y, y_pred,\n",
    "        name,\n",
    "        (r'$R^2={:.2f} \\pm {:.2f}$' + '\\n' + r'$MAE={:.2f} \\pm {:.2f}$')\n",
    "        .format(np.mean(score['test_r2']),\n",
    "                np.std(score['test_r2']),\n",
    "                -np.mean(score['test_neg_mean_absolute_error']),\n",
    "                np.std(score['test_neg_mean_absolute_error'])),\n",
    "        elapsed_time)\n",
    "\n",
    "plt.suptitle('Single predictors versus stacked predictors')\n",
    "plt.tight_layout()\n",
    "plt.subplots_adjust(top=0.9)\n",
    "plt.show()"
   ]
  },
  {
   "cell_type": "code",
   "execution_count": 42,
   "metadata": {},
   "outputs": [
    {
     "data": {
      "image/png": "[encoded data removed]",
      "text/plain": [
       "<Figure size 900x900 with 30 Axes>"
      ]
     },
     "metadata": {
      "needs_background": "light"
     },
     "output_type": "display_data"
    }
   ],
   "source": [
    "import seaborn as sns\n",
    "sns.pairplot(data = df_imp_2.drop(columns=['performance', 'served_request','response_time', 'memory' , 'cpu_usage']), vars=df_imp_2.drop(columns=['performance', 'served_request','response_time', 'memory' , 'cpu_usage']).columns)\n",
    "plt.show()"
   ]
  },
  {
   "cell_type": "code",
   "execution_count": 43,
   "metadata": {},
   "outputs": [
    {
     "data": {
      "text/plain": [
       "<matplotlib.axes._subplots.AxesSubplot at 0x7f9d4c9cffd0>"
      ]
     },
     "execution_count": 43,
     "metadata": {},
     "output_type": "execute_result"
    },
    {
     "data": {
      "image/png": "[encoded data removed]",
      "text/plain": [
       "<Figure size 432x288 with 2 Axes>"
      ]
     },
     "metadata": {
      "needs_background": "light"
     },
     "output_type": "display_data"
    }
   ],
   "source": [
    "import seaborn as sns\n",
    "corr = df_imp_2.drop(columns=['performance', 'served_request','response_time', 'memory' , 'cpu_usage']).corr()\n",
    "sns.heatmap(corr, mask=np.zeros_like(corr, dtype=np.bool), cmap=sns.diverging_palette(220, 10, as_cmap=True), square=True)"
   ]
  },
  {
   "cell_type": "markdown",
   "metadata": {},
   "source": [
    "#### The same but with importance writen within in each cell "
   ]
  },
  {
   "cell_type": "code",
   "execution_count": 44,
   "metadata": {},
   "outputs": [
    {
     "data": {
      "image/png": "[encoded data removed]",
      "text/plain": [
       "<Figure size 720x576 with 2 Axes>"
      ]
     },
     "metadata": {
      "needs_background": "light"
     },
     "output_type": "display_data"
    }
   ],
   "source": [
    "fig, ax = plt.subplots(figsize=(10, 8))\n",
    "corr = df_imp_2.drop(columns=['performance', 'served_request','response_time', 'memory' , 'cpu_usage']).corr()\n",
    "# plot heatmap\n",
    "sns.heatmap(corr,  annot=True, fmt=\".2f\", cmap='Blues',\n",
    "           vmin=-1, vmax=1, cbar_kws={\"shrink\": .8})\n",
    "# yticks\n",
    "plt.yticks(rotation=0)\n",
    "plt.show()"
   ]
  },
  {
   "cell_type": "code",
   "execution_count": null,
   "metadata": {},
   "outputs": [],
   "source": []
  }
 ],
 "metadata": {
  "kernelspec": {
   "display_name": "data_challenge",
   "language": "python",
   "name": "data_challenge"
  },
  "language_info": {
   "codemirror_mode": {
    "name": "ipython",
    "version": 3
   },
   "file_extension": ".py",
   "mimetype": "text/x-python",
   "name": "python",
   "nbconvert_exporter": "python",
   "pygments_lexer": "ipython3",
   "version": "3.7.7"
  }
 },
 "nbformat": 4,
 "nbformat_minor": 4
}
