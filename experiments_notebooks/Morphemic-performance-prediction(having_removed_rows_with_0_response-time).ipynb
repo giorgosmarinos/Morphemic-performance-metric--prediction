{
 "cells": [
  {
   "cell_type": "code",
   "execution_count": 1,
   "metadata": {},
   "outputs": [],
   "source": [
    "import numpy as np\n",
    "import pandas as pd\n",
    "from sklearn.base import BaseEstimator, TransformerMixin\n",
    "from sklearn.impute import KNNImputer\n",
    "from sklearn.utils.validation import check_is_fitted"
   ]
  },
  {
   "cell_type": "code",
   "execution_count": 2,
   "metadata": {},
   "outputs": [],
   "source": [
    "# my data\n",
    "data = pd.read_csv('/home/giwrikas/Downloads/Morphemic_datasets/all-4 (1).csv')\n",
    "cols = [\"memory_alloc\",\"cpu_alloc\",\"cpu_usage\",\"memory\",\"number_instances\"]\n",
    "data[cols] = data[cols].replace({ 0:np.nan})\n",
    "data = data.dropna(subset=['number_instances', 'memory_alloc','cpu_alloc'])\n",
    "data = data.drop(columns=['Unnamed: 0'])"
   ]
  },
  {
   "cell_type": "markdown",
   "metadata": {},
   "source": [
    "#### Here we are doing a minor modification at the data in order not to have values like 1000000000.0 (and not to observe very big deviation)"
   ]
  },
  {
   "cell_type": "code",
   "execution_count": 3,
   "metadata": {},
   "outputs": [],
   "source": [
    "data['cpu_alloc'] = data['cpu_alloc'].replace(100000000.0, 1)\n",
    "data['cpu_alloc'] = data['cpu_alloc'].replace(200000000.0, 2)\n",
    "data['cpu_alloc'] = data['cpu_alloc'].replace(300000000.0, 3)\n",
    "data['cpu_alloc'] = data['cpu_alloc'].replace(400000000.0, 4)"
   ]
  },
  {
   "cell_type": "code",
   "execution_count": 4,
   "metadata": {},
   "outputs": [],
   "source": [
    "data['memory_alloc'] = data['memory_alloc'].replace(248000000.0, 248)"
   ]
  },
  {
   "cell_type": "code",
   "execution_count": 5,
   "metadata": {},
   "outputs": [
    {
     "data": {
      "text/html": [
       "<div>\n",
       "<style scoped>\n",
       "    .dataframe tbody tr th:only-of-type {\n",
       "        vertical-align: middle;\n",
       "    }\n",
       "\n",
       "    .dataframe tbody tr th {\n",
       "        vertical-align: top;\n",
       "    }\n",
       "\n",
       "    .dataframe thead th {\n",
       "        text-align: right;\n",
       "    }\n",
       "</style>\n",
       "<table border=\"1\" class=\"dataframe\">\n",
       "  <thead>\n",
       "    <tr style=\"text-align: right;\">\n",
       "      <th></th>\n",
       "      <th>served_request</th>\n",
       "      <th>request_rate</th>\n",
       "      <th>number_instances</th>\n",
       "      <th>response_time</th>\n",
       "      <th>performance</th>\n",
       "      <th>cpu_usage</th>\n",
       "      <th>cpu_alloc</th>\n",
       "      <th>memory</th>\n",
       "      <th>memory_alloc</th>\n",
       "    </tr>\n",
       "  </thead>\n",
       "  <tbody>\n",
       "    <tr>\n",
       "      <th>13</th>\n",
       "      <td>0.000000</td>\n",
       "      <td>0.000000</td>\n",
       "      <td>1.0</td>\n",
       "      <td>6960.363826</td>\n",
       "      <td>0.000000</td>\n",
       "      <td>39.366667</td>\n",
       "      <td>2.0</td>\n",
       "      <td>9.718443e+06</td>\n",
       "      <td>32.0</td>\n",
       "    </tr>\n",
       "    <tr>\n",
       "      <th>14</th>\n",
       "      <td>0.000000</td>\n",
       "      <td>8.333333</td>\n",
       "      <td>1.0</td>\n",
       "      <td>6960.363826</td>\n",
       "      <td>33.334054</td>\n",
       "      <td>39.366667</td>\n",
       "      <td>2.0</td>\n",
       "      <td>9.718443e+06</td>\n",
       "      <td>32.0</td>\n",
       "    </tr>\n",
       "    <tr>\n",
       "      <th>15</th>\n",
       "      <td>0.000000</td>\n",
       "      <td>8.333333</td>\n",
       "      <td>1.0</td>\n",
       "      <td>6960.363826</td>\n",
       "      <td>33.334054</td>\n",
       "      <td>39.366667</td>\n",
       "      <td>2.0</td>\n",
       "      <td>9.718443e+06</td>\n",
       "      <td>32.0</td>\n",
       "    </tr>\n",
       "    <tr>\n",
       "      <th>16</th>\n",
       "      <td>20.333333</td>\n",
       "      <td>8.333333</td>\n",
       "      <td>1.0</td>\n",
       "      <td>6960.363826</td>\n",
       "      <td>33.334054</td>\n",
       "      <td>39.366667</td>\n",
       "      <td>2.0</td>\n",
       "      <td>9.718443e+06</td>\n",
       "      <td>32.0</td>\n",
       "    </tr>\n",
       "    <tr>\n",
       "      <th>17</th>\n",
       "      <td>20.333333</td>\n",
       "      <td>8.333333</td>\n",
       "      <td>1.0</td>\n",
       "      <td>6960.363826</td>\n",
       "      <td>33.334054</td>\n",
       "      <td>39.366667</td>\n",
       "      <td>2.0</td>\n",
       "      <td>9.718443e+06</td>\n",
       "      <td>32.0</td>\n",
       "    </tr>\n",
       "  </tbody>\n",
       "</table>\n",
       "</div>"
      ],
      "text/plain": [
       "    served_request  request_rate  number_instances  response_time  \\\n",
       "13        0.000000      0.000000               1.0    6960.363826   \n",
       "14        0.000000      8.333333               1.0    6960.363826   \n",
       "15        0.000000      8.333333               1.0    6960.363826   \n",
       "16       20.333333      8.333333               1.0    6960.363826   \n",
       "17       20.333333      8.333333               1.0    6960.363826   \n",
       "\n",
       "    performance  cpu_usage  cpu_alloc        memory  memory_alloc  \n",
       "13     0.000000  39.366667        2.0  9.718443e+06          32.0  \n",
       "14    33.334054  39.366667        2.0  9.718443e+06          32.0  \n",
       "15    33.334054  39.366667        2.0  9.718443e+06          32.0  \n",
       "16    33.334054  39.366667        2.0  9.718443e+06          32.0  \n",
       "17    33.334054  39.366667        2.0  9.718443e+06          32.0  "
      ]
     },
     "execution_count": 5,
     "metadata": {},
     "output_type": "execute_result"
    }
   ],
   "source": [
    "data.head()"
   ]
  },
  {
   "cell_type": "code",
   "execution_count": 6,
   "metadata": {},
   "outputs": [],
   "source": [
    "data = data.round(decimals=2)"
   ]
  },
  {
   "cell_type": "code",
   "execution_count": 7,
   "metadata": {},
   "outputs": [
    {
     "data": {
      "text/html": [
       "<div>\n",
       "<style scoped>\n",
       "    .dataframe tbody tr th:only-of-type {\n",
       "        vertical-align: middle;\n",
       "    }\n",
       "\n",
       "    .dataframe tbody tr th {\n",
       "        vertical-align: top;\n",
       "    }\n",
       "\n",
       "    .dataframe thead th {\n",
       "        text-align: right;\n",
       "    }\n",
       "</style>\n",
       "<table border=\"1\" class=\"dataframe\">\n",
       "  <thead>\n",
       "    <tr style=\"text-align: right;\">\n",
       "      <th></th>\n",
       "      <th>served_request</th>\n",
       "      <th>request_rate</th>\n",
       "      <th>number_instances</th>\n",
       "      <th>response_time</th>\n",
       "      <th>performance</th>\n",
       "      <th>cpu_usage</th>\n",
       "      <th>cpu_alloc</th>\n",
       "      <th>memory</th>\n",
       "      <th>memory_alloc</th>\n",
       "    </tr>\n",
       "  </thead>\n",
       "  <tbody>\n",
       "    <tr>\n",
       "      <th>13</th>\n",
       "      <td>0.00</td>\n",
       "      <td>0.00</td>\n",
       "      <td>1.0</td>\n",
       "      <td>6960.36</td>\n",
       "      <td>0.00</td>\n",
       "      <td>39.37</td>\n",
       "      <td>2.0</td>\n",
       "      <td>9718442.67</td>\n",
       "      <td>32.0</td>\n",
       "    </tr>\n",
       "    <tr>\n",
       "      <th>14</th>\n",
       "      <td>0.00</td>\n",
       "      <td>8.33</td>\n",
       "      <td>1.0</td>\n",
       "      <td>6960.36</td>\n",
       "      <td>33.33</td>\n",
       "      <td>39.37</td>\n",
       "      <td>2.0</td>\n",
       "      <td>9718442.67</td>\n",
       "      <td>32.0</td>\n",
       "    </tr>\n",
       "    <tr>\n",
       "      <th>15</th>\n",
       "      <td>0.00</td>\n",
       "      <td>8.33</td>\n",
       "      <td>1.0</td>\n",
       "      <td>6960.36</td>\n",
       "      <td>33.33</td>\n",
       "      <td>39.37</td>\n",
       "      <td>2.0</td>\n",
       "      <td>9718442.67</td>\n",
       "      <td>32.0</td>\n",
       "    </tr>\n",
       "    <tr>\n",
       "      <th>16</th>\n",
       "      <td>20.33</td>\n",
       "      <td>8.33</td>\n",
       "      <td>1.0</td>\n",
       "      <td>6960.36</td>\n",
       "      <td>33.33</td>\n",
       "      <td>39.37</td>\n",
       "      <td>2.0</td>\n",
       "      <td>9718442.67</td>\n",
       "      <td>32.0</td>\n",
       "    </tr>\n",
       "    <tr>\n",
       "      <th>17</th>\n",
       "      <td>20.33</td>\n",
       "      <td>8.33</td>\n",
       "      <td>1.0</td>\n",
       "      <td>6960.36</td>\n",
       "      <td>33.33</td>\n",
       "      <td>39.37</td>\n",
       "      <td>2.0</td>\n",
       "      <td>9718442.67</td>\n",
       "      <td>32.0</td>\n",
       "    </tr>\n",
       "  </tbody>\n",
       "</table>\n",
       "</div>"
      ],
      "text/plain": [
       "    served_request  request_rate  number_instances  response_time  \\\n",
       "13            0.00          0.00               1.0        6960.36   \n",
       "14            0.00          8.33               1.0        6960.36   \n",
       "15            0.00          8.33               1.0        6960.36   \n",
       "16           20.33          8.33               1.0        6960.36   \n",
       "17           20.33          8.33               1.0        6960.36   \n",
       "\n",
       "    performance  cpu_usage  cpu_alloc      memory  memory_alloc  \n",
       "13         0.00      39.37        2.0  9718442.67          32.0  \n",
       "14        33.33      39.37        2.0  9718442.67          32.0  \n",
       "15        33.33      39.37        2.0  9718442.67          32.0  \n",
       "16        33.33      39.37        2.0  9718442.67          32.0  \n",
       "17        33.33      39.37        2.0  9718442.67          32.0  "
      ]
     },
     "execution_count": 7,
     "metadata": {},
     "output_type": "execute_result"
    }
   ],
   "source": [
    "data.head()"
   ]
  },
  {
   "cell_type": "code",
   "execution_count": 8,
   "metadata": {},
   "outputs": [
    {
     "data": {
      "text/plain": [
       "(30507, 9)"
      ]
     },
     "execution_count": 8,
     "metadata": {},
     "output_type": "execute_result"
    }
   ],
   "source": [
    "data.shape"
   ]
  },
  {
   "cell_type": "code",
   "execution_count": 9,
   "metadata": {},
   "outputs": [
    {
     "data": {
      "text/html": [
       "<div>\n",
       "<style scoped>\n",
       "    .dataframe tbody tr th:only-of-type {\n",
       "        vertical-align: middle;\n",
       "    }\n",
       "\n",
       "    .dataframe tbody tr th {\n",
       "        vertical-align: top;\n",
       "    }\n",
       "\n",
       "    .dataframe thead th {\n",
       "        text-align: right;\n",
       "    }\n",
       "</style>\n",
       "<table border=\"1\" class=\"dataframe\">\n",
       "  <thead>\n",
       "    <tr style=\"text-align: right;\">\n",
       "      <th></th>\n",
       "      <th>served_request</th>\n",
       "      <th>request_rate</th>\n",
       "      <th>number_instances</th>\n",
       "      <th>response_time</th>\n",
       "      <th>performance</th>\n",
       "      <th>cpu_usage</th>\n",
       "      <th>cpu_alloc</th>\n",
       "      <th>memory</th>\n",
       "      <th>memory_alloc</th>\n",
       "    </tr>\n",
       "  </thead>\n",
       "  <tbody>\n",
       "    <tr>\n",
       "      <th>count</th>\n",
       "      <td>30507.000000</td>\n",
       "      <td>30507.000000</td>\n",
       "      <td>30507.000000</td>\n",
       "      <td>30507.000000</td>\n",
       "      <td>30507.000000</td>\n",
       "      <td>29608.000000</td>\n",
       "      <td>30507.000000</td>\n",
       "      <td>2.960900e+04</td>\n",
       "      <td>30507.000000</td>\n",
       "    </tr>\n",
       "    <tr>\n",
       "      <th>mean</th>\n",
       "      <td>22.391686</td>\n",
       "      <td>12.816734</td>\n",
       "      <td>1.366047</td>\n",
       "      <td>507.126632</td>\n",
       "      <td>61.012693</td>\n",
       "      <td>38.267292</td>\n",
       "      <td>2.518865</td>\n",
       "      <td>3.148796e+07</td>\n",
       "      <td>98.991051</td>\n",
       "    </tr>\n",
       "    <tr>\n",
       "      <th>std</th>\n",
       "      <td>63.763678</td>\n",
       "      <td>37.790858</td>\n",
       "      <td>0.790343</td>\n",
       "      <td>2753.333043</td>\n",
       "      <td>41.012961</td>\n",
       "      <td>9.283692</td>\n",
       "      <td>1.483380</td>\n",
       "      <td>6.424793e+06</td>\n",
       "      <td>84.894916</td>\n",
       "    </tr>\n",
       "    <tr>\n",
       "      <th>min</th>\n",
       "      <td>0.000000</td>\n",
       "      <td>0.000000</td>\n",
       "      <td>1.000000</td>\n",
       "      <td>0.000000</td>\n",
       "      <td>0.000000</td>\n",
       "      <td>14.870000</td>\n",
       "      <td>1.000000</td>\n",
       "      <td>2.083499e+06</td>\n",
       "      <td>32.000000</td>\n",
       "    </tr>\n",
       "    <tr>\n",
       "      <th>25%</th>\n",
       "      <td>0.000000</td>\n",
       "      <td>0.000000</td>\n",
       "      <td>1.000000</td>\n",
       "      <td>0.000000</td>\n",
       "      <td>7.970000</td>\n",
       "      <td>30.700000</td>\n",
       "      <td>2.000000</td>\n",
       "      <td>2.705818e+07</td>\n",
       "      <td>56.000000</td>\n",
       "    </tr>\n",
       "    <tr>\n",
       "      <th>50%</th>\n",
       "      <td>1.000000</td>\n",
       "      <td>0.330000</td>\n",
       "      <td>1.000000</td>\n",
       "      <td>1.520000</td>\n",
       "      <td>66.740000</td>\n",
       "      <td>39.235000</td>\n",
       "      <td>2.000000</td>\n",
       "      <td>3.301786e+07</td>\n",
       "      <td>56.000000</td>\n",
       "    </tr>\n",
       "    <tr>\n",
       "      <th>75%</th>\n",
       "      <td>22.110000</td>\n",
       "      <td>10.140000</td>\n",
       "      <td>1.000000</td>\n",
       "      <td>7.310000</td>\n",
       "      <td>100.000000</td>\n",
       "      <td>45.430000</td>\n",
       "      <td>2.000000</td>\n",
       "      <td>3.570483e+07</td>\n",
       "      <td>56.000000</td>\n",
       "    </tr>\n",
       "    <tr>\n",
       "      <th>max</th>\n",
       "      <td>636.000000</td>\n",
       "      <td>322.000000</td>\n",
       "      <td>5.000000</td>\n",
       "      <td>55029.400000</td>\n",
       "      <td>218.220000</td>\n",
       "      <td>73.400000</td>\n",
       "      <td>7.000000</td>\n",
       "      <td>5.108668e+07</td>\n",
       "      <td>248.000000</td>\n",
       "    </tr>\n",
       "  </tbody>\n",
       "</table>\n",
       "</div>"
      ],
      "text/plain": [
       "       served_request  request_rate  number_instances  response_time  \\\n",
       "count    30507.000000  30507.000000      30507.000000   30507.000000   \n",
       "mean        22.391686     12.816734          1.366047     507.126632   \n",
       "std         63.763678     37.790858          0.790343    2753.333043   \n",
       "min          0.000000      0.000000          1.000000       0.000000   \n",
       "25%          0.000000      0.000000          1.000000       0.000000   \n",
       "50%          1.000000      0.330000          1.000000       1.520000   \n",
       "75%         22.110000     10.140000          1.000000       7.310000   \n",
       "max        636.000000    322.000000          5.000000   55029.400000   \n",
       "\n",
       "        performance     cpu_usage     cpu_alloc        memory  memory_alloc  \n",
       "count  30507.000000  29608.000000  30507.000000  2.960900e+04  30507.000000  \n",
       "mean      61.012693     38.267292      2.518865  3.148796e+07     98.991051  \n",
       "std       41.012961      9.283692      1.483380  6.424793e+06     84.894916  \n",
       "min        0.000000     14.870000      1.000000  2.083499e+06     32.000000  \n",
       "25%        7.970000     30.700000      2.000000  2.705818e+07     56.000000  \n",
       "50%       66.740000     39.235000      2.000000  3.301786e+07     56.000000  \n",
       "75%      100.000000     45.430000      2.000000  3.570483e+07     56.000000  \n",
       "max      218.220000     73.400000      7.000000  5.108668e+07    248.000000  "
      ]
     },
     "execution_count": 9,
     "metadata": {},
     "output_type": "execute_result"
    }
   ],
   "source": [
    "# Data Description\n",
    "data.describe()"
   ]
  },
  {
   "cell_type": "code",
   "execution_count": 10,
   "metadata": {},
   "outputs": [
    {
     "data": {
      "text/plain": [
       "<matplotlib.axes._subplots.AxesSubplot at 0x7fd4365d3b90>"
      ]
     },
     "execution_count": 10,
     "metadata": {},
     "output_type": "execute_result"
    },
    {
     "data": {
      "image/png": "[encoded data removed]",
      "text/plain": [
       "<Figure size 432x288 with 1 Axes>"
      ]
     },
     "metadata": {
      "needs_background": "light"
     },
     "output_type": "display_data"
    }
   ],
   "source": [
    "data['performance'].plot()"
   ]
  },
  {
   "cell_type": "code",
   "execution_count": 11,
   "metadata": {},
   "outputs": [
    {
     "data": {
      "text/html": [
       "<div>\n",
       "<style scoped>\n",
       "    .dataframe tbody tr th:only-of-type {\n",
       "        vertical-align: middle;\n",
       "    }\n",
       "\n",
       "    .dataframe tbody tr th {\n",
       "        vertical-align: top;\n",
       "    }\n",
       "\n",
       "    .dataframe thead th {\n",
       "        text-align: right;\n",
       "    }\n",
       "</style>\n",
       "<table border=\"1\" class=\"dataframe\">\n",
       "  <thead>\n",
       "    <tr style=\"text-align: right;\">\n",
       "      <th></th>\n",
       "      <th>performance</th>\n",
       "      <th>served_request</th>\n",
       "      <th>request_rate</th>\n",
       "      <th>response_time</th>\n",
       "      <th>cpu_alloc</th>\n",
       "      <th>memory_alloc</th>\n",
       "      <th>number_instances</th>\n",
       "    </tr>\n",
       "  </thead>\n",
       "  <tbody>\n",
       "    <tr>\n",
       "      <th>2300</th>\n",
       "      <td>100.00</td>\n",
       "      <td>0.0</td>\n",
       "      <td>0.33</td>\n",
       "      <td>0.00</td>\n",
       "      <td>2.0</td>\n",
       "      <td>56.0</td>\n",
       "      <td>1.0</td>\n",
       "    </tr>\n",
       "    <tr>\n",
       "      <th>2301</th>\n",
       "      <td>100.00</td>\n",
       "      <td>0.0</td>\n",
       "      <td>0.33</td>\n",
       "      <td>1.35</td>\n",
       "      <td>2.0</td>\n",
       "      <td>56.0</td>\n",
       "      <td>1.0</td>\n",
       "    </tr>\n",
       "    <tr>\n",
       "      <th>2302</th>\n",
       "      <td>100.00</td>\n",
       "      <td>0.0</td>\n",
       "      <td>0.33</td>\n",
       "      <td>1.35</td>\n",
       "      <td>2.0</td>\n",
       "      <td>56.0</td>\n",
       "      <td>1.0</td>\n",
       "    </tr>\n",
       "    <tr>\n",
       "      <th>2303</th>\n",
       "      <td>100.00</td>\n",
       "      <td>0.0</td>\n",
       "      <td>0.33</td>\n",
       "      <td>1.35</td>\n",
       "      <td>2.0</td>\n",
       "      <td>56.0</td>\n",
       "      <td>1.0</td>\n",
       "    </tr>\n",
       "    <tr>\n",
       "      <th>2304</th>\n",
       "      <td>100.00</td>\n",
       "      <td>0.0</td>\n",
       "      <td>0.33</td>\n",
       "      <td>1.35</td>\n",
       "      <td>2.0</td>\n",
       "      <td>56.0</td>\n",
       "      <td>1.0</td>\n",
       "    </tr>\n",
       "    <tr>\n",
       "      <th>...</th>\n",
       "      <td>...</td>\n",
       "      <td>...</td>\n",
       "      <td>...</td>\n",
       "      <td>...</td>\n",
       "      <td>...</td>\n",
       "      <td>...</td>\n",
       "      <td>...</td>\n",
       "    </tr>\n",
       "    <tr>\n",
       "      <th>23040</th>\n",
       "      <td>0.29</td>\n",
       "      <td>25.2</td>\n",
       "      <td>12.40</td>\n",
       "      <td>459.33</td>\n",
       "      <td>1.0</td>\n",
       "      <td>248.0</td>\n",
       "      <td>2.0</td>\n",
       "    </tr>\n",
       "    <tr>\n",
       "      <th>23041</th>\n",
       "      <td>20.11</td>\n",
       "      <td>25.2</td>\n",
       "      <td>12.40</td>\n",
       "      <td>459.33</td>\n",
       "      <td>1.0</td>\n",
       "      <td>248.0</td>\n",
       "      <td>2.0</td>\n",
       "    </tr>\n",
       "    <tr>\n",
       "      <th>23042</th>\n",
       "      <td>20.11</td>\n",
       "      <td>28.0</td>\n",
       "      <td>12.40</td>\n",
       "      <td>459.33</td>\n",
       "      <td>1.0</td>\n",
       "      <td>248.0</td>\n",
       "      <td>2.0</td>\n",
       "    </tr>\n",
       "    <tr>\n",
       "      <th>23043</th>\n",
       "      <td>20.11</td>\n",
       "      <td>28.0</td>\n",
       "      <td>12.40</td>\n",
       "      <td>459.33</td>\n",
       "      <td>1.0</td>\n",
       "      <td>248.0</td>\n",
       "      <td>2.0</td>\n",
       "    </tr>\n",
       "    <tr>\n",
       "      <th>23044</th>\n",
       "      <td>20.11</td>\n",
       "      <td>28.0</td>\n",
       "      <td>12.40</td>\n",
       "      <td>459.33</td>\n",
       "      <td>1.0</td>\n",
       "      <td>248.0</td>\n",
       "      <td>2.0</td>\n",
       "    </tr>\n",
       "  </tbody>\n",
       "</table>\n",
       "<p>18000 rows × 7 columns</p>\n",
       "</div>"
      ],
      "text/plain": [
       "       performance  served_request  request_rate  response_time  cpu_alloc  \\\n",
       "2300        100.00             0.0          0.33           0.00        2.0   \n",
       "2301        100.00             0.0          0.33           1.35        2.0   \n",
       "2302        100.00             0.0          0.33           1.35        2.0   \n",
       "2303        100.00             0.0          0.33           1.35        2.0   \n",
       "2304        100.00             0.0          0.33           1.35        2.0   \n",
       "...            ...             ...           ...            ...        ...   \n",
       "23040         0.29            25.2         12.40         459.33        1.0   \n",
       "23041        20.11            25.2         12.40         459.33        1.0   \n",
       "23042        20.11            28.0         12.40         459.33        1.0   \n",
       "23043        20.11            28.0         12.40         459.33        1.0   \n",
       "23044        20.11            28.0         12.40         459.33        1.0   \n",
       "\n",
       "       memory_alloc  number_instances  \n",
       "2300           56.0               1.0  \n",
       "2301           56.0               1.0  \n",
       "2302           56.0               1.0  \n",
       "2303           56.0               1.0  \n",
       "2304           56.0               1.0  \n",
       "...             ...               ...  \n",
       "23040         248.0               2.0  \n",
       "23041         248.0               2.0  \n",
       "23042         248.0               2.0  \n",
       "23043         248.0               2.0  \n",
       "23044         248.0               2.0  \n",
       "\n",
       "[18000 rows x 7 columns]"
      ]
     },
     "execution_count": 11,
     "metadata": {},
     "output_type": "execute_result"
    }
   ],
   "source": [
    "data[['performance', 'served_request','request_rate', 'response_time','cpu_alloc', 'memory_alloc', 'number_instances']][2000:20000]"
   ]
  },
  {
   "cell_type": "markdown",
   "metadata": {},
   "source": [
    "#### To response time δεν πρεπει να ειναι 0 οπότε θα διαγραψουμε τις γραμμες που συμβαινει αυτο. (Διαφορετικά θα προσπαθήσουμε να κάνουμε missing value imputation στο response time - αν βελτιωνει τα αποτελεσματα)"
   ]
  },
  {
   "cell_type": "code",
   "execution_count": 12,
   "metadata": {},
   "outputs": [
    {
     "data": {
      "text/html": [
       "<div>\n",
       "<style scoped>\n",
       "    .dataframe tbody tr th:only-of-type {\n",
       "        vertical-align: middle;\n",
       "    }\n",
       "\n",
       "    .dataframe tbody tr th {\n",
       "        vertical-align: top;\n",
       "    }\n",
       "\n",
       "    .dataframe thead th {\n",
       "        text-align: right;\n",
       "    }\n",
       "</style>\n",
       "<table border=\"1\" class=\"dataframe\">\n",
       "  <thead>\n",
       "    <tr style=\"text-align: right;\">\n",
       "      <th></th>\n",
       "      <th>served_request</th>\n",
       "      <th>request_rate</th>\n",
       "      <th>number_instances</th>\n",
       "      <th>response_time</th>\n",
       "      <th>performance</th>\n",
       "      <th>cpu_usage</th>\n",
       "      <th>cpu_alloc</th>\n",
       "      <th>memory</th>\n",
       "      <th>memory_alloc</th>\n",
       "    </tr>\n",
       "  </thead>\n",
       "  <tbody>\n",
       "    <tr>\n",
       "      <th>215</th>\n",
       "      <td>0.0</td>\n",
       "      <td>0.0</td>\n",
       "      <td>1.0</td>\n",
       "      <td>0.0</td>\n",
       "      <td>0.0</td>\n",
       "      <td>NaN</td>\n",
       "      <td>2.0</td>\n",
       "      <td>NaN</td>\n",
       "      <td>32.0</td>\n",
       "    </tr>\n",
       "    <tr>\n",
       "      <th>216</th>\n",
       "      <td>0.0</td>\n",
       "      <td>0.0</td>\n",
       "      <td>1.0</td>\n",
       "      <td>0.0</td>\n",
       "      <td>0.0</td>\n",
       "      <td>NaN</td>\n",
       "      <td>2.0</td>\n",
       "      <td>NaN</td>\n",
       "      <td>32.0</td>\n",
       "    </tr>\n",
       "    <tr>\n",
       "      <th>217</th>\n",
       "      <td>0.0</td>\n",
       "      <td>0.0</td>\n",
       "      <td>1.0</td>\n",
       "      <td>0.0</td>\n",
       "      <td>0.0</td>\n",
       "      <td>NaN</td>\n",
       "      <td>2.0</td>\n",
       "      <td>NaN</td>\n",
       "      <td>32.0</td>\n",
       "    </tr>\n",
       "    <tr>\n",
       "      <th>218</th>\n",
       "      <td>0.0</td>\n",
       "      <td>0.0</td>\n",
       "      <td>1.0</td>\n",
       "      <td>0.0</td>\n",
       "      <td>0.0</td>\n",
       "      <td>NaN</td>\n",
       "      <td>2.0</td>\n",
       "      <td>NaN</td>\n",
       "      <td>32.0</td>\n",
       "    </tr>\n",
       "    <tr>\n",
       "      <th>219</th>\n",
       "      <td>0.0</td>\n",
       "      <td>0.0</td>\n",
       "      <td>1.0</td>\n",
       "      <td>0.0</td>\n",
       "      <td>0.0</td>\n",
       "      <td>NaN</td>\n",
       "      <td>2.0</td>\n",
       "      <td>NaN</td>\n",
       "      <td>32.0</td>\n",
       "    </tr>\n",
       "    <tr>\n",
       "      <th>...</th>\n",
       "      <td>...</td>\n",
       "      <td>...</td>\n",
       "      <td>...</td>\n",
       "      <td>...</td>\n",
       "      <td>...</td>\n",
       "      <td>...</td>\n",
       "      <td>...</td>\n",
       "      <td>...</td>\n",
       "      <td>...</td>\n",
       "    </tr>\n",
       "    <tr>\n",
       "      <th>34996</th>\n",
       "      <td>0.0</td>\n",
       "      <td>0.0</td>\n",
       "      <td>2.0</td>\n",
       "      <td>0.0</td>\n",
       "      <td>100.0</td>\n",
       "      <td>19.28</td>\n",
       "      <td>3.0</td>\n",
       "      <td>29794304.0</td>\n",
       "      <td>248.0</td>\n",
       "    </tr>\n",
       "    <tr>\n",
       "      <th>34997</th>\n",
       "      <td>0.0</td>\n",
       "      <td>0.0</td>\n",
       "      <td>2.0</td>\n",
       "      <td>0.0</td>\n",
       "      <td>100.0</td>\n",
       "      <td>19.28</td>\n",
       "      <td>3.0</td>\n",
       "      <td>29794304.0</td>\n",
       "      <td>248.0</td>\n",
       "    </tr>\n",
       "    <tr>\n",
       "      <th>34998</th>\n",
       "      <td>0.0</td>\n",
       "      <td>0.0</td>\n",
       "      <td>2.0</td>\n",
       "      <td>0.0</td>\n",
       "      <td>100.0</td>\n",
       "      <td>19.28</td>\n",
       "      <td>3.0</td>\n",
       "      <td>29794304.0</td>\n",
       "      <td>248.0</td>\n",
       "    </tr>\n",
       "    <tr>\n",
       "      <th>34999</th>\n",
       "      <td>0.0</td>\n",
       "      <td>0.0</td>\n",
       "      <td>2.0</td>\n",
       "      <td>0.0</td>\n",
       "      <td>100.0</td>\n",
       "      <td>19.28</td>\n",
       "      <td>3.0</td>\n",
       "      <td>29794304.0</td>\n",
       "      <td>248.0</td>\n",
       "    </tr>\n",
       "    <tr>\n",
       "      <th>35000</th>\n",
       "      <td>0.0</td>\n",
       "      <td>0.0</td>\n",
       "      <td>2.0</td>\n",
       "      <td>0.0</td>\n",
       "      <td>100.0</td>\n",
       "      <td>19.28</td>\n",
       "      <td>3.0</td>\n",
       "      <td>29794304.0</td>\n",
       "      <td>248.0</td>\n",
       "    </tr>\n",
       "  </tbody>\n",
       "</table>\n",
       "<p>10582 rows × 9 columns</p>\n",
       "</div>"
      ],
      "text/plain": [
       "       served_request  request_rate  number_instances  response_time  \\\n",
       "215               0.0           0.0               1.0            0.0   \n",
       "216               0.0           0.0               1.0            0.0   \n",
       "217               0.0           0.0               1.0            0.0   \n",
       "218               0.0           0.0               1.0            0.0   \n",
       "219               0.0           0.0               1.0            0.0   \n",
       "...               ...           ...               ...            ...   \n",
       "34996             0.0           0.0               2.0            0.0   \n",
       "34997             0.0           0.0               2.0            0.0   \n",
       "34998             0.0           0.0               2.0            0.0   \n",
       "34999             0.0           0.0               2.0            0.0   \n",
       "35000             0.0           0.0               2.0            0.0   \n",
       "\n",
       "       performance  cpu_usage  cpu_alloc      memory  memory_alloc  \n",
       "215            0.0        NaN        2.0         NaN          32.0  \n",
       "216            0.0        NaN        2.0         NaN          32.0  \n",
       "217            0.0        NaN        2.0         NaN          32.0  \n",
       "218            0.0        NaN        2.0         NaN          32.0  \n",
       "219            0.0        NaN        2.0         NaN          32.0  \n",
       "...            ...        ...        ...         ...           ...  \n",
       "34996        100.0      19.28        3.0  29794304.0         248.0  \n",
       "34997        100.0      19.28        3.0  29794304.0         248.0  \n",
       "34998        100.0      19.28        3.0  29794304.0         248.0  \n",
       "34999        100.0      19.28        3.0  29794304.0         248.0  \n",
       "35000        100.0      19.28        3.0  29794304.0         248.0  \n",
       "\n",
       "[10582 rows x 9 columns]"
      ]
     },
     "execution_count": 12,
     "metadata": {},
     "output_type": "execute_result"
    }
   ],
   "source": [
    "data[data['response_time']==0]"
   ]
  },
  {
   "cell_type": "code",
   "execution_count": 13,
   "metadata": {},
   "outputs": [
    {
     "data": {
      "text/plain": [
       "(30507, 9)"
      ]
     },
     "execution_count": 13,
     "metadata": {},
     "output_type": "execute_result"
    }
   ],
   "source": [
    "data.shape"
   ]
  },
  {
   "cell_type": "code",
   "execution_count": 14,
   "metadata": {},
   "outputs": [
    {
     "data": {
      "text/plain": [
       "served_request        0\n",
       "request_rate          0\n",
       "number_instances      0\n",
       "response_time         0\n",
       "performance           0\n",
       "cpu_usage           899\n",
       "cpu_alloc             0\n",
       "memory              898\n",
       "memory_alloc          0\n",
       "dtype: int64"
      ]
     },
     "execution_count": 14,
     "metadata": {},
     "output_type": "execute_result"
    }
   ],
   "source": [
    "data.isna().sum()"
   ]
  },
  {
   "cell_type": "code",
   "execution_count": 15,
   "metadata": {},
   "outputs": [
    {
     "data": {
      "text/plain": [
       "0.05245901639344262"
      ]
     },
     "execution_count": 15,
     "metadata": {},
     "output_type": "execute_result"
    }
   ],
   "source": [
    "1600/30500   ### 5% ειναι περιπου το ποσοστο των nan στο σετ δεδομενων "
   ]
  },
  {
   "cell_type": "code",
   "execution_count": 16,
   "metadata": {},
   "outputs": [],
   "source": [
    "data_2 = data.drop(data[data['response_time'] == 0.000000 ].index) "
   ]
  },
  {
   "cell_type": "code",
   "execution_count": 17,
   "metadata": {},
   "outputs": [
    {
     "data": {
      "text/plain": [
       "served_request       0\n",
       "request_rate         0\n",
       "number_instances     0\n",
       "response_time        0\n",
       "performance          0\n",
       "cpu_usage           59\n",
       "cpu_alloc            0\n",
       "memory              63\n",
       "memory_alloc         0\n",
       "dtype: int64"
      ]
     },
     "execution_count": 17,
     "metadata": {},
     "output_type": "execute_result"
    }
   ],
   "source": [
    "data_2.isna().sum()"
   ]
  },
  {
   "cell_type": "code",
   "execution_count": 18,
   "metadata": {},
   "outputs": [
    {
     "data": {
      "text/plain": [
       "(19925, 9)"
      ]
     },
     "execution_count": 18,
     "metadata": {},
     "output_type": "execute_result"
    }
   ],
   "source": [
    "data_2.shape"
   ]
  },
  {
   "cell_type": "code",
   "execution_count": 19,
   "metadata": {},
   "outputs": [],
   "source": [
    "data_2 = data_2.round(decimals=2)"
   ]
  },
  {
   "cell_type": "markdown",
   "metadata": {},
   "source": [
    "#### Insert a new variable according to the formula below (θα δουμε αν θα τη χρησιμοποιησουμε)"
   ]
  },
  {
   "cell_type": "code",
   "execution_count": 20,
   "metadata": {},
   "outputs": [],
   "source": [
    "data_2['new_performance'] = (data_2['served_request']*data_2['request_rate'])/(data_2['response_time']*data_2['number_instances'])"
   ]
  },
  {
   "cell_type": "code",
   "execution_count": 21,
   "metadata": {},
   "outputs": [
    {
     "data": {
      "text/html": [
       "<div>\n",
       "<style scoped>\n",
       "    .dataframe tbody tr th:only-of-type {\n",
       "        vertical-align: middle;\n",
       "    }\n",
       "\n",
       "    .dataframe tbody tr th {\n",
       "        vertical-align: top;\n",
       "    }\n",
       "\n",
       "    .dataframe thead th {\n",
       "        text-align: right;\n",
       "    }\n",
       "</style>\n",
       "<table border=\"1\" class=\"dataframe\">\n",
       "  <thead>\n",
       "    <tr style=\"text-align: right;\">\n",
       "      <th></th>\n",
       "      <th>performance</th>\n",
       "      <th>new_performance</th>\n",
       "      <th>request_rate</th>\n",
       "      <th>response_time</th>\n",
       "      <th>served_request</th>\n",
       "    </tr>\n",
       "  </thead>\n",
       "  <tbody>\n",
       "    <tr>\n",
       "      <th>13</th>\n",
       "      <td>0.00</td>\n",
       "      <td>0.000000</td>\n",
       "      <td>0.00</td>\n",
       "      <td>6960.36</td>\n",
       "      <td>0.00</td>\n",
       "    </tr>\n",
       "    <tr>\n",
       "      <th>14</th>\n",
       "      <td>33.33</td>\n",
       "      <td>0.000000</td>\n",
       "      <td>8.33</td>\n",
       "      <td>6960.36</td>\n",
       "      <td>0.00</td>\n",
       "    </tr>\n",
       "    <tr>\n",
       "      <th>15</th>\n",
       "      <td>33.33</td>\n",
       "      <td>0.000000</td>\n",
       "      <td>8.33</td>\n",
       "      <td>6960.36</td>\n",
       "      <td>0.00</td>\n",
       "    </tr>\n",
       "    <tr>\n",
       "      <th>16</th>\n",
       "      <td>33.33</td>\n",
       "      <td>0.024330</td>\n",
       "      <td>8.33</td>\n",
       "      <td>6960.36</td>\n",
       "      <td>20.33</td>\n",
       "    </tr>\n",
       "    <tr>\n",
       "      <th>17</th>\n",
       "      <td>33.33</td>\n",
       "      <td>0.024330</td>\n",
       "      <td>8.33</td>\n",
       "      <td>6960.36</td>\n",
       "      <td>20.33</td>\n",
       "    </tr>\n",
       "    <tr>\n",
       "      <th>...</th>\n",
       "      <td>...</td>\n",
       "      <td>...</td>\n",
       "      <td>...</td>\n",
       "      <td>...</td>\n",
       "      <td>...</td>\n",
       "    </tr>\n",
       "    <tr>\n",
       "      <th>35263</th>\n",
       "      <td>10.67</td>\n",
       "      <td>33.975824</td>\n",
       "      <td>16.57</td>\n",
       "      <td>6.41</td>\n",
       "      <td>39.43</td>\n",
       "    </tr>\n",
       "    <tr>\n",
       "      <th>35264</th>\n",
       "      <td>10.67</td>\n",
       "      <td>33.975824</td>\n",
       "      <td>16.57</td>\n",
       "      <td>6.41</td>\n",
       "      <td>39.43</td>\n",
       "    </tr>\n",
       "    <tr>\n",
       "      <th>35265</th>\n",
       "      <td>10.67</td>\n",
       "      <td>16.025389</td>\n",
       "      <td>16.57</td>\n",
       "      <td>13.59</td>\n",
       "      <td>39.43</td>\n",
       "    </tr>\n",
       "    <tr>\n",
       "      <th>35266</th>\n",
       "      <td>10.67</td>\n",
       "      <td>16.025389</td>\n",
       "      <td>16.57</td>\n",
       "      <td>13.59</td>\n",
       "      <td>39.43</td>\n",
       "    </tr>\n",
       "    <tr>\n",
       "      <th>35267</th>\n",
       "      <td>10.67</td>\n",
       "      <td>16.025389</td>\n",
       "      <td>16.57</td>\n",
       "      <td>13.59</td>\n",
       "      <td>39.43</td>\n",
       "    </tr>\n",
       "  </tbody>\n",
       "</table>\n",
       "<p>19925 rows × 5 columns</p>\n",
       "</div>"
      ],
      "text/plain": [
       "       performance  new_performance  request_rate  response_time  \\\n",
       "13            0.00         0.000000          0.00        6960.36   \n",
       "14           33.33         0.000000          8.33        6960.36   \n",
       "15           33.33         0.000000          8.33        6960.36   \n",
       "16           33.33         0.024330          8.33        6960.36   \n",
       "17           33.33         0.024330          8.33        6960.36   \n",
       "...            ...              ...           ...            ...   \n",
       "35263        10.67        33.975824         16.57           6.41   \n",
       "35264        10.67        33.975824         16.57           6.41   \n",
       "35265        10.67        16.025389         16.57          13.59   \n",
       "35266        10.67        16.025389         16.57          13.59   \n",
       "35267        10.67        16.025389         16.57          13.59   \n",
       "\n",
       "       served_request  \n",
       "13               0.00  \n",
       "14               0.00  \n",
       "15               0.00  \n",
       "16              20.33  \n",
       "17              20.33  \n",
       "...               ...  \n",
       "35263           39.43  \n",
       "35264           39.43  \n",
       "35265           39.43  \n",
       "35266           39.43  \n",
       "35267           39.43  \n",
       "\n",
       "[19925 rows x 5 columns]"
      ]
     },
     "execution_count": 21,
     "metadata": {},
     "output_type": "execute_result"
    }
   ],
   "source": [
    "data_2[['performance', 'new_performance', 'request_rate', 'response_time', 'served_request']]"
   ]
  },
  {
   "cell_type": "code",
   "execution_count": 22,
   "metadata": {},
   "outputs": [
    {
     "data": {
      "text/plain": [
       "<matplotlib.axes._subplots.AxesSubplot at 0x7fd43654a390>"
      ]
     },
     "execution_count": 22,
     "metadata": {},
     "output_type": "execute_result"
    },
    {
     "data": {
      "image/png": "[encoded data removed]",
      "text/plain": [
       "<Figure size 432x288 with 1 Axes>"
      ]
     },
     "metadata": {
      "needs_background": "light"
     },
     "output_type": "display_data"
    }
   ],
   "source": [
    "data_2['performance'].plot()"
   ]
  },
  {
   "cell_type": "code",
   "execution_count": 23,
   "metadata": {},
   "outputs": [
    {
     "data": {
      "text/plain": [
       "<matplotlib.axes._subplots.AxesSubplot at 0x7fd435ffcf50>"
      ]
     },
     "execution_count": 23,
     "metadata": {},
     "output_type": "execute_result"
    },
    {
     "data": {
      "image/png": "[encoded data removed]",
      "text/plain": [
       "<Figure size 432x288 with 1 Axes>"
      ]
     },
     "metadata": {
      "needs_background": "light"
     },
     "output_type": "display_data"
    }
   ],
   "source": [
    "data_2['new_performance'].plot()"
   ]
  },
  {
   "cell_type": "code",
   "execution_count": 24,
   "metadata": {},
   "outputs": [
    {
     "data": {
      "text/plain": [
       "<matplotlib.axes._subplots.AxesSubplot at 0x7fd43493e210>"
      ]
     },
     "execution_count": 24,
     "metadata": {},
     "output_type": "execute_result"
    },
    {
     "data": {
      "image/png": "[encoded data removed]",
      "text/plain": [
       "<Figure size 432x288 with 1 Axes>"
      ]
     },
     "metadata": {
      "needs_background": "light"
     },
     "output_type": "display_data"
    }
   ],
   "source": [
    "data_2['new_performance'][0:1000].plot()"
   ]
  },
  {
   "cell_type": "code",
   "execution_count": 25,
   "metadata": {},
   "outputs": [
    {
     "data": {
      "text/html": [
       "<div>\n",
       "<style scoped>\n",
       "    .dataframe tbody tr th:only-of-type {\n",
       "        vertical-align: middle;\n",
       "    }\n",
       "\n",
       "    .dataframe tbody tr th {\n",
       "        vertical-align: top;\n",
       "    }\n",
       "\n",
       "    .dataframe thead th {\n",
       "        text-align: right;\n",
       "    }\n",
       "</style>\n",
       "<table border=\"1\" class=\"dataframe\">\n",
       "  <thead>\n",
       "    <tr style=\"text-align: right;\">\n",
       "      <th></th>\n",
       "      <th>served_request</th>\n",
       "      <th>request_rate</th>\n",
       "      <th>number_instances</th>\n",
       "      <th>response_time</th>\n",
       "      <th>performance</th>\n",
       "      <th>cpu_usage</th>\n",
       "      <th>cpu_alloc</th>\n",
       "      <th>memory</th>\n",
       "      <th>memory_alloc</th>\n",
       "      <th>new_performance</th>\n",
       "    </tr>\n",
       "  </thead>\n",
       "  <tbody>\n",
       "    <tr>\n",
       "      <th>0</th>\n",
       "      <td>0.00</td>\n",
       "      <td>0.00</td>\n",
       "      <td>1.0</td>\n",
       "      <td>6960.36</td>\n",
       "      <td>0.00</td>\n",
       "      <td>39.37</td>\n",
       "      <td>2.0</td>\n",
       "      <td>9718442.67</td>\n",
       "      <td>32.0</td>\n",
       "      <td>0.00000</td>\n",
       "    </tr>\n",
       "    <tr>\n",
       "      <th>1</th>\n",
       "      <td>0.00</td>\n",
       "      <td>8.33</td>\n",
       "      <td>1.0</td>\n",
       "      <td>6960.36</td>\n",
       "      <td>33.33</td>\n",
       "      <td>39.37</td>\n",
       "      <td>2.0</td>\n",
       "      <td>9718442.67</td>\n",
       "      <td>32.0</td>\n",
       "      <td>0.00000</td>\n",
       "    </tr>\n",
       "    <tr>\n",
       "      <th>2</th>\n",
       "      <td>0.00</td>\n",
       "      <td>8.33</td>\n",
       "      <td>1.0</td>\n",
       "      <td>6960.36</td>\n",
       "      <td>33.33</td>\n",
       "      <td>39.37</td>\n",
       "      <td>2.0</td>\n",
       "      <td>9718442.67</td>\n",
       "      <td>32.0</td>\n",
       "      <td>0.00000</td>\n",
       "    </tr>\n",
       "    <tr>\n",
       "      <th>3</th>\n",
       "      <td>20.33</td>\n",
       "      <td>8.33</td>\n",
       "      <td>1.0</td>\n",
       "      <td>6960.36</td>\n",
       "      <td>33.33</td>\n",
       "      <td>39.37</td>\n",
       "      <td>2.0</td>\n",
       "      <td>9718442.67</td>\n",
       "      <td>32.0</td>\n",
       "      <td>0.02433</td>\n",
       "    </tr>\n",
       "    <tr>\n",
       "      <th>4</th>\n",
       "      <td>20.33</td>\n",
       "      <td>8.33</td>\n",
       "      <td>1.0</td>\n",
       "      <td>6960.36</td>\n",
       "      <td>33.33</td>\n",
       "      <td>39.37</td>\n",
       "      <td>2.0</td>\n",
       "      <td>9718442.67</td>\n",
       "      <td>32.0</td>\n",
       "      <td>0.02433</td>\n",
       "    </tr>\n",
       "  </tbody>\n",
       "</table>\n",
       "</div>"
      ],
      "text/plain": [
       "   served_request  request_rate  number_instances  response_time  performance  \\\n",
       "0            0.00          0.00               1.0        6960.36         0.00   \n",
       "1            0.00          8.33               1.0        6960.36        33.33   \n",
       "2            0.00          8.33               1.0        6960.36        33.33   \n",
       "3           20.33          8.33               1.0        6960.36        33.33   \n",
       "4           20.33          8.33               1.0        6960.36        33.33   \n",
       "\n",
       "   cpu_usage  cpu_alloc      memory  memory_alloc  new_performance  \n",
       "0      39.37        2.0  9718442.67          32.0          0.00000  \n",
       "1      39.37        2.0  9718442.67          32.0          0.00000  \n",
       "2      39.37        2.0  9718442.67          32.0          0.00000  \n",
       "3      39.37        2.0  9718442.67          32.0          0.02433  \n",
       "4      39.37        2.0  9718442.67          32.0          0.02433  "
      ]
     },
     "execution_count": 25,
     "metadata": {},
     "output_type": "execute_result"
    }
   ],
   "source": [
    "data_3 = data_2.reset_index()\n",
    "data_3 = data_3.drop(columns=['index'])\n",
    "data_3.head()"
   ]
  },
  {
   "cell_type": "code",
   "execution_count": 26,
   "metadata": {},
   "outputs": [
    {
     "data": {
      "text/plain": [
       "13        0.00\n",
       "14       33.33\n",
       "15       33.33\n",
       "16       33.33\n",
       "17       33.33\n",
       "         ...  \n",
       "35263    10.67\n",
       "35264    10.67\n",
       "35265    10.67\n",
       "35266    10.67\n",
       "35267    10.67\n",
       "Name: performance, Length: 19925, dtype: float64"
      ]
     },
     "execution_count": 26,
     "metadata": {},
     "output_type": "execute_result"
    }
   ],
   "source": [
    "data_2['performance']"
   ]
  },
  {
   "cell_type": "code",
   "execution_count": 27,
   "metadata": {},
   "outputs": [
    {
     "data": {
      "text/plain": [
       "False"
      ]
     },
     "execution_count": 27,
     "metadata": {},
     "output_type": "execute_result"
    }
   ],
   "source": [
    "data_2['performance'].equals(data_2['new_performance'])"
   ]
  },
  {
   "cell_type": "code",
   "execution_count": 28,
   "metadata": {},
   "outputs": [
    {
     "data": {
      "text/plain": [
       "<matplotlib.axes._subplots.AxesSubplot at 0x7fd43489ef50>"
      ]
     },
     "execution_count": 28,
     "metadata": {},
     "output_type": "execute_result"
    },
    {
     "data": {
      "image/png": "[encoded data removed]",
      "text/plain": [
       "<Figure size 432x288 with 1 Axes>"
      ]
     },
     "metadata": {
      "needs_background": "light"
     },
     "output_type": "display_data"
    }
   ],
   "source": [
    "data_3['new_performance'].plot()"
   ]
  },
  {
   "cell_type": "code",
   "execution_count": 29,
   "metadata": {},
   "outputs": [
    {
     "data": {
      "text/plain": [
       "<matplotlib.axes._subplots.AxesSubplot at 0x7fd434827d90>"
      ]
     },
     "execution_count": 29,
     "metadata": {},
     "output_type": "execute_result"
    },
    {
     "data": {
      "image/png": "[encoded data removed]",
      "text/plain": [
       "<Figure size 432x288 with 1 Axes>"
      ]
     },
     "metadata": {
      "needs_background": "light"
     },
     "output_type": "display_data"
    }
   ],
   "source": [
    "data['served_request'].plot()"
   ]
  },
  {
   "cell_type": "code",
   "execution_count": 30,
   "metadata": {},
   "outputs": [
    {
     "data": {
      "text/plain": [
       "<matplotlib.axes._subplots.AxesSubplot at 0x7fd4347a1050>"
      ]
     },
     "execution_count": 30,
     "metadata": {},
     "output_type": "execute_result"
    },
    {
     "data": {
      "image/png": "[encoded data removed]",
      "text/plain": [
       "<Figure size 432x288 with 1 Axes>"
      ]
     },
     "metadata": {
      "needs_background": "light"
     },
     "output_type": "display_data"
    }
   ],
   "source": [
    "data['response_time'].plot()"
   ]
  },
  {
   "cell_type": "code",
   "execution_count": 31,
   "metadata": {},
   "outputs": [
    {
     "data": {
      "text/plain": [
       "<matplotlib.axes._subplots.AxesSubplot at 0x7fd4347801d0>"
      ]
     },
     "execution_count": 31,
     "metadata": {},
     "output_type": "execute_result"
    },
    {
     "data": {
      "image/png": "[encoded data removed]",
      "text/plain": [
       "<Figure size 432x288 with 1 Axes>"
      ]
     },
     "metadata": {
      "needs_background": "light"
     },
     "output_type": "display_data"
    }
   ],
   "source": [
    "data['number_instances'].plot()"
   ]
  },
  {
   "cell_type": "code",
   "execution_count": 32,
   "metadata": {},
   "outputs": [
    {
     "data": {
      "text/plain": [
       "<matplotlib.axes._subplots.AxesSubplot at 0x7fd4346f4710>"
      ]
     },
     "execution_count": 32,
     "metadata": {},
     "output_type": "execute_result"
    },
    {
     "data": {
      "image/png": "[encoded data removed]",
      "text/plain": [
       "<Figure size 432x288 with 1 Axes>"
      ]
     },
     "metadata": {
      "needs_background": "light"
     },
     "output_type": "display_data"
    }
   ],
   "source": [
    "data['cpu_alloc'].plot()"
   ]
  },
  {
   "cell_type": "code",
   "execution_count": 33,
   "metadata": {},
   "outputs": [
    {
     "data": {
      "text/plain": [
       "<matplotlib.axes._subplots.AxesSubplot at 0x7fd43478bad0>"
      ]
     },
     "execution_count": 33,
     "metadata": {},
     "output_type": "execute_result"
    },
    {
     "data": {
      "image/png": "[encoded data removed]",
      "text/plain": [
       "<Figure size 432x288 with 1 Axes>"
      ]
     },
     "metadata": {
      "needs_background": "light"
     },
     "output_type": "display_data"
    }
   ],
   "source": [
    "data['memory_alloc'].plot()"
   ]
  },
  {
   "cell_type": "markdown",
   "metadata": {},
   "source": [
    "# Data Imputation technique 1"
   ]
  },
  {
   "cell_type": "markdown",
   "metadata": {},
   "source": [
    "# Missing Values Imputation \n",
    "#### We are using an inheritance from the sklearn.base classes (BaseEstimator, TransformerMixin). "
   ]
  },
  {
   "cell_type": "markdown",
   "metadata": {},
   "source": [
    "# Group Data according to configuration and then for each configuration take the mean or the meadian"
   ]
  },
  {
   "cell_type": "code",
   "execution_count": 34,
   "metadata": {},
   "outputs": [
    {
     "name": "stdout",
     "output_type": "stream",
     "text": [
      "    number_instances  cpu_alloc  memory_alloc  served_request\n",
      "0                1.0        1.0         248.0           22.33\n",
      "1                1.0        2.0          32.0            0.00\n",
      "2                1.0        2.0          48.0          636.00\n",
      "3                1.0        2.0          56.0            0.00\n",
      "4                1.0        2.0         248.0           44.67\n",
      "5                1.0        3.0          32.0            5.00\n",
      "6                1.0        3.0         248.0           72.33\n",
      "7                1.0        4.0         248.0           90.67\n",
      "8                1.0        6.0          32.0           58.33\n",
      "9                2.0        1.0         248.0           25.20\n",
      "10               2.0        2.0         248.0           46.80\n",
      "11               2.0        3.0         248.0           72.40\n",
      "12               2.0        6.0          32.0          141.00\n",
      "13               2.0        7.0          32.0            0.60\n",
      "14               3.0        1.0         248.0           24.29\n",
      "15               3.0        2.0         248.0           40.57\n",
      "16               3.0        3.0         248.0           64.57\n",
      "17               4.0        1.0         248.0           25.89\n",
      "18               4.0        2.0         248.0           30.00\n",
      "19               5.0        1.0         248.0           22.11\n",
      "    number_instances  cpu_alloc  memory_alloc  request_rate\n",
      "0                1.0        1.0         248.0         13.67\n",
      "1                1.0        2.0          32.0          0.00\n",
      "2                1.0        2.0          48.0        322.00\n",
      "3                1.0        2.0          56.0          0.33\n",
      "4                1.0        2.0         248.0         27.00\n",
      "5                1.0        3.0          32.0          5.33\n",
      "6                1.0        3.0         248.0         43.67\n",
      "7                1.0        4.0         248.0         49.33\n",
      "8                1.0        6.0          32.0         93.00\n",
      "9                2.0        1.0         248.0         12.40\n",
      "10               2.0        2.0         248.0         22.60\n",
      "11               2.0        3.0         248.0         40.00\n",
      "12               2.0        6.0          32.0         93.00\n",
      "13               2.0        7.0          32.0          0.00\n",
      "14               3.0        1.0         248.0         11.71\n",
      "15               3.0        2.0         248.0         17.71\n",
      "16               3.0        3.0         248.0         30.57\n",
      "17               4.0        1.0         248.0         11.33\n",
      "18               4.0        2.0         248.0         13.44\n",
      "19               5.0        1.0         248.0          9.73\n",
      "    number_instances  cpu_alloc  memory_alloc  response_time\n",
      "0                1.0        1.0         248.0        1534.37\n",
      "1                1.0        2.0          32.0           0.00\n",
      "2                1.0        2.0          48.0           1.71\n",
      "3                1.0        2.0          56.0           0.93\n",
      "4                1.0        2.0         248.0          60.26\n",
      "5                1.0        3.0          32.0        5497.19\n",
      "6                1.0        3.0         248.0          23.34\n",
      "7                1.0        4.0         248.0          18.22\n",
      "8                1.0        6.0          32.0        1112.42\n",
      "9                2.0        1.0         248.0         891.72\n",
      "10               2.0        2.0         248.0         402.75\n",
      "11               2.0        3.0         248.0          18.15\n",
      "12               2.0        6.0          32.0         558.21\n",
      "13               2.0        7.0          32.0           1.16\n",
      "14               3.0        1.0         248.0         500.57\n",
      "15               3.0        2.0         248.0          31.05\n",
      "16               3.0        3.0         248.0           8.86\n",
      "17               4.0        1.0         248.0         339.48\n",
      "18               4.0        2.0         248.0           2.96\n",
      "19               5.0        1.0         248.0         285.70\n",
      "    number_instances  cpu_alloc  memory_alloc  performance\n",
      "0                1.0        1.0         248.0        0.010\n",
      "1                1.0        2.0          32.0        0.000\n",
      "2                1.0        2.0          48.0      199.550\n",
      "3                1.0        2.0          56.0      100.000\n",
      "4                1.0        2.0         248.0        0.740\n",
      "5                1.0        3.0          32.0        0.000\n",
      "6                1.0        3.0         248.0        1.750\n",
      "7                1.0        4.0         248.0        7.220\n",
      "8                1.0        6.0          32.0        0.070\n",
      "9                2.0        1.0         248.0        0.245\n",
      "10               2.0        2.0         248.0        1.570\n",
      "11               2.0        3.0         248.0        3.960\n",
      "12               2.0        6.0          32.0        0.070\n",
      "13               2.0        7.0          32.0      100.000\n",
      "14               3.0        1.0         248.0        0.380\n",
      "15               3.0        2.0         248.0        1.530\n",
      "16               3.0        3.0         248.0       10.200\n",
      "17               4.0        1.0         248.0        0.200\n",
      "18               4.0        2.0         248.0        8.110\n",
      "19               5.0        1.0         248.0        0.440\n",
      "    number_instances  cpu_alloc  memory_alloc  cpu_usage\n",
      "0                1.0        1.0         248.0     24.400\n",
      "1                1.0        2.0          32.0     32.385\n",
      "2                1.0        2.0          48.0     29.200\n",
      "3                1.0        2.0          56.0     41.900\n",
      "4                1.0        2.0         248.0     28.430\n",
      "5                1.0        3.0          32.0     35.600\n",
      "6                1.0        3.0         248.0     30.870\n",
      "7                1.0        4.0         248.0     30.570\n",
      "8                1.0        6.0          32.0     45.070\n",
      "9                2.0        1.0         248.0     24.240\n",
      "10               2.0        2.0         248.0     43.240\n",
      "11               2.0        3.0         248.0     41.560\n",
      "12               2.0        6.0          32.0     45.070\n",
      "13               2.0        7.0          32.0     39.160\n",
      "14               3.0        1.0         248.0     31.090\n",
      "15               3.0        2.0         248.0     61.840\n",
      "16               3.0        3.0         248.0     41.140\n",
      "17               4.0        1.0         248.0     37.930\n",
      "18               4.0        2.0         248.0     48.690\n",
      "19               5.0        1.0         248.0     58.670\n",
      "    number_instances  cpu_alloc  memory_alloc       memory\n",
      "0                1.0        1.0         248.0  36963669.33\n",
      "1                1.0        2.0          32.0   7603541.33\n",
      "2                1.0        2.0          48.0  32408917.33\n",
      "3                1.0        2.0          56.0  32159061.33\n",
      "4                1.0        2.0         248.0  38674432.00\n",
      "5                1.0        3.0          32.0   7021909.33\n",
      "6                1.0        3.0         248.0  38129664.00\n",
      "7                1.0        4.0         248.0  37807445.33\n",
      "8                1.0        6.0          32.0  51086677.33\n",
      "9                2.0        1.0         248.0  40073625.60\n",
      "10               2.0        2.0         248.0  34125824.00\n",
      "11               2.0        3.0         248.0  32251084.80\n",
      "12               2.0        6.0          32.0  51086677.33\n",
      "13               2.0        7.0          32.0  33094041.60\n",
      "14               3.0        1.0         248.0  35364864.00\n",
      "15               3.0        2.0         248.0  34437997.71\n",
      "16               3.0        3.0         248.0  36189330.29\n",
      "17               4.0        1.0         248.0  33857536.00\n",
      "18               4.0        2.0         248.0  27695331.56\n",
      "19               5.0        1.0         248.0  33040570.18\n",
      "data contains 0 missing values.\n",
      "df_imp contains 0 missing values.\n",
      "data contains 0 missing values.\n",
      "df_imp contains 0 missing values.\n",
      "data contains 0 missing values.\n",
      "df_imp contains 0 missing values.\n",
      "data contains 0 missing values.\n",
      "df_imp contains 0 missing values.\n",
      "data contains 899 missing values.\n",
      "df_imp contains 0 missing values.\n",
      "data contains 898 missing values.\n",
      "df_imp contains 0 missing values.\n"
     ]
    }
   ],
   "source": [
    "#Missing Values Imputation \n",
    "\n",
    "class GroupImputer(BaseEstimator, TransformerMixin):\n",
    "    '''\n",
    "    Class used for imputing missing values in a pd.DataFrame using either mean or median of a group.\n",
    "\n",
    "    Parameters\n",
    "    ----------\n",
    "    group_cols : list\n",
    "        List of columns used for calculating the aggregated value\n",
    "    target : str\n",
    "        The name of the column to impute\n",
    "    metric : str\n",
    "        The metric to be used for remplacement, can be one of ['mean', 'median']\n",
    "    Returns\n",
    "    -------\n",
    "    X : array-like\n",
    "        The array with imputed values in the target column\n",
    "    '''\n",
    "\n",
    "    def __init__(self, group_cols, target, metric='mean'):\n",
    "        assert metric in ['mean', 'median'], 'Unrecognized value for metric, should be mean/median'\n",
    "        #assert type(group_cols) == list, 'group_cols should be a list of columns'\n",
    "        assert type(target) == str, 'target should be a string'\n",
    "\n",
    "        self.group_cols = group_cols\n",
    "        self.target = target\n",
    "        self.metric = metric\n",
    "\n",
    "    def fit(self, X, y=None):\n",
    "        assert pd.isnull(X[self.group_cols]).any(axis=None) == False, 'There are missing values in group_cols'\n",
    "\n",
    "        impute_map = X.groupby(self.group_cols)[self.target].agg(self.metric).reset_index(drop=False)#\n",
    "        \n",
    "        print(impute_map)\n",
    "        self.impute_map_ = impute_map\n",
    "\n",
    "        return self\n",
    "\n",
    "    def transform(self, X, y=None):\n",
    "        # make sure that the imputer was fitted\n",
    "        check_is_fitted(self, 'impute_map_')\n",
    "\n",
    "        X = X.copy()\n",
    "\n",
    "        for index, row in self.impute_map_.iterrows():\n",
    "            ind = (X[self.group_cols] == row[self.group_cols]).all(axis=1)\n",
    "            X.loc[ind] = X.loc[ind].fillna(row[self.target])\n",
    "\n",
    "        return X.values\n",
    "\n",
    "\n",
    "conf_columns = ['number_instances', 'cpu_alloc', 'memory_alloc' ]\n",
    "\n",
    "for col_name in data.columns:\n",
    "    if col_name != 'number_instances' and col_name != 'cpu_alloc' and col_name!= 'memory_alloc' :\n",
    "\n",
    "        imp = GroupImputer(group_cols=conf_columns,\n",
    "                           target=col_name,\n",
    "                           metric='median')\n",
    "\n",
    "        df_imp = pd.DataFrame(imp.fit_transform(data),\n",
    "                              columns=data.columns)\n",
    "\n",
    "\n",
    "\n",
    "for col_name in data.columns:\n",
    "    if col_name != 'number_instances' and col_name != 'cpu_alloc' and col_name!= 'memory_alloc' :\n",
    "\n",
    "        print(f'data contains {sum(pd.isnull(data[col_name]))} missing values.')\n",
    "        print(f'df_imp contains {sum(pd.isnull(df_imp[col_name]))} missing values.')\n",
    "\n"
   ]
  },
  {
   "cell_type": "code",
   "execution_count": 35,
   "metadata": {},
   "outputs": [
    {
     "data": {
      "text/plain": [
       "served_request      0\n",
       "request_rate        0\n",
       "number_instances    0\n",
       "response_time       0\n",
       "performance         0\n",
       "cpu_usage           0\n",
       "cpu_alloc           0\n",
       "memory              0\n",
       "memory_alloc        0\n",
       "dtype: int64"
      ]
     },
     "execution_count": 35,
     "metadata": {},
     "output_type": "execute_result"
    }
   ],
   "source": [
    "df_imp.isna().sum()"
   ]
  },
  {
   "cell_type": "code",
   "execution_count": null,
   "metadata": {},
   "outputs": [],
   "source": []
  },
  {
   "cell_type": "markdown",
   "metadata": {},
   "source": [
    "# Data imputation technique 2"
   ]
  },
  {
   "cell_type": "code",
   "execution_count": 38,
   "metadata": {},
   "outputs": [],
   "source": [
    "data_cols = data_3.columns\n",
    "\n",
    "def split(df, group_cols):\n",
    "     gb = df.groupby(group_cols)\n",
    "     return [gb.get_group(x) for x in gb.groups]\n",
    "\n",
    "group_cols  = ['number_instances', 'cpu_alloc', 'memory_alloc' ]\n",
    "data = split(data_3,group_cols )\n"
   ]
  },
  {
   "cell_type": "markdown",
   "metadata": {},
   "source": [
    "# Check in which dataset appears nan values, and how many they are"
   ]
  },
  {
   "cell_type": "code",
   "execution_count": 39,
   "metadata": {},
   "outputs": [
    {
     "name": "stdout",
     "output_type": "stream",
     "text": [
      "served_request      0\n",
      "request_rate        0\n",
      "number_instances    0\n",
      "response_time       0\n",
      "performance         0\n",
      "cpu_usage           0\n",
      "cpu_alloc           0\n",
      "memory              0\n",
      "memory_alloc        0\n",
      "new_performance     0\n",
      "dtype: int64 served_request       0\n",
      "request_rate         0\n",
      "number_instances     0\n",
      "response_time        0\n",
      "performance          0\n",
      "cpu_usage            7\n",
      "cpu_alloc            0\n",
      "memory              12\n",
      "memory_alloc         0\n",
      "new_performance      0\n",
      "dtype: int64 served_request      0\n",
      "request_rate        0\n",
      "number_instances    0\n",
      "response_time       0\n",
      "performance         0\n",
      "cpu_usage           0\n",
      "cpu_alloc           0\n",
      "memory              0\n",
      "memory_alloc        0\n",
      "new_performance     0\n",
      "dtype: int64 served_request       0\n",
      "request_rate         0\n",
      "number_instances     0\n",
      "response_time        0\n",
      "performance          0\n",
      "cpu_usage            2\n",
      "cpu_alloc            0\n",
      "memory              13\n",
      "memory_alloc         0\n",
      "new_performance      0\n",
      "dtype: int64 served_request      0\n",
      "request_rate        0\n",
      "number_instances    0\n",
      "response_time       0\n",
      "performance         0\n",
      "cpu_usage           0\n",
      "cpu_alloc           0\n",
      "memory              0\n",
      "memory_alloc        0\n",
      "new_performance     0\n",
      "dtype: int64 served_request       0\n",
      "request_rate         0\n",
      "number_instances     0\n",
      "response_time        0\n",
      "performance          0\n",
      "cpu_usage           27\n",
      "cpu_alloc            0\n",
      "memory              34\n",
      "memory_alloc         0\n",
      "new_performance      0\n",
      "dtype: int64 served_request      0\n",
      "request_rate        0\n",
      "number_instances    0\n",
      "response_time       0\n",
      "performance         0\n",
      "cpu_usage           6\n",
      "cpu_alloc           0\n",
      "memory              0\n",
      "memory_alloc        0\n",
      "new_performance     0\n",
      "dtype: int64 served_request      0\n",
      "request_rate        0\n",
      "number_instances    0\n",
      "response_time       0\n",
      "performance         0\n",
      "cpu_usage           0\n",
      "cpu_alloc           0\n",
      "memory              0\n",
      "memory_alloc        0\n",
      "new_performance     0\n",
      "dtype: int64 served_request      0\n",
      "request_rate        0\n",
      "number_instances    0\n",
      "response_time       0\n",
      "performance         0\n",
      "cpu_usage           0\n",
      "cpu_alloc           0\n",
      "memory              0\n",
      "memory_alloc        0\n",
      "new_performance     0\n",
      "dtype: int64 served_request      0\n",
      "request_rate        0\n",
      "number_instances    0\n",
      "response_time       0\n",
      "performance         0\n",
      "cpu_usage           0\n",
      "cpu_alloc           0\n",
      "memory              0\n",
      "memory_alloc        0\n",
      "new_performance     0\n",
      "dtype: int64 served_request      0\n",
      "request_rate        0\n",
      "number_instances    0\n",
      "response_time       0\n",
      "performance         0\n",
      "cpu_usage           3\n",
      "cpu_alloc           0\n",
      "memory              0\n",
      "memory_alloc        0\n",
      "new_performance     0\n",
      "dtype: int64 served_request      0\n",
      "request_rate        0\n",
      "number_instances    0\n",
      "response_time       0\n",
      "performance         0\n",
      "cpu_usage           3\n",
      "cpu_alloc           0\n",
      "memory              1\n",
      "memory_alloc        0\n",
      "new_performance     0\n",
      "dtype: int64 served_request      0\n",
      "request_rate        0\n",
      "number_instances    0\n",
      "response_time       0\n",
      "performance         0\n",
      "cpu_usage           0\n",
      "cpu_alloc           0\n",
      "memory              0\n",
      "memory_alloc        0\n",
      "new_performance     0\n",
      "dtype: int64 served_request      0\n",
      "request_rate        0\n",
      "number_instances    0\n",
      "response_time       0\n",
      "performance         0\n",
      "cpu_usage           1\n",
      "cpu_alloc           0\n",
      "memory              3\n",
      "memory_alloc        0\n",
      "new_performance     0\n",
      "dtype: int64 served_request      0\n",
      "request_rate        0\n",
      "number_instances    0\n",
      "response_time       0\n",
      "performance         0\n",
      "cpu_usage           0\n",
      "cpu_alloc           0\n",
      "memory              0\n",
      "memory_alloc        0\n",
      "new_performance     0\n",
      "dtype: int64 served_request      0\n",
      "request_rate        0\n",
      "number_instances    0\n",
      "response_time       0\n",
      "performance         0\n",
      "cpu_usage           0\n",
      "cpu_alloc           0\n",
      "memory              0\n",
      "memory_alloc        0\n",
      "new_performance     0\n",
      "dtype: int64 served_request      0\n",
      "request_rate        0\n",
      "number_instances    0\n",
      "response_time       0\n",
      "performance         0\n",
      "cpu_usage           0\n",
      "cpu_alloc           0\n",
      "memory              0\n",
      "memory_alloc        0\n",
      "new_performance     0\n",
      "dtype: int64 served_request      0\n",
      "request_rate        0\n",
      "number_instances    0\n",
      "response_time       0\n",
      "performance         0\n",
      "cpu_usage           0\n",
      "cpu_alloc           0\n",
      "memory              0\n",
      "memory_alloc        0\n",
      "new_performance     0\n",
      "dtype: int64 served_request      0\n",
      "request_rate        0\n",
      "number_instances    0\n",
      "response_time       0\n",
      "performance         0\n",
      "cpu_usage           7\n",
      "cpu_alloc           0\n",
      "memory              0\n",
      "memory_alloc        0\n",
      "new_performance     0\n",
      "dtype: int64 served_request      0\n",
      "request_rate        0\n",
      "number_instances    0\n",
      "response_time       0\n",
      "performance         0\n",
      "cpu_usage           3\n",
      "cpu_alloc           0\n",
      "memory              0\n",
      "memory_alloc        0\n",
      "new_performance     0\n",
      "dtype: int64\n"
     ]
    }
   ],
   "source": [
    "print(data[0].isna().sum(),\n",
    "data[1].isna().sum(),\n",
    "data[2].isna().sum(),\n",
    "data[3].isna().sum(),\n",
    "data[4].isna().sum(),\n",
    "data[5].isna().sum(),\n",
    "data[6].isna().sum(),\n",
    "data[7].isna().sum(),\n",
    "data[8].isna().sum(),\n",
    "data[9].isna().sum(),\n",
    "data[10].isna().sum(),\n",
    "data[11].isna().sum(),\n",
    "data[12].isna().sum(),\n",
    "data[13].isna().sum(),\n",
    "data[14].isna().sum(),\n",
    "data[15].isna().sum(),\n",
    "data[16].isna().sum(),\n",
    "data[17].isna().sum(),\n",
    "data[18].isna().sum(),\n",
    "data[19].isna().sum())\n"
   ]
  },
  {
   "cell_type": "markdown",
   "metadata": {},
   "source": [
    "# Use this loop to try different algorithms for missing values imputation "
   ]
  },
  {
   "cell_type": "code",
   "execution_count": 40,
   "metadata": {},
   "outputs": [],
   "source": [
    "import numpy as np\n",
    "from sklearn.impute import KNNImputer\n",
    "from sklearn.experimental import enable_iterative_imputer\n",
    "from sklearn.impute import IterativeImputer\n",
    "from fancyimpute import KNN, NuclearNormMinimization, SoftImpute, BiScaler, IterativeSVD\n",
    "\n",
    "imputer = KNNImputer(n_neighbors=3)\n",
    "#imputer = IterativeImputer(random_state=0)\n",
    "\n",
    "df = pd.DataFrame(columns = data_cols)\n",
    "list = []\n",
    "for i in data:\n",
    "    i = imputer.fit_transform(i)\n",
    "    #i = BiScaler().fit_transform(i)\n",
    "    #i = fast_knn(i.values, k=3)\n",
    "    j = pd.DataFrame(i, columns = data_cols)\n",
    "    list.append(j)\n",
    "    df_imp = pd.concat(list, axis=0,  ignore_index=True)\n",
    "    "
   ]
  },
  {
   "cell_type": "markdown",
   "metadata": {},
   "source": [
    "## Data Normalization"
   ]
  },
  {
   "cell_type": "code",
   "execution_count": 41,
   "metadata": {},
   "outputs": [],
   "source": [
    "from sklearn.preprocessing import StandardScaler\n",
    "std = StandardScaler()\n",
    "#afp = np.append(X_train.values, X_test.values, axis=0)\n",
    "std.fit(df_imp)\n",
    "\n",
    "#X_train = std.transform(X_train)\n",
    "#X_test = std.transform(X_test)\n",
    "df_imp_norm = std.transform(df_imp)\n",
    "df_imp_norm = pd.DataFrame(df_imp_norm, columns = df_imp.columns)\n"
   ]
  },
  {
   "cell_type": "markdown",
   "metadata": {},
   "source": [
    "## Correlation Heatmap"
   ]
  },
  {
   "cell_type": "code",
   "execution_count": 60,
   "metadata": {},
   "outputs": [
    {
     "data": {
      "text/plain": [
       "<matplotlib.axes._subplots.AxesSubplot at 0x7fd3b35a5550>"
      ]
     },
     "execution_count": 60,
     "metadata": {},
     "output_type": "execute_result"
    },
    {
     "data": {
      "image/png": "[encoded data removed]",
      "text/plain": [
       "<Figure size 432x288 with 2 Axes>"
      ]
     },
     "metadata": {
      "needs_background": "light"
     },
     "output_type": "display_data"
    }
   ],
   "source": [
    "import seaborn as sns\n",
    "corr = X_train.corr()\n",
    "sns.heatmap(corr, mask=np.zeros_like(corr, dtype=np.bool), cmap=sns.diverging_palette(220, 10, as_cmap=True), square=True)"
   ]
  },
  {
   "cell_type": "code",
   "execution_count": null,
   "metadata": {},
   "outputs": [],
   "source": []
  },
  {
   "cell_type": "markdown",
   "metadata": {},
   "source": [
    "# Algorithms Experimentation"
   ]
  },
  {
   "cell_type": "markdown",
   "metadata": {},
   "source": [
    "## Decision Tree Regressor "
   ]
  },
  {
   "cell_type": "markdown",
   "metadata": {},
   "source": [
    "#### 1) Tι συμβαινει αν απλα πεταξω ολες τις γραμμες που εχουν nan values"
   ]
  },
  {
   "cell_type": "markdown",
   "metadata": {},
   "source": [
    "##### Σε ολα αυτα τα κελια μπορει αντι του Decision Tree Regressor να μπει οποιος αλγοριθμος θελει καποιος να τεσταρει"
   ]
  },
  {
   "cell_type": "code",
   "execution_count": 90,
   "metadata": {},
   "outputs": [
    {
     "name": "stdout",
     "output_type": "stream",
     "text": [
      "0.8068892757435918\n",
      "375.9697624061207\n",
      "19.389939721570066\n"
     ]
    }
   ],
   "source": [
    "## Decision Tree Regressor for the  Model which uses the configuration variables in order to predict the performance (variable)\n",
    "import matplotlib as mpl\n",
    "import matplotlib.pyplot as plt\n",
    "import numpy as np\n",
    "import pandas as pd\n",
    "from sklearn.model_selection import cross_val_score, train_test_split\n",
    "from sklearn import tree\n",
    "from sklearn.tree import DecisionTreeRegressor, plot_tree\n",
    "from sklearn.ensemble import RandomForestRegressor\n",
    "from sklearn.metrics import r2_score, mean_squared_error\n",
    "\n",
    "data_4 = data_3.dropna()\n",
    "\n",
    "X_train, X_test, y_train, y_test = train_test_split(data_4.drop(columns=['performance', 'served_request','new_performance',\n",
    "                                                                        'request_rate', 'response_time', 'memory' , 'cpu_usage'\n",
    "                             ]),\n",
    "                                                    data_4['performance'],random_state=0)\n",
    "regressor = DecisionTreeRegressor(random_state=0)\n",
    "regressor.fit(X_train, y_train)\n",
    "cross_val_score(regressor, X_train, y_train, cv=10)\n",
    "pred = regressor.predict(X_test)\n",
    "print(r2_score(y_test, pred))\n",
    "print(mean_squared_error(y_test, pred, squared=True))\n",
    "print(mean_squared_error(y_test, pred, squared=False))\n"
   ]
  },
  {
   "cell_type": "code",
   "execution_count": 43,
   "metadata": {},
   "outputs": [
    {
     "data": {
      "text/plain": [
       "((19839, 10), (19925, 10))"
      ]
     },
     "execution_count": 43,
     "metadata": {},
     "output_type": "execute_result"
    }
   ],
   "source": [
    "data_4.shape, df_imp.shape"
   ]
  },
  {
   "cell_type": "markdown",
   "metadata": {},
   "source": [
    "#### 2) Έχοντας κάνει missing values imputation με mean η median"
   ]
  },
  {
   "cell_type": "code",
   "execution_count": 79,
   "metadata": {},
   "outputs": [
    {
     "name": "stdout",
     "output_type": "stream",
     "text": [
      "0.8031357498039511\n",
      "375.966141374176\n",
      "19.38984634735861\n"
     ]
    }
   ],
   "source": [
    "import matplotlib as mpl\n",
    "import matplotlib.pyplot as plt\n",
    "import numpy as np\n",
    "import pandas as pd\n",
    "from sklearn.model_selection import cross_val_score, train_test_split\n",
    "from sklearn import tree\n",
    "from sklearn.tree import DecisionTreeRegressor, plot_tree\n",
    "from sklearn.ensemble import RandomForestRegressor\n",
    "from sklearn.metrics import r2_score, mean_squared_error\n",
    "X_train, X_test, y_train, y_test = train_test_split(df_imp.drop(columns=['performance', 'served_request','new_performance',\n",
    "                                                                        'request_rate', 'response_time', 'memory' , 'cpu_usage'\n",
    "                                                                  ]),\n",
    "                                                    df_imp['performance'],random_state=0)\n",
    "regressor = DecisionTreeRegressor(random_state=0)\n",
    "regressor.fit(X_train, y_train)\n",
    "cross_val_score(regressor, X_train, y_train, cv=10)\n",
    "pred = regressor.predict(X_test)\n",
    "print(r2_score(y_test, pred))\n",
    "print(mean_squared_error(y_test, pred, squared=True))\n",
    "print(mean_squared_error(y_test, pred, squared=False))"
   ]
  },
  {
   "cell_type": "markdown",
   "metadata": {},
   "source": [
    "#### 3) Έχοντας κάνει missing values imputation με mean η median και μετα normalization"
   ]
  },
  {
   "cell_type": "code",
   "execution_count": 94,
   "metadata": {},
   "outputs": [
    {
     "name": "stdout",
     "output_type": "stream",
     "text": [
      "0.8031405785791005\n",
      "0.19334145176167072\n",
      "0.43970609702580965\n"
     ]
    }
   ],
   "source": [
    "X_train, X_test, y_train, y_test = train_test_split(df_imp_norm.drop(columns=['performance', 'served_request',\n",
    "                                                                              'new_performance',\n",
    "                                                                        'request_rate', 'response_time', 'memory' , 'cpu_usage'\n",
    "                                                                  ]),\n",
    "                                                    df_imp_norm['performance'],random_state=0)\n",
    "regressor = RandomForestRegressor(random_state=0)\n",
    "regressor.fit(X_train, y_train)\n",
    "cross_val_score(regressor, X_train, y_train, cv=10)\n",
    "pred = regressor.predict(X_test)\n",
    "print(r2_score(y_test, pred))\n",
    "print(mean_squared_error(y_test, pred, squared=True))\n",
    "print(mean_squared_error(y_test, pred, squared=False))"
   ]
  },
  {
   "cell_type": "code",
   "execution_count": 91,
   "metadata": {},
   "outputs": [
    {
     "data": {
      "image/png": "[encoded data removed]",
      "text/plain": [
       "<Figure size 432x288 with 1 Axes>"
      ]
     },
     "metadata": {
      "needs_background": "light"
     },
     "output_type": "display_data"
    }
   ],
   "source": [
    "fig, ax = plt.subplots()\n",
    "ax.scatter(y_test, pred)\n",
    "ax.plot([y_test.min(), y_test.max()], [y_test.min(), y_test.max()], 'k--', lw=4)\n",
    "ax.set_xlabel('Measured')\n",
    "ax.set_ylabel('Predicted')\n",
    "plt.show()"
   ]
  },
  {
   "cell_type": "code",
   "execution_count": 92,
   "metadata": {},
   "outputs": [
    {
     "data": {
      "image/png": "[encoded data removed]",
      "text/plain": [
       "<Figure size 432x288 with 1 Axes>"
      ]
     },
     "metadata": {
      "needs_background": "light"
     },
     "output_type": "display_data"
    }
   ],
   "source": [
    "from sklearn.model_selection import cross_val_predict\n",
    "predicted = cross_val_predict(regressor, X_train, y_train, cv=10)\n",
    "fig, ax = plt.subplots()\n",
    "ax.scatter(y_test, pred)\n",
    "ax.plot([y_test.min(), y_test.max()], [y_test.min(), y_test.max()], 'k--', lw=4)\n",
    "ax.set_xlabel('Measured')\n",
    "ax.set_ylabel('Predicted')\n",
    "plt.show()"
   ]
  },
  {
   "cell_type": "markdown",
   "metadata": {},
   "source": [
    "### Hyperparameter Tuning"
   ]
  },
  {
   "cell_type": "code",
   "execution_count": 93,
   "metadata": {},
   "outputs": [
    {
     "data": {
      "text/plain": [
       "0.8062562009644425"
      ]
     },
     "execution_count": 93,
     "metadata": {},
     "output_type": "execute_result"
    }
   ],
   "source": [
    "from  sklearn.model_selection import GridSearchCV\n",
    "from sklearn.metrics import make_scorer \n",
    "\n",
    "scoring = make_scorer(r2_score)\n",
    "g_cv = GridSearchCV(DecisionTreeRegressor(random_state=0),scoring=scoring,\n",
    "              param_grid={'min_samples_split': range(2, 10), \n",
    "                          'criterion' :('mse', 'friedman_mse', 'mae'),\n",
    "                         'max_depth':range(1,5)},\n",
    "               cv=5, refit=True)\n",
    "\n",
    "g_cv.fit(X_train, y_train)\n",
    "g_cv.best_params_\n",
    "\n",
    "result = g_cv.cv_results_\n",
    "# print(result)\n",
    "r2_score(y_test, g_cv.best_estimator_.predict(X_test))"
   ]
  },
  {
   "cell_type": "markdown",
   "metadata": {},
   "source": [
    "### Regressor, AdaboostRegressor"
   ]
  },
  {
   "cell_type": "code",
   "execution_count": 95,
   "metadata": {},
   "outputs": [
    {
     "name": "stdout",
     "output_type": "stream",
     "text": [
      "0.8031405785791005\n",
      "0.19334145176167072\n",
      "0.8031405785791005\n",
      "0.19334145176167072\n"
     ]
    }
   ],
   "source": [
    "# importing necessary libraries\n",
    "import numpy as np\n",
    "import matplotlib.pyplot as plt\n",
    "from sklearn.tree import DecisionTreeRegressor\n",
    "from sklearn.ensemble import AdaBoostRegressor\n",
    "\n",
    "\n",
    "# Fit regression model\n",
    "regr_1 = DecisionTreeRegressor(max_depth=4)\n",
    "\n",
    "regr_2 = AdaBoostRegressor(DecisionTreeRegressor(max_depth=4),\n",
    "                          n_estimators=300)\n",
    "\n",
    "regr_1.fit(X_train, y_train)\n",
    "regr_2.fit(X_train, y_train)\n",
    "\n",
    "# Predict\n",
    "y_1 = regr_1.predict(X_test)\n",
    "y_2 = regr_2.predict(X_test)\n",
    "\n",
    "cross_val_score(regr_1, X_train, y_train, cv=10)\n",
    "pred = regressor.predict(X_test)\n",
    "print(r2_score(y_test, pred))\n",
    "print(mean_squared_error(y_test, pred, squared=True))\n",
    "\n",
    "cross_val_score(regr_2, X_train, y_train, cv=10)\n",
    "pred = regressor.predict(X_test)\n",
    "print(r2_score(y_test, pred))\n",
    "print(mean_squared_error(y_test, pred, squared=True))\n",
    "\n"
   ]
  },
  {
   "cell_type": "markdown",
   "metadata": {},
   "source": [
    "# Use a stacking regressor. I have chosen 3 different algorithms but it can be any algorithm (that it can be used for regression). Unfortunatelly this technique does not improve the results. "
   ]
  },
  {
   "cell_type": "code",
   "execution_count": 96,
   "metadata": {},
   "outputs": [
    {
     "name": "stdout",
     "output_type": "stream",
     "text": [
      "0.8031176424791533\n"
     ]
    }
   ],
   "source": [
    "from sklearn.experimental import enable_hist_gradient_boosting  # noqa\n",
    "from sklearn.ensemble import HistGradientBoostingRegressor\n",
    "from sklearn.ensemble import RandomForestRegressor\n",
    "from sklearn.ensemble import StackingRegressor\n",
    "from sklearn.linear_model import LassoCV\n",
    "from sklearn.linear_model import RidgeCV\n",
    "from sklearn.pipeline import make_pipeline\n",
    "\n",
    "\"\"\"lasso_pipeline = make_pipeline(processor_lin,\n",
    "                               LassoCV())\n",
    "\n",
    "rf_pipeline = make_pipeline(processor_nlin,\n",
    "                            RandomForestRegressor(random_state=42))\n",
    "\n",
    "gradient_pipeline = make_pipeline(\n",
    "    processor_nlin,\n",
    "    HistGradientBoostingRegressor(random_state=0))\"\"\"\n",
    "\n",
    "estimators = [('Random Forest', RandomForestRegressor(random_state=42)),\n",
    "              ('Lasso', LassoCV()),\n",
    "              ('Gradient Boosting', HistGradientBoostingRegressor(random_state=0))]\n",
    "\n",
    "stacking_regressor = StackingRegressor(estimators=estimators,\n",
    "                                       final_estimator=RidgeCV())\n",
    "\n",
    "stacking_regressor.fit(X_train, y_train)\n",
    "cross_val_score(stacking_regressor, X_train, y_train, cv=10)\n",
    "pred = stacking_regressor.predict(X_test)\n",
    "print(r2_score(y_test, pred))"
   ]
  },
  {
   "cell_type": "code",
   "execution_count": 98,
   "metadata": {},
   "outputs": [
    {
     "data": {
      "image/png": "[encoded data removed]",
      "text/plain": [
       "<Figure size 648x504 with 4 Axes>"
      ]
     },
     "metadata": {
      "needs_background": "light"
     },
     "output_type": "display_data"
    }
   ],
   "source": [
    "X = df_imp_norm.drop(columns=['performance','new_performance', 'served_request','request_rate', 'response_time', 'memory' , 'cpu_usage'])\n",
    "y = df_imp_norm['performance']\n",
    "            \n",
    "            \n",
    "import time\n",
    "import matplotlib.pyplot as plt\n",
    "from sklearn.model_selection import cross_validate, cross_val_predict\n",
    "\n",
    "\n",
    "def plot_regression_results(ax, y_true, y_pred, title, scores, elapsed_time):\n",
    "    \"\"\"Scatter plot of the predicted vs true targets.\"\"\"\n",
    "    ax.plot([y_true.min(), y_true.max()],\n",
    "            [y_true.min(), y_true.max()],\n",
    "            '--r', linewidth=2)\n",
    "    ax.scatter(y_true, y_pred, alpha=0.2)\n",
    "\n",
    "    ax.spines['top'].set_visible(False)\n",
    "    ax.spines['right'].set_visible(False)\n",
    "    ax.get_xaxis().tick_bottom()\n",
    "    ax.get_yaxis().tick_left()\n",
    "    ax.spines['left'].set_position(('outward', 10))\n",
    "    ax.spines['bottom'].set_position(('outward', 10))\n",
    "    ax.set_xlim([y_true.min(), y_true.max()])\n",
    "    ax.set_ylim([y_true.min(), y_true.max()])\n",
    "    ax.set_xlabel('Measured')\n",
    "    ax.set_ylabel('Predicted')\n",
    "    extra = plt.Rectangle((0, 0), 0, 0, fc=\"w\", fill=False,\n",
    "                          edgecolor='none', linewidth=0)\n",
    "    ax.legend([extra], [scores], loc='upper left')\n",
    "    title = title + '\\n Evaluation in {:.2f} seconds'.format(elapsed_time)\n",
    "    ax.set_title(title)\n",
    "\n",
    "\n",
    "fig, axs = plt.subplots(2, 2, figsize=(9, 7))\n",
    "axs = np.ravel(axs)\n",
    "\n",
    "for ax, (name, est) in zip(axs, estimators + [('Stacking Regressor',\n",
    "                                               stacking_regressor)]):\n",
    "    start_time = time.time()\n",
    "    score = cross_validate(est, X, y,\n",
    "                           scoring=['r2', 'neg_mean_absolute_error'],\n",
    "                           n_jobs=-1, verbose=0)\n",
    "    elapsed_time = time.time() - start_time\n",
    "\n",
    "    y_pred = cross_val_predict(est, X, y, n_jobs=-1, verbose=0)\n",
    "\n",
    "    plot_regression_results(\n",
    "        ax, y, y_pred,\n",
    "        name,\n",
    "        (r'$R^2={:.2f} \\pm {:.2f}$' + '\\n' + r'$MAE={:.2f} \\pm {:.2f}$')\n",
    "        .format(np.mean(score['test_r2']),\n",
    "                np.std(score['test_r2']),\n",
    "                -np.mean(score['test_neg_mean_absolute_error']),\n",
    "                np.std(score['test_neg_mean_absolute_error'])),\n",
    "        elapsed_time)\n",
    "\n",
    "plt.suptitle('Single predictors versus stacked predictors')\n",
    "plt.tight_layout()\n",
    "plt.subplots_adjust(top=0.9)\n",
    "plt.show()"
   ]
  },
  {
   "cell_type": "markdown",
   "metadata": {},
   "source": [
    "### Gradient Boosting Regressor "
   ]
  },
  {
   "cell_type": "code",
   "execution_count": 100,
   "metadata": {},
   "outputs": [
    {
     "name": "stdout",
     "output_type": "stream",
     "text": [
      "0.8030241900747064\n",
      "The mean squared error (MSE) on test set: 0.1935\n"
     ]
    }
   ],
   "source": [
    "## Gradient Boosting Regressor (Metrics as covariates and try to predict performance)\n",
    "from sklearn.ensemble import GradientBoostingRegressor\n",
    "from sklearn.metrics import mean_squared_error\n",
    "from sklearn.ensemble import RandomForestRegressor\n",
    "params = {'n_estimators': 500,\n",
    "          'max_depth': 4,\n",
    "          'min_samples_split': 5,\n",
    "          'learning_rate': 0.01,\n",
    "          'loss': 'ls'}\n",
    "regr = GradientBoostingRegressor(**params)\n",
    "X_train, X_test, y_train, y_test = train_test_split(df_imp_norm.drop(columns=['new_performance','performance', 'served_request',\n",
    "                                                                        'request_rate', 'response_time', 'memory' , 'cpu_usage']),\n",
    "                                                    df_imp_norm['performance'],random_state=0)\n",
    "regr.fit(X_train, y_train)\n",
    "pred = regr.predict(X_test)\n",
    "print(r2_score(y_test, pred))\n",
    "mse = mean_squared_error(y_test, regr.predict(X_test))\n",
    "print(\"The mean squared error (MSE) on test set: {:.4f}\".format(mse))"
   ]
  },
  {
   "cell_type": "code",
   "execution_count": null,
   "metadata": {},
   "outputs": [],
   "source": []
  },
  {
   "cell_type": "code",
   "execution_count": null,
   "metadata": {},
   "outputs": [],
   "source": []
  }
 ],
 "metadata": {
  "kernelspec": {
   "display_name": "Python 3",
   "language": "python",
   "name": "python3"
  },
  "language_info": {
   "codemirror_mode": {
    "name": "ipython",
    "version": 3
   },
   "file_extension": ".py",
   "mimetype": "text/x-python",
   "name": "python",
   "nbconvert_exporter": "python",
   "pygments_lexer": "ipython3",
   "version": "3.7.6"
  }
 },
 "nbformat": 4,
 "nbformat_minor": 4
}
